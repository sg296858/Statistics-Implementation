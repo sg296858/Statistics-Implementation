{
  "nbformat": 4,
  "nbformat_minor": 0,
  "metadata": {
    "colab": {
      "provenance": [],
      "toc_visible": true
    },
    "kernelspec": {
      "name": "python3",
      "display_name": "Python 3"
    },
    "language_info": {
      "name": "python"
    }
  },
  "cells": [
    {
      "cell_type": "markdown",
      "source": [
        "#Statistics Implementation"
      ],
      "metadata": {
        "id": "g3FqT1ieJSu_"
      }
    },
    {
      "cell_type": "code",
      "source": [
        "data=[1,2,3,4,5]\n",
        "data"
      ],
      "metadata": {
        "colab": {
          "base_uri": "https://localhost:8080/"
        },
        "id": "XPta0Xh3JWyz",
        "outputId": "613e907e-76a4-4cf4-e0a8-6b3963d5b53d"
      },
      "execution_count": 1,
      "outputs": [
        {
          "output_type": "execute_result",
          "data": {
            "text/plain": [
              "[1, 2, 3, 4, 5]"
            ]
          },
          "metadata": {},
          "execution_count": 1
        }
      ]
    },
    {
      "cell_type": "code",
      "source": [
        "import numpy as np\n",
        "import pandas as pd\n",
        "import matplotlib.pyplot as plt\n",
        "import seaborn as sns"
      ],
      "metadata": {
        "id": "-mrwybm9K_Ku"
      },
      "execution_count": 2,
      "outputs": []
    },
    {
      "cell_type": "code",
      "source": [
        "#Measures of central tendency"
      ],
      "metadata": {
        "id": "K99fpLCQKlJk"
      },
      "execution_count": 3,
      "outputs": []
    },
    {
      "cell_type": "code",
      "source": [
        "np.mean(data)"
      ],
      "metadata": {
        "colab": {
          "base_uri": "https://localhost:8080/"
        },
        "id": "jXvY67TFL-Pr",
        "outputId": "152c3dd7-c4f9-45bd-d2e6-7e9e741b616f"
      },
      "execution_count": 4,
      "outputs": [
        {
          "output_type": "execute_result",
          "data": {
            "text/plain": [
              "3.0"
            ]
          },
          "metadata": {},
          "execution_count": 4
        }
      ]
    },
    {
      "cell_type": "code",
      "source": [
        "df=pd.DataFrame(data)\n",
        "df"
      ],
      "metadata": {
        "colab": {
          "base_uri": "https://localhost:8080/",
          "height": 206
        },
        "id": "rkKU1eXXLrTG",
        "outputId": "66db65a1-5c9f-472d-aeec-e2101949dd01"
      },
      "execution_count": 5,
      "outputs": [
        {
          "output_type": "execute_result",
          "data": {
            "text/plain": [
              "   0\n",
              "0  1\n",
              "1  2\n",
              "2  3\n",
              "3  4\n",
              "4  5"
            ],
            "text/html": [
              "\n",
              "  <div id=\"df-a6d7070e-75e2-4d0b-9bdd-264c9a500013\" class=\"colab-df-container\">\n",
              "    <div>\n",
              "<style scoped>\n",
              "    .dataframe tbody tr th:only-of-type {\n",
              "        vertical-align: middle;\n",
              "    }\n",
              "\n",
              "    .dataframe tbody tr th {\n",
              "        vertical-align: top;\n",
              "    }\n",
              "\n",
              "    .dataframe thead th {\n",
              "        text-align: right;\n",
              "    }\n",
              "</style>\n",
              "<table border=\"1\" class=\"dataframe\">\n",
              "  <thead>\n",
              "    <tr style=\"text-align: right;\">\n",
              "      <th></th>\n",
              "      <th>0</th>\n",
              "    </tr>\n",
              "  </thead>\n",
              "  <tbody>\n",
              "    <tr>\n",
              "      <th>0</th>\n",
              "      <td>1</td>\n",
              "    </tr>\n",
              "    <tr>\n",
              "      <th>1</th>\n",
              "      <td>2</td>\n",
              "    </tr>\n",
              "    <tr>\n",
              "      <th>2</th>\n",
              "      <td>3</td>\n",
              "    </tr>\n",
              "    <tr>\n",
              "      <th>3</th>\n",
              "      <td>4</td>\n",
              "    </tr>\n",
              "    <tr>\n",
              "      <th>4</th>\n",
              "      <td>5</td>\n",
              "    </tr>\n",
              "  </tbody>\n",
              "</table>\n",
              "</div>\n",
              "    <div class=\"colab-df-buttons\">\n",
              "\n",
              "  <div class=\"colab-df-container\">\n",
              "    <button class=\"colab-df-convert\" onclick=\"convertToInteractive('df-a6d7070e-75e2-4d0b-9bdd-264c9a500013')\"\n",
              "            title=\"Convert this dataframe to an interactive table.\"\n",
              "            style=\"display:none;\">\n",
              "\n",
              "  <svg xmlns=\"http://www.w3.org/2000/svg\" height=\"24px\" viewBox=\"0 -960 960 960\">\n",
              "    <path d=\"M120-120v-720h720v720H120Zm60-500h600v-160H180v160Zm220 220h160v-160H400v160Zm0 220h160v-160H400v160ZM180-400h160v-160H180v160Zm440 0h160v-160H620v160ZM180-180h160v-160H180v160Zm440 0h160v-160H620v160Z\"/>\n",
              "  </svg>\n",
              "    </button>\n",
              "\n",
              "  <style>\n",
              "    .colab-df-container {\n",
              "      display:flex;\n",
              "      gap: 12px;\n",
              "    }\n",
              "\n",
              "    .colab-df-convert {\n",
              "      background-color: #E8F0FE;\n",
              "      border: none;\n",
              "      border-radius: 50%;\n",
              "      cursor: pointer;\n",
              "      display: none;\n",
              "      fill: #1967D2;\n",
              "      height: 32px;\n",
              "      padding: 0 0 0 0;\n",
              "      width: 32px;\n",
              "    }\n",
              "\n",
              "    .colab-df-convert:hover {\n",
              "      background-color: #E2EBFA;\n",
              "      box-shadow: 0px 1px 2px rgba(60, 64, 67, 0.3), 0px 1px 3px 1px rgba(60, 64, 67, 0.15);\n",
              "      fill: #174EA6;\n",
              "    }\n",
              "\n",
              "    .colab-df-buttons div {\n",
              "      margin-bottom: 4px;\n",
              "    }\n",
              "\n",
              "    [theme=dark] .colab-df-convert {\n",
              "      background-color: #3B4455;\n",
              "      fill: #D2E3FC;\n",
              "    }\n",
              "\n",
              "    [theme=dark] .colab-df-convert:hover {\n",
              "      background-color: #434B5C;\n",
              "      box-shadow: 0px 1px 3px 1px rgba(0, 0, 0, 0.15);\n",
              "      filter: drop-shadow(0px 1px 2px rgba(0, 0, 0, 0.3));\n",
              "      fill: #FFFFFF;\n",
              "    }\n",
              "  </style>\n",
              "\n",
              "    <script>\n",
              "      const buttonEl =\n",
              "        document.querySelector('#df-a6d7070e-75e2-4d0b-9bdd-264c9a500013 button.colab-df-convert');\n",
              "      buttonEl.style.display =\n",
              "        google.colab.kernel.accessAllowed ? 'block' : 'none';\n",
              "\n",
              "      async function convertToInteractive(key) {\n",
              "        const element = document.querySelector('#df-a6d7070e-75e2-4d0b-9bdd-264c9a500013');\n",
              "        const dataTable =\n",
              "          await google.colab.kernel.invokeFunction('convertToInteractive',\n",
              "                                                    [key], {});\n",
              "        if (!dataTable) return;\n",
              "\n",
              "        const docLinkHtml = 'Like what you see? Visit the ' +\n",
              "          '<a target=\"_blank\" href=https://colab.research.google.com/notebooks/data_table.ipynb>data table notebook</a>'\n",
              "          + ' to learn more about interactive tables.';\n",
              "        element.innerHTML = '';\n",
              "        dataTable['output_type'] = 'display_data';\n",
              "        await google.colab.output.renderOutput(dataTable, element);\n",
              "        const docLink = document.createElement('div');\n",
              "        docLink.innerHTML = docLinkHtml;\n",
              "        element.appendChild(docLink);\n",
              "      }\n",
              "    </script>\n",
              "  </div>\n",
              "\n",
              "\n",
              "<div id=\"df-794b1be2-3be6-4e42-9b5f-ada2d0430aa6\">\n",
              "  <button class=\"colab-df-quickchart\" onclick=\"quickchart('df-794b1be2-3be6-4e42-9b5f-ada2d0430aa6')\"\n",
              "            title=\"Suggest charts\"\n",
              "            style=\"display:none;\">\n",
              "\n",
              "<svg xmlns=\"http://www.w3.org/2000/svg\" height=\"24px\"viewBox=\"0 0 24 24\"\n",
              "     width=\"24px\">\n",
              "    <g>\n",
              "        <path d=\"M19 3H5c-1.1 0-2 .9-2 2v14c0 1.1.9 2 2 2h14c1.1 0 2-.9 2-2V5c0-1.1-.9-2-2-2zM9 17H7v-7h2v7zm4 0h-2V7h2v10zm4 0h-2v-4h2v4z\"/>\n",
              "    </g>\n",
              "</svg>\n",
              "  </button>\n",
              "\n",
              "<style>\n",
              "  .colab-df-quickchart {\n",
              "      --bg-color: #E8F0FE;\n",
              "      --fill-color: #1967D2;\n",
              "      --hover-bg-color: #E2EBFA;\n",
              "      --hover-fill-color: #174EA6;\n",
              "      --disabled-fill-color: #AAA;\n",
              "      --disabled-bg-color: #DDD;\n",
              "  }\n",
              "\n",
              "  [theme=dark] .colab-df-quickchart {\n",
              "      --bg-color: #3B4455;\n",
              "      --fill-color: #D2E3FC;\n",
              "      --hover-bg-color: #434B5C;\n",
              "      --hover-fill-color: #FFFFFF;\n",
              "      --disabled-bg-color: #3B4455;\n",
              "      --disabled-fill-color: #666;\n",
              "  }\n",
              "\n",
              "  .colab-df-quickchart {\n",
              "    background-color: var(--bg-color);\n",
              "    border: none;\n",
              "    border-radius: 50%;\n",
              "    cursor: pointer;\n",
              "    display: none;\n",
              "    fill: var(--fill-color);\n",
              "    height: 32px;\n",
              "    padding: 0;\n",
              "    width: 32px;\n",
              "  }\n",
              "\n",
              "  .colab-df-quickchart:hover {\n",
              "    background-color: var(--hover-bg-color);\n",
              "    box-shadow: 0 1px 2px rgba(60, 64, 67, 0.3), 0 1px 3px 1px rgba(60, 64, 67, 0.15);\n",
              "    fill: var(--button-hover-fill-color);\n",
              "  }\n",
              "\n",
              "  .colab-df-quickchart-complete:disabled,\n",
              "  .colab-df-quickchart-complete:disabled:hover {\n",
              "    background-color: var(--disabled-bg-color);\n",
              "    fill: var(--disabled-fill-color);\n",
              "    box-shadow: none;\n",
              "  }\n",
              "\n",
              "  .colab-df-spinner {\n",
              "    border: 2px solid var(--fill-color);\n",
              "    border-color: transparent;\n",
              "    border-bottom-color: var(--fill-color);\n",
              "    animation:\n",
              "      spin 1s steps(1) infinite;\n",
              "  }\n",
              "\n",
              "  @keyframes spin {\n",
              "    0% {\n",
              "      border-color: transparent;\n",
              "      border-bottom-color: var(--fill-color);\n",
              "      border-left-color: var(--fill-color);\n",
              "    }\n",
              "    20% {\n",
              "      border-color: transparent;\n",
              "      border-left-color: var(--fill-color);\n",
              "      border-top-color: var(--fill-color);\n",
              "    }\n",
              "    30% {\n",
              "      border-color: transparent;\n",
              "      border-left-color: var(--fill-color);\n",
              "      border-top-color: var(--fill-color);\n",
              "      border-right-color: var(--fill-color);\n",
              "    }\n",
              "    40% {\n",
              "      border-color: transparent;\n",
              "      border-right-color: var(--fill-color);\n",
              "      border-top-color: var(--fill-color);\n",
              "    }\n",
              "    60% {\n",
              "      border-color: transparent;\n",
              "      border-right-color: var(--fill-color);\n",
              "    }\n",
              "    80% {\n",
              "      border-color: transparent;\n",
              "      border-right-color: var(--fill-color);\n",
              "      border-bottom-color: var(--fill-color);\n",
              "    }\n",
              "    90% {\n",
              "      border-color: transparent;\n",
              "      border-bottom-color: var(--fill-color);\n",
              "    }\n",
              "  }\n",
              "</style>\n",
              "\n",
              "  <script>\n",
              "    async function quickchart(key) {\n",
              "      const quickchartButtonEl =\n",
              "        document.querySelector('#' + key + ' button');\n",
              "      quickchartButtonEl.disabled = true;  // To prevent multiple clicks.\n",
              "      quickchartButtonEl.classList.add('colab-df-spinner');\n",
              "      try {\n",
              "        const charts = await google.colab.kernel.invokeFunction(\n",
              "            'suggestCharts', [key], {});\n",
              "      } catch (error) {\n",
              "        console.error('Error during call to suggestCharts:', error);\n",
              "      }\n",
              "      quickchartButtonEl.classList.remove('colab-df-spinner');\n",
              "      quickchartButtonEl.classList.add('colab-df-quickchart-complete');\n",
              "    }\n",
              "    (() => {\n",
              "      let quickchartButtonEl =\n",
              "        document.querySelector('#df-794b1be2-3be6-4e42-9b5f-ada2d0430aa6 button');\n",
              "      quickchartButtonEl.style.display =\n",
              "        google.colab.kernel.accessAllowed ? 'block' : 'none';\n",
              "    })();\n",
              "  </script>\n",
              "</div>\n",
              "\n",
              "  <div id=\"id_64e9a2c5-b6e7-4c86-a797-fc5e0459cfc4\">\n",
              "    <style>\n",
              "      .colab-df-generate {\n",
              "        background-color: #E8F0FE;\n",
              "        border: none;\n",
              "        border-radius: 50%;\n",
              "        cursor: pointer;\n",
              "        display: none;\n",
              "        fill: #1967D2;\n",
              "        height: 32px;\n",
              "        padding: 0 0 0 0;\n",
              "        width: 32px;\n",
              "      }\n",
              "\n",
              "      .colab-df-generate:hover {\n",
              "        background-color: #E2EBFA;\n",
              "        box-shadow: 0px 1px 2px rgba(60, 64, 67, 0.3), 0px 1px 3px 1px rgba(60, 64, 67, 0.15);\n",
              "        fill: #174EA6;\n",
              "      }\n",
              "\n",
              "      [theme=dark] .colab-df-generate {\n",
              "        background-color: #3B4455;\n",
              "        fill: #D2E3FC;\n",
              "      }\n",
              "\n",
              "      [theme=dark] .colab-df-generate:hover {\n",
              "        background-color: #434B5C;\n",
              "        box-shadow: 0px 1px 3px 1px rgba(0, 0, 0, 0.15);\n",
              "        filter: drop-shadow(0px 1px 2px rgba(0, 0, 0, 0.3));\n",
              "        fill: #FFFFFF;\n",
              "      }\n",
              "    </style>\n",
              "    <button class=\"colab-df-generate\" onclick=\"generateWithVariable('df')\"\n",
              "            title=\"Generate code using this dataframe.\"\n",
              "            style=\"display:none;\">\n",
              "\n",
              "  <svg xmlns=\"http://www.w3.org/2000/svg\" height=\"24px\"viewBox=\"0 0 24 24\"\n",
              "       width=\"24px\">\n",
              "    <path d=\"M7,19H8.4L18.45,9,17,7.55,7,17.6ZM5,21V16.75L18.45,3.32a2,2,0,0,1,2.83,0l1.4,1.43a1.91,1.91,0,0,1,.58,1.4,1.91,1.91,0,0,1-.58,1.4L9.25,21ZM18.45,9,17,7.55Zm-12,3A5.31,5.31,0,0,0,4.9,8.1,5.31,5.31,0,0,0,1,6.5,5.31,5.31,0,0,0,4.9,4.9,5.31,5.31,0,0,0,6.5,1,5.31,5.31,0,0,0,8.1,4.9,5.31,5.31,0,0,0,12,6.5,5.46,5.46,0,0,0,6.5,12Z\"/>\n",
              "  </svg>\n",
              "    </button>\n",
              "    <script>\n",
              "      (() => {\n",
              "      const buttonEl =\n",
              "        document.querySelector('#id_64e9a2c5-b6e7-4c86-a797-fc5e0459cfc4 button.colab-df-generate');\n",
              "      buttonEl.style.display =\n",
              "        google.colab.kernel.accessAllowed ? 'block' : 'none';\n",
              "\n",
              "      buttonEl.onclick = () => {\n",
              "        google.colab.notebook.generateWithVariable('df');\n",
              "      }\n",
              "      })();\n",
              "    </script>\n",
              "  </div>\n",
              "\n",
              "    </div>\n",
              "  </div>\n"
            ],
            "application/vnd.google.colaboratory.intrinsic+json": {
              "type": "dataframe",
              "variable_name": "df",
              "summary": "{\n  \"name\": \"df\",\n  \"rows\": 5,\n  \"fields\": [\n    {\n      \"column\": 0,\n      \"properties\": {\n        \"dtype\": \"number\",\n        \"std\": 1,\n        \"min\": 1,\n        \"max\": 5,\n        \"num_unique_values\": 5,\n        \"samples\": [\n          2,\n          5,\n          3\n        ],\n        \"semantic_type\": \"\",\n        \"description\": \"\"\n      }\n    }\n  ]\n}"
            }
          },
          "metadata": {},
          "execution_count": 5
        }
      ]
    },
    {
      "cell_type": "code",
      "source": [
        "df.mean()"
      ],
      "metadata": {
        "colab": {
          "base_uri": "https://localhost:8080/"
        },
        "id": "Ka9YbMzBLwZH",
        "outputId": "9fc81fe5-7793-448b-b331-af142ede762c"
      },
      "execution_count": 6,
      "outputs": [
        {
          "output_type": "execute_result",
          "data": {
            "text/plain": [
              "0    3.0\n",
              "dtype: float64"
            ]
          },
          "metadata": {},
          "execution_count": 6
        }
      ]
    },
    {
      "cell_type": "code",
      "source": [
        "df=sns.load_dataset(\"tips\")\n",
        "df"
      ],
      "metadata": {
        "colab": {
          "base_uri": "https://localhost:8080/",
          "height": 424
        },
        "id": "G_VNpGE_MCOX",
        "outputId": "11b373a7-8031-4330-9bc8-42907039f7ad"
      },
      "execution_count": 7,
      "outputs": [
        {
          "output_type": "execute_result",
          "data": {
            "text/plain": [
              "     total_bill   tip     sex smoker   day    time  size\n",
              "0         16.99  1.01  Female     No   Sun  Dinner     2\n",
              "1         10.34  1.66    Male     No   Sun  Dinner     3\n",
              "2         21.01  3.50    Male     No   Sun  Dinner     3\n",
              "3         23.68  3.31    Male     No   Sun  Dinner     2\n",
              "4         24.59  3.61  Female     No   Sun  Dinner     4\n",
              "..          ...   ...     ...    ...   ...     ...   ...\n",
              "239       29.03  5.92    Male     No   Sat  Dinner     3\n",
              "240       27.18  2.00  Female    Yes   Sat  Dinner     2\n",
              "241       22.67  2.00    Male    Yes   Sat  Dinner     2\n",
              "242       17.82  1.75    Male     No   Sat  Dinner     2\n",
              "243       18.78  3.00  Female     No  Thur  Dinner     2\n",
              "\n",
              "[244 rows x 7 columns]"
            ],
            "text/html": [
              "\n",
              "  <div id=\"df-91a10f6f-04cc-469d-bcfd-d16971baa038\" class=\"colab-df-container\">\n",
              "    <div>\n",
              "<style scoped>\n",
              "    .dataframe tbody tr th:only-of-type {\n",
              "        vertical-align: middle;\n",
              "    }\n",
              "\n",
              "    .dataframe tbody tr th {\n",
              "        vertical-align: top;\n",
              "    }\n",
              "\n",
              "    .dataframe thead th {\n",
              "        text-align: right;\n",
              "    }\n",
              "</style>\n",
              "<table border=\"1\" class=\"dataframe\">\n",
              "  <thead>\n",
              "    <tr style=\"text-align: right;\">\n",
              "      <th></th>\n",
              "      <th>total_bill</th>\n",
              "      <th>tip</th>\n",
              "      <th>sex</th>\n",
              "      <th>smoker</th>\n",
              "      <th>day</th>\n",
              "      <th>time</th>\n",
              "      <th>size</th>\n",
              "    </tr>\n",
              "  </thead>\n",
              "  <tbody>\n",
              "    <tr>\n",
              "      <th>0</th>\n",
              "      <td>16.99</td>\n",
              "      <td>1.01</td>\n",
              "      <td>Female</td>\n",
              "      <td>No</td>\n",
              "      <td>Sun</td>\n",
              "      <td>Dinner</td>\n",
              "      <td>2</td>\n",
              "    </tr>\n",
              "    <tr>\n",
              "      <th>1</th>\n",
              "      <td>10.34</td>\n",
              "      <td>1.66</td>\n",
              "      <td>Male</td>\n",
              "      <td>No</td>\n",
              "      <td>Sun</td>\n",
              "      <td>Dinner</td>\n",
              "      <td>3</td>\n",
              "    </tr>\n",
              "    <tr>\n",
              "      <th>2</th>\n",
              "      <td>21.01</td>\n",
              "      <td>3.50</td>\n",
              "      <td>Male</td>\n",
              "      <td>No</td>\n",
              "      <td>Sun</td>\n",
              "      <td>Dinner</td>\n",
              "      <td>3</td>\n",
              "    </tr>\n",
              "    <tr>\n",
              "      <th>3</th>\n",
              "      <td>23.68</td>\n",
              "      <td>3.31</td>\n",
              "      <td>Male</td>\n",
              "      <td>No</td>\n",
              "      <td>Sun</td>\n",
              "      <td>Dinner</td>\n",
              "      <td>2</td>\n",
              "    </tr>\n",
              "    <tr>\n",
              "      <th>4</th>\n",
              "      <td>24.59</td>\n",
              "      <td>3.61</td>\n",
              "      <td>Female</td>\n",
              "      <td>No</td>\n",
              "      <td>Sun</td>\n",
              "      <td>Dinner</td>\n",
              "      <td>4</td>\n",
              "    </tr>\n",
              "    <tr>\n",
              "      <th>...</th>\n",
              "      <td>...</td>\n",
              "      <td>...</td>\n",
              "      <td>...</td>\n",
              "      <td>...</td>\n",
              "      <td>...</td>\n",
              "      <td>...</td>\n",
              "      <td>...</td>\n",
              "    </tr>\n",
              "    <tr>\n",
              "      <th>239</th>\n",
              "      <td>29.03</td>\n",
              "      <td>5.92</td>\n",
              "      <td>Male</td>\n",
              "      <td>No</td>\n",
              "      <td>Sat</td>\n",
              "      <td>Dinner</td>\n",
              "      <td>3</td>\n",
              "    </tr>\n",
              "    <tr>\n",
              "      <th>240</th>\n",
              "      <td>27.18</td>\n",
              "      <td>2.00</td>\n",
              "      <td>Female</td>\n",
              "      <td>Yes</td>\n",
              "      <td>Sat</td>\n",
              "      <td>Dinner</td>\n",
              "      <td>2</td>\n",
              "    </tr>\n",
              "    <tr>\n",
              "      <th>241</th>\n",
              "      <td>22.67</td>\n",
              "      <td>2.00</td>\n",
              "      <td>Male</td>\n",
              "      <td>Yes</td>\n",
              "      <td>Sat</td>\n",
              "      <td>Dinner</td>\n",
              "      <td>2</td>\n",
              "    </tr>\n",
              "    <tr>\n",
              "      <th>242</th>\n",
              "      <td>17.82</td>\n",
              "      <td>1.75</td>\n",
              "      <td>Male</td>\n",
              "      <td>No</td>\n",
              "      <td>Sat</td>\n",
              "      <td>Dinner</td>\n",
              "      <td>2</td>\n",
              "    </tr>\n",
              "    <tr>\n",
              "      <th>243</th>\n",
              "      <td>18.78</td>\n",
              "      <td>3.00</td>\n",
              "      <td>Female</td>\n",
              "      <td>No</td>\n",
              "      <td>Thur</td>\n",
              "      <td>Dinner</td>\n",
              "      <td>2</td>\n",
              "    </tr>\n",
              "  </tbody>\n",
              "</table>\n",
              "<p>244 rows × 7 columns</p>\n",
              "</div>\n",
              "    <div class=\"colab-df-buttons\">\n",
              "\n",
              "  <div class=\"colab-df-container\">\n",
              "    <button class=\"colab-df-convert\" onclick=\"convertToInteractive('df-91a10f6f-04cc-469d-bcfd-d16971baa038')\"\n",
              "            title=\"Convert this dataframe to an interactive table.\"\n",
              "            style=\"display:none;\">\n",
              "\n",
              "  <svg xmlns=\"http://www.w3.org/2000/svg\" height=\"24px\" viewBox=\"0 -960 960 960\">\n",
              "    <path d=\"M120-120v-720h720v720H120Zm60-500h600v-160H180v160Zm220 220h160v-160H400v160Zm0 220h160v-160H400v160ZM180-400h160v-160H180v160Zm440 0h160v-160H620v160ZM180-180h160v-160H180v160Zm440 0h160v-160H620v160Z\"/>\n",
              "  </svg>\n",
              "    </button>\n",
              "\n",
              "  <style>\n",
              "    .colab-df-container {\n",
              "      display:flex;\n",
              "      gap: 12px;\n",
              "    }\n",
              "\n",
              "    .colab-df-convert {\n",
              "      background-color: #E8F0FE;\n",
              "      border: none;\n",
              "      border-radius: 50%;\n",
              "      cursor: pointer;\n",
              "      display: none;\n",
              "      fill: #1967D2;\n",
              "      height: 32px;\n",
              "      padding: 0 0 0 0;\n",
              "      width: 32px;\n",
              "    }\n",
              "\n",
              "    .colab-df-convert:hover {\n",
              "      background-color: #E2EBFA;\n",
              "      box-shadow: 0px 1px 2px rgba(60, 64, 67, 0.3), 0px 1px 3px 1px rgba(60, 64, 67, 0.15);\n",
              "      fill: #174EA6;\n",
              "    }\n",
              "\n",
              "    .colab-df-buttons div {\n",
              "      margin-bottom: 4px;\n",
              "    }\n",
              "\n",
              "    [theme=dark] .colab-df-convert {\n",
              "      background-color: #3B4455;\n",
              "      fill: #D2E3FC;\n",
              "    }\n",
              "\n",
              "    [theme=dark] .colab-df-convert:hover {\n",
              "      background-color: #434B5C;\n",
              "      box-shadow: 0px 1px 3px 1px rgba(0, 0, 0, 0.15);\n",
              "      filter: drop-shadow(0px 1px 2px rgba(0, 0, 0, 0.3));\n",
              "      fill: #FFFFFF;\n",
              "    }\n",
              "  </style>\n",
              "\n",
              "    <script>\n",
              "      const buttonEl =\n",
              "        document.querySelector('#df-91a10f6f-04cc-469d-bcfd-d16971baa038 button.colab-df-convert');\n",
              "      buttonEl.style.display =\n",
              "        google.colab.kernel.accessAllowed ? 'block' : 'none';\n",
              "\n",
              "      async function convertToInteractive(key) {\n",
              "        const element = document.querySelector('#df-91a10f6f-04cc-469d-bcfd-d16971baa038');\n",
              "        const dataTable =\n",
              "          await google.colab.kernel.invokeFunction('convertToInteractive',\n",
              "                                                    [key], {});\n",
              "        if (!dataTable) return;\n",
              "\n",
              "        const docLinkHtml = 'Like what you see? Visit the ' +\n",
              "          '<a target=\"_blank\" href=https://colab.research.google.com/notebooks/data_table.ipynb>data table notebook</a>'\n",
              "          + ' to learn more about interactive tables.';\n",
              "        element.innerHTML = '';\n",
              "        dataTable['output_type'] = 'display_data';\n",
              "        await google.colab.output.renderOutput(dataTable, element);\n",
              "        const docLink = document.createElement('div');\n",
              "        docLink.innerHTML = docLinkHtml;\n",
              "        element.appendChild(docLink);\n",
              "      }\n",
              "    </script>\n",
              "  </div>\n",
              "\n",
              "\n",
              "<div id=\"df-9ae2129c-d813-4124-9c71-1ed1d0a953e1\">\n",
              "  <button class=\"colab-df-quickchart\" onclick=\"quickchart('df-9ae2129c-d813-4124-9c71-1ed1d0a953e1')\"\n",
              "            title=\"Suggest charts\"\n",
              "            style=\"display:none;\">\n",
              "\n",
              "<svg xmlns=\"http://www.w3.org/2000/svg\" height=\"24px\"viewBox=\"0 0 24 24\"\n",
              "     width=\"24px\">\n",
              "    <g>\n",
              "        <path d=\"M19 3H5c-1.1 0-2 .9-2 2v14c0 1.1.9 2 2 2h14c1.1 0 2-.9 2-2V5c0-1.1-.9-2-2-2zM9 17H7v-7h2v7zm4 0h-2V7h2v10zm4 0h-2v-4h2v4z\"/>\n",
              "    </g>\n",
              "</svg>\n",
              "  </button>\n",
              "\n",
              "<style>\n",
              "  .colab-df-quickchart {\n",
              "      --bg-color: #E8F0FE;\n",
              "      --fill-color: #1967D2;\n",
              "      --hover-bg-color: #E2EBFA;\n",
              "      --hover-fill-color: #174EA6;\n",
              "      --disabled-fill-color: #AAA;\n",
              "      --disabled-bg-color: #DDD;\n",
              "  }\n",
              "\n",
              "  [theme=dark] .colab-df-quickchart {\n",
              "      --bg-color: #3B4455;\n",
              "      --fill-color: #D2E3FC;\n",
              "      --hover-bg-color: #434B5C;\n",
              "      --hover-fill-color: #FFFFFF;\n",
              "      --disabled-bg-color: #3B4455;\n",
              "      --disabled-fill-color: #666;\n",
              "  }\n",
              "\n",
              "  .colab-df-quickchart {\n",
              "    background-color: var(--bg-color);\n",
              "    border: none;\n",
              "    border-radius: 50%;\n",
              "    cursor: pointer;\n",
              "    display: none;\n",
              "    fill: var(--fill-color);\n",
              "    height: 32px;\n",
              "    padding: 0;\n",
              "    width: 32px;\n",
              "  }\n",
              "\n",
              "  .colab-df-quickchart:hover {\n",
              "    background-color: var(--hover-bg-color);\n",
              "    box-shadow: 0 1px 2px rgba(60, 64, 67, 0.3), 0 1px 3px 1px rgba(60, 64, 67, 0.15);\n",
              "    fill: var(--button-hover-fill-color);\n",
              "  }\n",
              "\n",
              "  .colab-df-quickchart-complete:disabled,\n",
              "  .colab-df-quickchart-complete:disabled:hover {\n",
              "    background-color: var(--disabled-bg-color);\n",
              "    fill: var(--disabled-fill-color);\n",
              "    box-shadow: none;\n",
              "  }\n",
              "\n",
              "  .colab-df-spinner {\n",
              "    border: 2px solid var(--fill-color);\n",
              "    border-color: transparent;\n",
              "    border-bottom-color: var(--fill-color);\n",
              "    animation:\n",
              "      spin 1s steps(1) infinite;\n",
              "  }\n",
              "\n",
              "  @keyframes spin {\n",
              "    0% {\n",
              "      border-color: transparent;\n",
              "      border-bottom-color: var(--fill-color);\n",
              "      border-left-color: var(--fill-color);\n",
              "    }\n",
              "    20% {\n",
              "      border-color: transparent;\n",
              "      border-left-color: var(--fill-color);\n",
              "      border-top-color: var(--fill-color);\n",
              "    }\n",
              "    30% {\n",
              "      border-color: transparent;\n",
              "      border-left-color: var(--fill-color);\n",
              "      border-top-color: var(--fill-color);\n",
              "      border-right-color: var(--fill-color);\n",
              "    }\n",
              "    40% {\n",
              "      border-color: transparent;\n",
              "      border-right-color: var(--fill-color);\n",
              "      border-top-color: var(--fill-color);\n",
              "    }\n",
              "    60% {\n",
              "      border-color: transparent;\n",
              "      border-right-color: var(--fill-color);\n",
              "    }\n",
              "    80% {\n",
              "      border-color: transparent;\n",
              "      border-right-color: var(--fill-color);\n",
              "      border-bottom-color: var(--fill-color);\n",
              "    }\n",
              "    90% {\n",
              "      border-color: transparent;\n",
              "      border-bottom-color: var(--fill-color);\n",
              "    }\n",
              "  }\n",
              "</style>\n",
              "\n",
              "  <script>\n",
              "    async function quickchart(key) {\n",
              "      const quickchartButtonEl =\n",
              "        document.querySelector('#' + key + ' button');\n",
              "      quickchartButtonEl.disabled = true;  // To prevent multiple clicks.\n",
              "      quickchartButtonEl.classList.add('colab-df-spinner');\n",
              "      try {\n",
              "        const charts = await google.colab.kernel.invokeFunction(\n",
              "            'suggestCharts', [key], {});\n",
              "      } catch (error) {\n",
              "        console.error('Error during call to suggestCharts:', error);\n",
              "      }\n",
              "      quickchartButtonEl.classList.remove('colab-df-spinner');\n",
              "      quickchartButtonEl.classList.add('colab-df-quickchart-complete');\n",
              "    }\n",
              "    (() => {\n",
              "      let quickchartButtonEl =\n",
              "        document.querySelector('#df-9ae2129c-d813-4124-9c71-1ed1d0a953e1 button');\n",
              "      quickchartButtonEl.style.display =\n",
              "        google.colab.kernel.accessAllowed ? 'block' : 'none';\n",
              "    })();\n",
              "  </script>\n",
              "</div>\n",
              "\n",
              "  <div id=\"id_9e034c5c-ad8e-4cb3-8a37-1561031e43f2\">\n",
              "    <style>\n",
              "      .colab-df-generate {\n",
              "        background-color: #E8F0FE;\n",
              "        border: none;\n",
              "        border-radius: 50%;\n",
              "        cursor: pointer;\n",
              "        display: none;\n",
              "        fill: #1967D2;\n",
              "        height: 32px;\n",
              "        padding: 0 0 0 0;\n",
              "        width: 32px;\n",
              "      }\n",
              "\n",
              "      .colab-df-generate:hover {\n",
              "        background-color: #E2EBFA;\n",
              "        box-shadow: 0px 1px 2px rgba(60, 64, 67, 0.3), 0px 1px 3px 1px rgba(60, 64, 67, 0.15);\n",
              "        fill: #174EA6;\n",
              "      }\n",
              "\n",
              "      [theme=dark] .colab-df-generate {\n",
              "        background-color: #3B4455;\n",
              "        fill: #D2E3FC;\n",
              "      }\n",
              "\n",
              "      [theme=dark] .colab-df-generate:hover {\n",
              "        background-color: #434B5C;\n",
              "        box-shadow: 0px 1px 3px 1px rgba(0, 0, 0, 0.15);\n",
              "        filter: drop-shadow(0px 1px 2px rgba(0, 0, 0, 0.3));\n",
              "        fill: #FFFFFF;\n",
              "      }\n",
              "    </style>\n",
              "    <button class=\"colab-df-generate\" onclick=\"generateWithVariable('df')\"\n",
              "            title=\"Generate code using this dataframe.\"\n",
              "            style=\"display:none;\">\n",
              "\n",
              "  <svg xmlns=\"http://www.w3.org/2000/svg\" height=\"24px\"viewBox=\"0 0 24 24\"\n",
              "       width=\"24px\">\n",
              "    <path d=\"M7,19H8.4L18.45,9,17,7.55,7,17.6ZM5,21V16.75L18.45,3.32a2,2,0,0,1,2.83,0l1.4,1.43a1.91,1.91,0,0,1,.58,1.4,1.91,1.91,0,0,1-.58,1.4L9.25,21ZM18.45,9,17,7.55Zm-12,3A5.31,5.31,0,0,0,4.9,8.1,5.31,5.31,0,0,0,1,6.5,5.31,5.31,0,0,0,4.9,4.9,5.31,5.31,0,0,0,6.5,1,5.31,5.31,0,0,0,8.1,4.9,5.31,5.31,0,0,0,12,6.5,5.46,5.46,0,0,0,6.5,12Z\"/>\n",
              "  </svg>\n",
              "    </button>\n",
              "    <script>\n",
              "      (() => {\n",
              "      const buttonEl =\n",
              "        document.querySelector('#id_9e034c5c-ad8e-4cb3-8a37-1561031e43f2 button.colab-df-generate');\n",
              "      buttonEl.style.display =\n",
              "        google.colab.kernel.accessAllowed ? 'block' : 'none';\n",
              "\n",
              "      buttonEl.onclick = () => {\n",
              "        google.colab.notebook.generateWithVariable('df');\n",
              "      }\n",
              "      })();\n",
              "    </script>\n",
              "  </div>\n",
              "\n",
              "    </div>\n",
              "  </div>\n"
            ],
            "application/vnd.google.colaboratory.intrinsic+json": {
              "type": "dataframe",
              "variable_name": "df",
              "summary": "{\n  \"name\": \"df\",\n  \"rows\": 244,\n  \"fields\": [\n    {\n      \"column\": \"total_bill\",\n      \"properties\": {\n        \"dtype\": \"number\",\n        \"std\": 8.902411954856856,\n        \"min\": 3.07,\n        \"max\": 50.81,\n        \"num_unique_values\": 229,\n        \"samples\": [\n          22.12,\n          20.23,\n          14.78\n        ],\n        \"semantic_type\": \"\",\n        \"description\": \"\"\n      }\n    },\n    {\n      \"column\": \"tip\",\n      \"properties\": {\n        \"dtype\": \"number\",\n        \"std\": 1.3836381890011822,\n        \"min\": 1.0,\n        \"max\": 10.0,\n        \"num_unique_values\": 123,\n        \"samples\": [\n          3.35,\n          1.5,\n          6.73\n        ],\n        \"semantic_type\": \"\",\n        \"description\": \"\"\n      }\n    },\n    {\n      \"column\": \"sex\",\n      \"properties\": {\n        \"dtype\": \"category\",\n        \"num_unique_values\": 2,\n        \"samples\": [\n          \"Male\",\n          \"Female\"\n        ],\n        \"semantic_type\": \"\",\n        \"description\": \"\"\n      }\n    },\n    {\n      \"column\": \"smoker\",\n      \"properties\": {\n        \"dtype\": \"category\",\n        \"num_unique_values\": 2,\n        \"samples\": [\n          \"Yes\",\n          \"No\"\n        ],\n        \"semantic_type\": \"\",\n        \"description\": \"\"\n      }\n    },\n    {\n      \"column\": \"day\",\n      \"properties\": {\n        \"dtype\": \"category\",\n        \"num_unique_values\": 4,\n        \"samples\": [\n          \"Sat\",\n          \"Fri\"\n        ],\n        \"semantic_type\": \"\",\n        \"description\": \"\"\n      }\n    },\n    {\n      \"column\": \"time\",\n      \"properties\": {\n        \"dtype\": \"category\",\n        \"num_unique_values\": 2,\n        \"samples\": [\n          \"Lunch\",\n          \"Dinner\"\n        ],\n        \"semantic_type\": \"\",\n        \"description\": \"\"\n      }\n    },\n    {\n      \"column\": \"size\",\n      \"properties\": {\n        \"dtype\": \"number\",\n        \"std\": 0,\n        \"min\": 1,\n        \"max\": 6,\n        \"num_unique_values\": 6,\n        \"samples\": [\n          2,\n          3\n        ],\n        \"semantic_type\": \"\",\n        \"description\": \"\"\n      }\n    }\n  ]\n}"
            }
          },
          "metadata": {},
          "execution_count": 7
        }
      ]
    },
    {
      "cell_type": "code",
      "source": [
        "df['total_bill'].mean()"
      ],
      "metadata": {
        "colab": {
          "base_uri": "https://localhost:8080/"
        },
        "id": "mfkZcrpBMJW8",
        "outputId": "033508b9-dfae-4ecf-af51-1c4a47d253ba"
      },
      "execution_count": 8,
      "outputs": [
        {
          "output_type": "execute_result",
          "data": {
            "text/plain": [
              "19.78594262295082"
            ]
          },
          "metadata": {},
          "execution_count": 8
        }
      ]
    },
    {
      "cell_type": "code",
      "source": [
        "np.mean(df['total_bill'])"
      ],
      "metadata": {
        "colab": {
          "base_uri": "https://localhost:8080/"
        },
        "id": "BPM1Xe4RMTdQ",
        "outputId": "a951d7a4-4fba-4e47-df76-681c46608806"
      },
      "execution_count": 9,
      "outputs": [
        {
          "output_type": "execute_result",
          "data": {
            "text/plain": [
              "19.78594262295082"
            ]
          },
          "metadata": {},
          "execution_count": 9
        }
      ]
    },
    {
      "cell_type": "code",
      "source": [
        "df.describe()"
      ],
      "metadata": {
        "colab": {
          "base_uri": "https://localhost:8080/",
          "height": 300
        },
        "id": "t8GowNebMX3e",
        "outputId": "f05cc9b8-35ab-47a0-e613-675e3204dc15"
      },
      "execution_count": 10,
      "outputs": [
        {
          "output_type": "execute_result",
          "data": {
            "text/plain": [
              "       total_bill         tip        size\n",
              "count  244.000000  244.000000  244.000000\n",
              "mean    19.785943    2.998279    2.569672\n",
              "std      8.902412    1.383638    0.951100\n",
              "min      3.070000    1.000000    1.000000\n",
              "25%     13.347500    2.000000    2.000000\n",
              "50%     17.795000    2.900000    2.000000\n",
              "75%     24.127500    3.562500    3.000000\n",
              "max     50.810000   10.000000    6.000000"
            ],
            "text/html": [
              "\n",
              "  <div id=\"df-ff360313-a824-4620-8be2-c81d028e9fb2\" class=\"colab-df-container\">\n",
              "    <div>\n",
              "<style scoped>\n",
              "    .dataframe tbody tr th:only-of-type {\n",
              "        vertical-align: middle;\n",
              "    }\n",
              "\n",
              "    .dataframe tbody tr th {\n",
              "        vertical-align: top;\n",
              "    }\n",
              "\n",
              "    .dataframe thead th {\n",
              "        text-align: right;\n",
              "    }\n",
              "</style>\n",
              "<table border=\"1\" class=\"dataframe\">\n",
              "  <thead>\n",
              "    <tr style=\"text-align: right;\">\n",
              "      <th></th>\n",
              "      <th>total_bill</th>\n",
              "      <th>tip</th>\n",
              "      <th>size</th>\n",
              "    </tr>\n",
              "  </thead>\n",
              "  <tbody>\n",
              "    <tr>\n",
              "      <th>count</th>\n",
              "      <td>244.000000</td>\n",
              "      <td>244.000000</td>\n",
              "      <td>244.000000</td>\n",
              "    </tr>\n",
              "    <tr>\n",
              "      <th>mean</th>\n",
              "      <td>19.785943</td>\n",
              "      <td>2.998279</td>\n",
              "      <td>2.569672</td>\n",
              "    </tr>\n",
              "    <tr>\n",
              "      <th>std</th>\n",
              "      <td>8.902412</td>\n",
              "      <td>1.383638</td>\n",
              "      <td>0.951100</td>\n",
              "    </tr>\n",
              "    <tr>\n",
              "      <th>min</th>\n",
              "      <td>3.070000</td>\n",
              "      <td>1.000000</td>\n",
              "      <td>1.000000</td>\n",
              "    </tr>\n",
              "    <tr>\n",
              "      <th>25%</th>\n",
              "      <td>13.347500</td>\n",
              "      <td>2.000000</td>\n",
              "      <td>2.000000</td>\n",
              "    </tr>\n",
              "    <tr>\n",
              "      <th>50%</th>\n",
              "      <td>17.795000</td>\n",
              "      <td>2.900000</td>\n",
              "      <td>2.000000</td>\n",
              "    </tr>\n",
              "    <tr>\n",
              "      <th>75%</th>\n",
              "      <td>24.127500</td>\n",
              "      <td>3.562500</td>\n",
              "      <td>3.000000</td>\n",
              "    </tr>\n",
              "    <tr>\n",
              "      <th>max</th>\n",
              "      <td>50.810000</td>\n",
              "      <td>10.000000</td>\n",
              "      <td>6.000000</td>\n",
              "    </tr>\n",
              "  </tbody>\n",
              "</table>\n",
              "</div>\n",
              "    <div class=\"colab-df-buttons\">\n",
              "\n",
              "  <div class=\"colab-df-container\">\n",
              "    <button class=\"colab-df-convert\" onclick=\"convertToInteractive('df-ff360313-a824-4620-8be2-c81d028e9fb2')\"\n",
              "            title=\"Convert this dataframe to an interactive table.\"\n",
              "            style=\"display:none;\">\n",
              "\n",
              "  <svg xmlns=\"http://www.w3.org/2000/svg\" height=\"24px\" viewBox=\"0 -960 960 960\">\n",
              "    <path d=\"M120-120v-720h720v720H120Zm60-500h600v-160H180v160Zm220 220h160v-160H400v160Zm0 220h160v-160H400v160ZM180-400h160v-160H180v160Zm440 0h160v-160H620v160ZM180-180h160v-160H180v160Zm440 0h160v-160H620v160Z\"/>\n",
              "  </svg>\n",
              "    </button>\n",
              "\n",
              "  <style>\n",
              "    .colab-df-container {\n",
              "      display:flex;\n",
              "      gap: 12px;\n",
              "    }\n",
              "\n",
              "    .colab-df-convert {\n",
              "      background-color: #E8F0FE;\n",
              "      border: none;\n",
              "      border-radius: 50%;\n",
              "      cursor: pointer;\n",
              "      display: none;\n",
              "      fill: #1967D2;\n",
              "      height: 32px;\n",
              "      padding: 0 0 0 0;\n",
              "      width: 32px;\n",
              "    }\n",
              "\n",
              "    .colab-df-convert:hover {\n",
              "      background-color: #E2EBFA;\n",
              "      box-shadow: 0px 1px 2px rgba(60, 64, 67, 0.3), 0px 1px 3px 1px rgba(60, 64, 67, 0.15);\n",
              "      fill: #174EA6;\n",
              "    }\n",
              "\n",
              "    .colab-df-buttons div {\n",
              "      margin-bottom: 4px;\n",
              "    }\n",
              "\n",
              "    [theme=dark] .colab-df-convert {\n",
              "      background-color: #3B4455;\n",
              "      fill: #D2E3FC;\n",
              "    }\n",
              "\n",
              "    [theme=dark] .colab-df-convert:hover {\n",
              "      background-color: #434B5C;\n",
              "      box-shadow: 0px 1px 3px 1px rgba(0, 0, 0, 0.15);\n",
              "      filter: drop-shadow(0px 1px 2px rgba(0, 0, 0, 0.3));\n",
              "      fill: #FFFFFF;\n",
              "    }\n",
              "  </style>\n",
              "\n",
              "    <script>\n",
              "      const buttonEl =\n",
              "        document.querySelector('#df-ff360313-a824-4620-8be2-c81d028e9fb2 button.colab-df-convert');\n",
              "      buttonEl.style.display =\n",
              "        google.colab.kernel.accessAllowed ? 'block' : 'none';\n",
              "\n",
              "      async function convertToInteractive(key) {\n",
              "        const element = document.querySelector('#df-ff360313-a824-4620-8be2-c81d028e9fb2');\n",
              "        const dataTable =\n",
              "          await google.colab.kernel.invokeFunction('convertToInteractive',\n",
              "                                                    [key], {});\n",
              "        if (!dataTable) return;\n",
              "\n",
              "        const docLinkHtml = 'Like what you see? Visit the ' +\n",
              "          '<a target=\"_blank\" href=https://colab.research.google.com/notebooks/data_table.ipynb>data table notebook</a>'\n",
              "          + ' to learn more about interactive tables.';\n",
              "        element.innerHTML = '';\n",
              "        dataTable['output_type'] = 'display_data';\n",
              "        await google.colab.output.renderOutput(dataTable, element);\n",
              "        const docLink = document.createElement('div');\n",
              "        docLink.innerHTML = docLinkHtml;\n",
              "        element.appendChild(docLink);\n",
              "      }\n",
              "    </script>\n",
              "  </div>\n",
              "\n",
              "\n",
              "<div id=\"df-9f481463-f781-461b-b8ac-3e9bfaf36d61\">\n",
              "  <button class=\"colab-df-quickchart\" onclick=\"quickchart('df-9f481463-f781-461b-b8ac-3e9bfaf36d61')\"\n",
              "            title=\"Suggest charts\"\n",
              "            style=\"display:none;\">\n",
              "\n",
              "<svg xmlns=\"http://www.w3.org/2000/svg\" height=\"24px\"viewBox=\"0 0 24 24\"\n",
              "     width=\"24px\">\n",
              "    <g>\n",
              "        <path d=\"M19 3H5c-1.1 0-2 .9-2 2v14c0 1.1.9 2 2 2h14c1.1 0 2-.9 2-2V5c0-1.1-.9-2-2-2zM9 17H7v-7h2v7zm4 0h-2V7h2v10zm4 0h-2v-4h2v4z\"/>\n",
              "    </g>\n",
              "</svg>\n",
              "  </button>\n",
              "\n",
              "<style>\n",
              "  .colab-df-quickchart {\n",
              "      --bg-color: #E8F0FE;\n",
              "      --fill-color: #1967D2;\n",
              "      --hover-bg-color: #E2EBFA;\n",
              "      --hover-fill-color: #174EA6;\n",
              "      --disabled-fill-color: #AAA;\n",
              "      --disabled-bg-color: #DDD;\n",
              "  }\n",
              "\n",
              "  [theme=dark] .colab-df-quickchart {\n",
              "      --bg-color: #3B4455;\n",
              "      --fill-color: #D2E3FC;\n",
              "      --hover-bg-color: #434B5C;\n",
              "      --hover-fill-color: #FFFFFF;\n",
              "      --disabled-bg-color: #3B4455;\n",
              "      --disabled-fill-color: #666;\n",
              "  }\n",
              "\n",
              "  .colab-df-quickchart {\n",
              "    background-color: var(--bg-color);\n",
              "    border: none;\n",
              "    border-radius: 50%;\n",
              "    cursor: pointer;\n",
              "    display: none;\n",
              "    fill: var(--fill-color);\n",
              "    height: 32px;\n",
              "    padding: 0;\n",
              "    width: 32px;\n",
              "  }\n",
              "\n",
              "  .colab-df-quickchart:hover {\n",
              "    background-color: var(--hover-bg-color);\n",
              "    box-shadow: 0 1px 2px rgba(60, 64, 67, 0.3), 0 1px 3px 1px rgba(60, 64, 67, 0.15);\n",
              "    fill: var(--button-hover-fill-color);\n",
              "  }\n",
              "\n",
              "  .colab-df-quickchart-complete:disabled,\n",
              "  .colab-df-quickchart-complete:disabled:hover {\n",
              "    background-color: var(--disabled-bg-color);\n",
              "    fill: var(--disabled-fill-color);\n",
              "    box-shadow: none;\n",
              "  }\n",
              "\n",
              "  .colab-df-spinner {\n",
              "    border: 2px solid var(--fill-color);\n",
              "    border-color: transparent;\n",
              "    border-bottom-color: var(--fill-color);\n",
              "    animation:\n",
              "      spin 1s steps(1) infinite;\n",
              "  }\n",
              "\n",
              "  @keyframes spin {\n",
              "    0% {\n",
              "      border-color: transparent;\n",
              "      border-bottom-color: var(--fill-color);\n",
              "      border-left-color: var(--fill-color);\n",
              "    }\n",
              "    20% {\n",
              "      border-color: transparent;\n",
              "      border-left-color: var(--fill-color);\n",
              "      border-top-color: var(--fill-color);\n",
              "    }\n",
              "    30% {\n",
              "      border-color: transparent;\n",
              "      border-left-color: var(--fill-color);\n",
              "      border-top-color: var(--fill-color);\n",
              "      border-right-color: var(--fill-color);\n",
              "    }\n",
              "    40% {\n",
              "      border-color: transparent;\n",
              "      border-right-color: var(--fill-color);\n",
              "      border-top-color: var(--fill-color);\n",
              "    }\n",
              "    60% {\n",
              "      border-color: transparent;\n",
              "      border-right-color: var(--fill-color);\n",
              "    }\n",
              "    80% {\n",
              "      border-color: transparent;\n",
              "      border-right-color: var(--fill-color);\n",
              "      border-bottom-color: var(--fill-color);\n",
              "    }\n",
              "    90% {\n",
              "      border-color: transparent;\n",
              "      border-bottom-color: var(--fill-color);\n",
              "    }\n",
              "  }\n",
              "</style>\n",
              "\n",
              "  <script>\n",
              "    async function quickchart(key) {\n",
              "      const quickchartButtonEl =\n",
              "        document.querySelector('#' + key + ' button');\n",
              "      quickchartButtonEl.disabled = true;  // To prevent multiple clicks.\n",
              "      quickchartButtonEl.classList.add('colab-df-spinner');\n",
              "      try {\n",
              "        const charts = await google.colab.kernel.invokeFunction(\n",
              "            'suggestCharts', [key], {});\n",
              "      } catch (error) {\n",
              "        console.error('Error during call to suggestCharts:', error);\n",
              "      }\n",
              "      quickchartButtonEl.classList.remove('colab-df-spinner');\n",
              "      quickchartButtonEl.classList.add('colab-df-quickchart-complete');\n",
              "    }\n",
              "    (() => {\n",
              "      let quickchartButtonEl =\n",
              "        document.querySelector('#df-9f481463-f781-461b-b8ac-3e9bfaf36d61 button');\n",
              "      quickchartButtonEl.style.display =\n",
              "        google.colab.kernel.accessAllowed ? 'block' : 'none';\n",
              "    })();\n",
              "  </script>\n",
              "</div>\n",
              "\n",
              "    </div>\n",
              "  </div>\n"
            ],
            "application/vnd.google.colaboratory.intrinsic+json": {
              "type": "dataframe",
              "summary": "{\n  \"name\": \"df\",\n  \"rows\": 8,\n  \"fields\": [\n    {\n      \"column\": \"total_bill\",\n      \"properties\": {\n        \"dtype\": \"number\",\n        \"std\": 80.57800601480773,\n        \"min\": 3.07,\n        \"max\": 244.0,\n        \"num_unique_values\": 8,\n        \"samples\": [\n          19.78594262295082,\n          17.795,\n          244.0\n        ],\n        \"semantic_type\": \"\",\n        \"description\": \"\"\n      }\n    },\n    {\n      \"column\": \"tip\",\n      \"properties\": {\n        \"dtype\": \"number\",\n        \"std\": 85.10953159599222,\n        \"min\": 1.0,\n        \"max\": 244.0,\n        \"num_unique_values\": 8,\n        \"samples\": [\n          2.99827868852459,\n          2.9,\n          244.0\n        ],\n        \"semantic_type\": \"\",\n        \"description\": \"\"\n      }\n    },\n    {\n      \"column\": \"size\",\n      \"properties\": {\n        \"dtype\": \"number\",\n        \"std\": 85.39686221774683,\n        \"min\": 0.9510998047322344,\n        \"max\": 244.0,\n        \"num_unique_values\": 7,\n        \"samples\": [\n          244.0,\n          2.569672131147541,\n          3.0\n        ],\n        \"semantic_type\": \"\",\n        \"description\": \"\"\n      }\n    }\n  ]\n}"
            }
          },
          "metadata": {},
          "execution_count": 10
        }
      ]
    },
    {
      "cell_type": "code",
      "source": [
        "np.median(df['total_bill'])"
      ],
      "metadata": {
        "colab": {
          "base_uri": "https://localhost:8080/"
        },
        "id": "C1aoYGTUMbOp",
        "outputId": "41887f12-5600-46ea-f87a-ba624fb9da4d"
      },
      "execution_count": 11,
      "outputs": [
        {
          "output_type": "execute_result",
          "data": {
            "text/plain": [
              "17.795"
            ]
          },
          "metadata": {},
          "execution_count": 11
        }
      ]
    },
    {
      "cell_type": "code",
      "source": [
        "data=[1,2,3,4,5,500] #Mean is inflated by outliers\n",
        "np.mean(data)"
      ],
      "metadata": {
        "colab": {
          "base_uri": "https://localhost:8080/"
        },
        "id": "nn4CJid4MfLl",
        "outputId": "d303ac6a-b6dd-4aeb-9196-1efb88654a4f"
      },
      "execution_count": 12,
      "outputs": [
        {
          "output_type": "execute_result",
          "data": {
            "text/plain": [
              "85.83333333333333"
            ]
          },
          "metadata": {},
          "execution_count": 12
        }
      ]
    },
    {
      "cell_type": "code",
      "source": [
        "np.median(data) #Median has no effect on outliers"
      ],
      "metadata": {
        "colab": {
          "base_uri": "https://localhost:8080/"
        },
        "id": "Ezb-0N1dMv6L",
        "outputId": "969bb934-24a6-4d2d-f83f-627177654a3f"
      },
      "execution_count": 13,
      "outputs": [
        {
          "output_type": "execute_result",
          "data": {
            "text/plain": [
              "3.5"
            ]
          },
          "metadata": {},
          "execution_count": 13
        }
      ]
    },
    {
      "cell_type": "code",
      "source": [
        "data=[1,2,3,4,5,5,3,3,3]\n",
        "X=pd.DataFrame(data)\n",
        "X.mode()"
      ],
      "metadata": {
        "colab": {
          "base_uri": "https://localhost:8080/",
          "height": 81
        },
        "id": "o2gfDub6M_gP",
        "outputId": "8412f921-68f8-461b-ed6e-3458c002e391"
      },
      "execution_count": 14,
      "outputs": [
        {
          "output_type": "execute_result",
          "data": {
            "text/plain": [
              "   0\n",
              "0  3"
            ],
            "text/html": [
              "\n",
              "  <div id=\"df-447c20df-a2d8-4e4a-97c6-38dd83f393ab\" class=\"colab-df-container\">\n",
              "    <div>\n",
              "<style scoped>\n",
              "    .dataframe tbody tr th:only-of-type {\n",
              "        vertical-align: middle;\n",
              "    }\n",
              "\n",
              "    .dataframe tbody tr th {\n",
              "        vertical-align: top;\n",
              "    }\n",
              "\n",
              "    .dataframe thead th {\n",
              "        text-align: right;\n",
              "    }\n",
              "</style>\n",
              "<table border=\"1\" class=\"dataframe\">\n",
              "  <thead>\n",
              "    <tr style=\"text-align: right;\">\n",
              "      <th></th>\n",
              "      <th>0</th>\n",
              "    </tr>\n",
              "  </thead>\n",
              "  <tbody>\n",
              "    <tr>\n",
              "      <th>0</th>\n",
              "      <td>3</td>\n",
              "    </tr>\n",
              "  </tbody>\n",
              "</table>\n",
              "</div>\n",
              "    <div class=\"colab-df-buttons\">\n",
              "\n",
              "  <div class=\"colab-df-container\">\n",
              "    <button class=\"colab-df-convert\" onclick=\"convertToInteractive('df-447c20df-a2d8-4e4a-97c6-38dd83f393ab')\"\n",
              "            title=\"Convert this dataframe to an interactive table.\"\n",
              "            style=\"display:none;\">\n",
              "\n",
              "  <svg xmlns=\"http://www.w3.org/2000/svg\" height=\"24px\" viewBox=\"0 -960 960 960\">\n",
              "    <path d=\"M120-120v-720h720v720H120Zm60-500h600v-160H180v160Zm220 220h160v-160H400v160Zm0 220h160v-160H400v160ZM180-400h160v-160H180v160Zm440 0h160v-160H620v160ZM180-180h160v-160H180v160Zm440 0h160v-160H620v160Z\"/>\n",
              "  </svg>\n",
              "    </button>\n",
              "\n",
              "  <style>\n",
              "    .colab-df-container {\n",
              "      display:flex;\n",
              "      gap: 12px;\n",
              "    }\n",
              "\n",
              "    .colab-df-convert {\n",
              "      background-color: #E8F0FE;\n",
              "      border: none;\n",
              "      border-radius: 50%;\n",
              "      cursor: pointer;\n",
              "      display: none;\n",
              "      fill: #1967D2;\n",
              "      height: 32px;\n",
              "      padding: 0 0 0 0;\n",
              "      width: 32px;\n",
              "    }\n",
              "\n",
              "    .colab-df-convert:hover {\n",
              "      background-color: #E2EBFA;\n",
              "      box-shadow: 0px 1px 2px rgba(60, 64, 67, 0.3), 0px 1px 3px 1px rgba(60, 64, 67, 0.15);\n",
              "      fill: #174EA6;\n",
              "    }\n",
              "\n",
              "    .colab-df-buttons div {\n",
              "      margin-bottom: 4px;\n",
              "    }\n",
              "\n",
              "    [theme=dark] .colab-df-convert {\n",
              "      background-color: #3B4455;\n",
              "      fill: #D2E3FC;\n",
              "    }\n",
              "\n",
              "    [theme=dark] .colab-df-convert:hover {\n",
              "      background-color: #434B5C;\n",
              "      box-shadow: 0px 1px 3px 1px rgba(0, 0, 0, 0.15);\n",
              "      filter: drop-shadow(0px 1px 2px rgba(0, 0, 0, 0.3));\n",
              "      fill: #FFFFFF;\n",
              "    }\n",
              "  </style>\n",
              "\n",
              "    <script>\n",
              "      const buttonEl =\n",
              "        document.querySelector('#df-447c20df-a2d8-4e4a-97c6-38dd83f393ab button.colab-df-convert');\n",
              "      buttonEl.style.display =\n",
              "        google.colab.kernel.accessAllowed ? 'block' : 'none';\n",
              "\n",
              "      async function convertToInteractive(key) {\n",
              "        const element = document.querySelector('#df-447c20df-a2d8-4e4a-97c6-38dd83f393ab');\n",
              "        const dataTable =\n",
              "          await google.colab.kernel.invokeFunction('convertToInteractive',\n",
              "                                                    [key], {});\n",
              "        if (!dataTable) return;\n",
              "\n",
              "        const docLinkHtml = 'Like what you see? Visit the ' +\n",
              "          '<a target=\"_blank\" href=https://colab.research.google.com/notebooks/data_table.ipynb>data table notebook</a>'\n",
              "          + ' to learn more about interactive tables.';\n",
              "        element.innerHTML = '';\n",
              "        dataTable['output_type'] = 'display_data';\n",
              "        await google.colab.output.renderOutput(dataTable, element);\n",
              "        const docLink = document.createElement('div');\n",
              "        docLink.innerHTML = docLinkHtml;\n",
              "        element.appendChild(docLink);\n",
              "      }\n",
              "    </script>\n",
              "  </div>\n",
              "\n",
              "\n",
              "    </div>\n",
              "  </div>\n"
            ],
            "application/vnd.google.colaboratory.intrinsic+json": {
              "type": "dataframe",
              "summary": "{\n  \"name\": \"X\",\n  \"rows\": 1,\n  \"fields\": [\n    {\n      \"column\": 0,\n      \"properties\": {\n        \"dtype\": \"number\",\n        \"std\": null,\n        \"min\": 3,\n        \"max\": 3,\n        \"num_unique_values\": 1,\n        \"samples\": [\n          3\n        ],\n        \"semantic_type\": \"\",\n        \"description\": \"\"\n      }\n    }\n  ]\n}"
            }
          },
          "metadata": {},
          "execution_count": 14
        }
      ]
    },
    {
      "cell_type": "code",
      "source": [
        "import statistics\n",
        "statistics.mode(data)"
      ],
      "metadata": {
        "colab": {
          "base_uri": "https://localhost:8080/"
        },
        "id": "sQY4f08hN8T2",
        "outputId": "d70dbbde-fbe7-40a5-a900-0776ab2eadc7"
      },
      "execution_count": 15,
      "outputs": [
        {
          "output_type": "execute_result",
          "data": {
            "text/plain": [
              "3"
            ]
          },
          "metadata": {},
          "execution_count": 15
        }
      ]
    },
    {
      "cell_type": "code",
      "source": [
        "np.percentile(data,[25]) #25 percentile of data is below 3.0"
      ],
      "metadata": {
        "colab": {
          "base_uri": "https://localhost:8080/"
        },
        "id": "3TlyRcFDOIoS",
        "outputId": "5e0875e6-b750-4259-d199-19fe8dc200c1"
      },
      "execution_count": 16,
      "outputs": [
        {
          "output_type": "execute_result",
          "data": {
            "text/plain": [
              "array([3.])"
            ]
          },
          "metadata": {},
          "execution_count": 16
        }
      ]
    },
    {
      "cell_type": "code",
      "source": [
        "np.percentile(data,[25,50,75,95,96])"
      ],
      "metadata": {
        "colab": {
          "base_uri": "https://localhost:8080/"
        },
        "id": "lwHlUYhCOoCr",
        "outputId": "70ac7b2c-9410-43b3-a3c9-b258dab04e76"
      },
      "execution_count": 17,
      "outputs": [
        {
          "output_type": "execute_result",
          "data": {
            "text/plain": [
              "array([3., 3., 4., 5., 5.])"
            ]
          },
          "metadata": {},
          "execution_count": 17
        }
      ]
    },
    {
      "cell_type": "code",
      "source": [
        "data.append(-500)"
      ],
      "metadata": {
        "id": "nG6tt7i8Pdpq"
      },
      "execution_count": 18,
      "outputs": []
    },
    {
      "cell_type": "code",
      "source": [
        "data"
      ],
      "metadata": {
        "colab": {
          "base_uri": "https://localhost:8080/"
        },
        "id": "f3Z75nx1Piiq",
        "outputId": "10246f35-c3e2-45bf-9517-f80741f6d4fa"
      },
      "execution_count": 19,
      "outputs": [
        {
          "output_type": "execute_result",
          "data": {
            "text/plain": [
              "[1, 2, 3, 4, 5, 5, 3, 3, 3, -500]"
            ]
          },
          "metadata": {},
          "execution_count": 19
        }
      ]
    },
    {
      "cell_type": "code",
      "source": [
        "#-500 outliers"
      ],
      "metadata": {
        "id": "r0r4z80DPh_I"
      },
      "execution_count": 20,
      "outputs": []
    },
    {
      "cell_type": "code",
      "source": [
        "sns.boxplot(data)"
      ],
      "metadata": {
        "colab": {
          "base_uri": "https://localhost:8080/",
          "height": 428
        },
        "id": "qtk5v-PtP_mt",
        "outputId": "24447fe0-0369-44f3-a426-2b0a0f98db70"
      },
      "execution_count": 21,
      "outputs": [
        {
          "output_type": "execute_result",
          "data": {
            "text/plain": [
              "<Axes: >"
            ]
          },
          "metadata": {},
          "execution_count": 21
        },
        {
          "output_type": "display_data",
          "data": {
            "text/plain": [
              "<Figure size 640x480 with 1 Axes>"
            ],
            "image/png": "[encoded data removed]"
          },
          "metadata": {}
        }
      ]
    },
    {
      "cell_type": "code",
      "source": [
        "sns.boxplot(df['total_bill'])"
      ],
      "metadata": {
        "colab": {
          "base_uri": "https://localhost:8080/",
          "height": 428
        },
        "id": "EAzlFk5RPovV",
        "outputId": "fa7cd43d-b0e3-451d-c827-9ec05538f03b"
      },
      "execution_count": 22,
      "outputs": [
        {
          "output_type": "execute_result",
          "data": {
            "text/plain": [
              "<Axes: ylabel='total_bill'>"
            ]
          },
          "metadata": {},
          "execution_count": 22
        },
        {
          "output_type": "display_data",
          "data": {
            "text/plain": [
              "<Figure size 640x480 with 1 Axes>"
            ],
            "image/png": "[encoded data removed]"
          },
          "metadata": {}
        }
      ]
    },
    {
      "cell_type": "code",
      "source": [
        "#Measures of dispersion"
      ],
      "metadata": {
        "id": "1KxCER_tQFZ2"
      },
      "execution_count": 23,
      "outputs": []
    },
    {
      "cell_type": "code",
      "source": [
        "np.var(data)"
      ],
      "metadata": {
        "colab": {
          "base_uri": "https://localhost:8080/"
        },
        "id": "-M--NB52QZXx",
        "outputId": "061814d4-6c59-4136-e4e0-10757e4e4509"
      },
      "execution_count": 24,
      "outputs": [
        {
          "output_type": "execute_result",
          "data": {
            "text/plain": [
              "22792.289999999997"
            ]
          },
          "metadata": {},
          "execution_count": 24
        }
      ]
    },
    {
      "cell_type": "code",
      "source": [
        "np.std(data)"
      ],
      "metadata": {
        "colab": {
          "base_uri": "https://localhost:8080/"
        },
        "id": "KyKI_50AQg2R",
        "outputId": "5be5cd7f-36de-4fd0-d597-2a60fba8182a"
      },
      "execution_count": 25,
      "outputs": [
        {
          "output_type": "execute_result",
          "data": {
            "text/plain": [
              "150.97115618554426"
            ]
          },
          "metadata": {},
          "execution_count": 25
        }
      ]
    },
    {
      "cell_type": "code",
      "source": [
        "statistics.variance((data)) #Sample variance"
      ],
      "metadata": {
        "colab": {
          "base_uri": "https://localhost:8080/"
        },
        "id": "TByet7h5Qjc_",
        "outputId": "1cf46a15-ce2d-486b-961e-87fea5d5db1f"
      },
      "execution_count": 26,
      "outputs": [
        {
          "output_type": "execute_result",
          "data": {
            "text/plain": [
              "25324.766666666666"
            ]
          },
          "metadata": {},
          "execution_count": 26
        }
      ]
    },
    {
      "cell_type": "code",
      "source": [
        "statistics.pvariance(data) #Population variance"
      ],
      "metadata": {
        "colab": {
          "base_uri": "https://localhost:8080/"
        },
        "id": "9vlOgftBRJI1",
        "outputId": "36b005a8-8d05-4d95-f4fc-a940e41cb886"
      },
      "execution_count": 27,
      "outputs": [
        {
          "output_type": "execute_result",
          "data": {
            "text/plain": [
              "22792.29"
            ]
          },
          "metadata": {},
          "execution_count": 27
        }
      ]
    },
    {
      "cell_type": "code",
      "source": [
        "import math\n",
        "math.sqrt(statistics.variance(data))"
      ],
      "metadata": {
        "colab": {
          "base_uri": "https://localhost:8080/"
        },
        "id": "8QE9f6ARRu6t",
        "outputId": "42a22dd3-f381-4e0d-da99-bff0bcfd651e"
      },
      "execution_count": 28,
      "outputs": [
        {
          "output_type": "execute_result",
          "data": {
            "text/plain": [
              "159.1375715117793"
            ]
          },
          "metadata": {},
          "execution_count": 28
        }
      ]
    },
    {
      "cell_type": "code",
      "source": [
        "statistics.stdev(data)"
      ],
      "metadata": {
        "colab": {
          "base_uri": "https://localhost:8080/"
        },
        "id": "QF9y34SJQvMW",
        "outputId": "09e86bc6-c279-4cf4-defa-2364dfc9083f"
      },
      "execution_count": 29,
      "outputs": [
        {
          "output_type": "execute_result",
          "data": {
            "text/plain": [
              "159.1375715117793"
            ]
          },
          "metadata": {},
          "execution_count": 29
        }
      ]
    },
    {
      "cell_type": "code",
      "source": [
        "#How to know teh relationship between 2 features?"
      ],
      "metadata": {
        "id": "BX--esYoSUHK"
      },
      "execution_count": 30,
      "outputs": []
    },
    {
      "cell_type": "code",
      "source": [
        "df"
      ],
      "metadata": {
        "colab": {
          "base_uri": "https://localhost:8080/",
          "height": 424
        },
        "id": "XpgTxhDPSZpX",
        "outputId": "69c72d70-bdf8-4212-9060-d4c45f6380eb"
      },
      "execution_count": 31,
      "outputs": [
        {
          "output_type": "execute_result",
          "data": {
            "text/plain": [
              "     total_bill   tip     sex smoker   day    time  size\n",
              "0         16.99  1.01  Female     No   Sun  Dinner     2\n",
              "1         10.34  1.66    Male     No   Sun  Dinner     3\n",
              "2         21.01  3.50    Male     No   Sun  Dinner     3\n",
              "3         23.68  3.31    Male     No   Sun  Dinner     2\n",
              "4         24.59  3.61  Female     No   Sun  Dinner     4\n",
              "..          ...   ...     ...    ...   ...     ...   ...\n",
              "239       29.03  5.92    Male     No   Sat  Dinner     3\n",
              "240       27.18  2.00  Female    Yes   Sat  Dinner     2\n",
              "241       22.67  2.00    Male    Yes   Sat  Dinner     2\n",
              "242       17.82  1.75    Male     No   Sat  Dinner     2\n",
              "243       18.78  3.00  Female     No  Thur  Dinner     2\n",
              "\n",
              "[244 rows x 7 columns]"
            ],
            "text/html": [
              "\n",
              "  <div id=\"df-9bc403dd-9133-4028-9392-53d64bba072b\" class=\"colab-df-container\">\n",
              "    <div>\n",
              "<style scoped>\n",
              "    .dataframe tbody tr th:only-of-type {\n",
              "        vertical-align: middle;\n",
              "    }\n",
              "\n",
              "    .dataframe tbody tr th {\n",
              "        vertical-align: top;\n",
              "    }\n",
              "\n",
              "    .dataframe thead th {\n",
              "        text-align: right;\n",
              "    }\n",
              "</style>\n",
              "<table border=\"1\" class=\"dataframe\">\n",
              "  <thead>\n",
              "    <tr style=\"text-align: right;\">\n",
              "      <th></th>\n",
              "      <th>total_bill</th>\n",
              "      <th>tip</th>\n",
              "      <th>sex</th>\n",
              "      <th>smoker</th>\n",
              "      <th>day</th>\n",
              "      <th>time</th>\n",
              "      <th>size</th>\n",
              "    </tr>\n",
              "  </thead>\n",
              "  <tbody>\n",
              "    <tr>\n",
              "      <th>0</th>\n",
              "      <td>16.99</td>\n",
              "      <td>1.01</td>\n",
              "      <td>Female</td>\n",
              "      <td>No</td>\n",
              "      <td>Sun</td>\n",
              "      <td>Dinner</td>\n",
              "      <td>2</td>\n",
              "    </tr>\n",
              "    <tr>\n",
              "      <th>1</th>\n",
              "      <td>10.34</td>\n",
              "      <td>1.66</td>\n",
              "      <td>Male</td>\n",
              "      <td>No</td>\n",
              "      <td>Sun</td>\n",
              "      <td>Dinner</td>\n",
              "      <td>3</td>\n",
              "    </tr>\n",
              "    <tr>\n",
              "      <th>2</th>\n",
              "      <td>21.01</td>\n",
              "      <td>3.50</td>\n",
              "      <td>Male</td>\n",
              "      <td>No</td>\n",
              "      <td>Sun</td>\n",
              "      <td>Dinner</td>\n",
              "      <td>3</td>\n",
              "    </tr>\n",
              "    <tr>\n",
              "      <th>3</th>\n",
              "      <td>23.68</td>\n",
              "      <td>3.31</td>\n",
              "      <td>Male</td>\n",
              "      <td>No</td>\n",
              "      <td>Sun</td>\n",
              "      <td>Dinner</td>\n",
              "      <td>2</td>\n",
              "    </tr>\n",
              "    <tr>\n",
              "      <th>4</th>\n",
              "      <td>24.59</td>\n",
              "      <td>3.61</td>\n",
              "      <td>Female</td>\n",
              "      <td>No</td>\n",
              "      <td>Sun</td>\n",
              "      <td>Dinner</td>\n",
              "      <td>4</td>\n",
              "    </tr>\n",
              "    <tr>\n",
              "      <th>...</th>\n",
              "      <td>...</td>\n",
              "      <td>...</td>\n",
              "      <td>...</td>\n",
              "      <td>...</td>\n",
              "      <td>...</td>\n",
              "      <td>...</td>\n",
              "      <td>...</td>\n",
              "    </tr>\n",
              "    <tr>\n",
              "      <th>239</th>\n",
              "      <td>29.03</td>\n",
              "      <td>5.92</td>\n",
              "      <td>Male</td>\n",
              "      <td>No</td>\n",
              "      <td>Sat</td>\n",
              "      <td>Dinner</td>\n",
              "      <td>3</td>\n",
              "    </tr>\n",
              "    <tr>\n",
              "      <th>240</th>\n",
              "      <td>27.18</td>\n",
              "      <td>2.00</td>\n",
              "      <td>Female</td>\n",
              "      <td>Yes</td>\n",
              "      <td>Sat</td>\n",
              "      <td>Dinner</td>\n",
              "      <td>2</td>\n",
              "    </tr>\n",
              "    <tr>\n",
              "      <th>241</th>\n",
              "      <td>22.67</td>\n",
              "      <td>2.00</td>\n",
              "      <td>Male</td>\n",
              "      <td>Yes</td>\n",
              "      <td>Sat</td>\n",
              "      <td>Dinner</td>\n",
              "      <td>2</td>\n",
              "    </tr>\n",
              "    <tr>\n",
              "      <th>242</th>\n",
              "      <td>17.82</td>\n",
              "      <td>1.75</td>\n",
              "      <td>Male</td>\n",
              "      <td>No</td>\n",
              "      <td>Sat</td>\n",
              "      <td>Dinner</td>\n",
              "      <td>2</td>\n",
              "    </tr>\n",
              "    <tr>\n",
              "      <th>243</th>\n",
              "      <td>18.78</td>\n",
              "      <td>3.00</td>\n",
              "      <td>Female</td>\n",
              "      <td>No</td>\n",
              "      <td>Thur</td>\n",
              "      <td>Dinner</td>\n",
              "      <td>2</td>\n",
              "    </tr>\n",
              "  </tbody>\n",
              "</table>\n",
              "<p>244 rows × 7 columns</p>\n",
              "</div>\n",
              "    <div class=\"colab-df-buttons\">\n",
              "\n",
              "  <div class=\"colab-df-container\">\n",
              "    <button class=\"colab-df-convert\" onclick=\"convertToInteractive('df-9bc403dd-9133-4028-9392-53d64bba072b')\"\n",
              "            title=\"Convert this dataframe to an interactive table.\"\n",
              "            style=\"display:none;\">\n",
              "\n",
              "  <svg xmlns=\"http://www.w3.org/2000/svg\" height=\"24px\" viewBox=\"0 -960 960 960\">\n",
              "    <path d=\"M120-120v-720h720v720H120Zm60-500h600v-160H180v160Zm220 220h160v-160H400v160Zm0 220h160v-160H400v160ZM180-400h160v-160H180v160Zm440 0h160v-160H620v160ZM180-180h160v-160H180v160Zm440 0h160v-160H620v160Z\"/>\n",
              "  </svg>\n",
              "    </button>\n",
              "\n",
              "  <style>\n",
              "    .colab-df-container {\n",
              "      display:flex;\n",
              "      gap: 12px;\n",
              "    }\n",
              "\n",
              "    .colab-df-convert {\n",
              "      background-color: #E8F0FE;\n",
              "      border: none;\n",
              "      border-radius: 50%;\n",
              "      cursor: pointer;\n",
              "      display: none;\n",
              "      fill: #1967D2;\n",
              "      height: 32px;\n",
              "      padding: 0 0 0 0;\n",
              "      width: 32px;\n",
              "    }\n",
              "\n",
              "    .colab-df-convert:hover {\n",
              "      background-color: #E2EBFA;\n",
              "      box-shadow: 0px 1px 2px rgba(60, 64, 67, 0.3), 0px 1px 3px 1px rgba(60, 64, 67, 0.15);\n",
              "      fill: #174EA6;\n",
              "    }\n",
              "\n",
              "    .colab-df-buttons div {\n",
              "      margin-bottom: 4px;\n",
              "    }\n",
              "\n",
              "    [theme=dark] .colab-df-convert {\n",
              "      background-color: #3B4455;\n",
              "      fill: #D2E3FC;\n",
              "    }\n",
              "\n",
              "    [theme=dark] .colab-df-convert:hover {\n",
              "      background-color: #434B5C;\n",
              "      box-shadow: 0px 1px 3px 1px rgba(0, 0, 0, 0.15);\n",
              "      filter: drop-shadow(0px 1px 2px rgba(0, 0, 0, 0.3));\n",
              "      fill: #FFFFFF;\n",
              "    }\n",
              "  </style>\n",
              "\n",
              "    <script>\n",
              "      const buttonEl =\n",
              "        document.querySelector('#df-9bc403dd-9133-4028-9392-53d64bba072b button.colab-df-convert');\n",
              "      buttonEl.style.display =\n",
              "        google.colab.kernel.accessAllowed ? 'block' : 'none';\n",
              "\n",
              "      async function convertToInteractive(key) {\n",
              "        const element = document.querySelector('#df-9bc403dd-9133-4028-9392-53d64bba072b');\n",
              "        const dataTable =\n",
              "          await google.colab.kernel.invokeFunction('convertToInteractive',\n",
              "                                                    [key], {});\n",
              "        if (!dataTable) return;\n",
              "\n",
              "        const docLinkHtml = 'Like what you see? Visit the ' +\n",
              "          '<a target=\"_blank\" href=https://colab.research.google.com/notebooks/data_table.ipynb>data table notebook</a>'\n",
              "          + ' to learn more about interactive tables.';\n",
              "        element.innerHTML = '';\n",
              "        dataTable['output_type'] = 'display_data';\n",
              "        await google.colab.output.renderOutput(dataTable, element);\n",
              "        const docLink = document.createElement('div');\n",
              "        docLink.innerHTML = docLinkHtml;\n",
              "        element.appendChild(docLink);\n",
              "      }\n",
              "    </script>\n",
              "  </div>\n",
              "\n",
              "\n",
              "<div id=\"df-cf71c232-d6b8-41cd-a351-f6a52b14edcc\">\n",
              "  <button class=\"colab-df-quickchart\" onclick=\"quickchart('df-cf71c232-d6b8-41cd-a351-f6a52b14edcc')\"\n",
              "            title=\"Suggest charts\"\n",
              "            style=\"display:none;\">\n",
              "\n",
              "<svg xmlns=\"http://www.w3.org/2000/svg\" height=\"24px\"viewBox=\"0 0 24 24\"\n",
              "     width=\"24px\">\n",
              "    <g>\n",
              "        <path d=\"M19 3H5c-1.1 0-2 .9-2 2v14c0 1.1.9 2 2 2h14c1.1 0 2-.9 2-2V5c0-1.1-.9-2-2-2zM9 17H7v-7h2v7zm4 0h-2V7h2v10zm4 0h-2v-4h2v4z\"/>\n",
              "    </g>\n",
              "</svg>\n",
              "  </button>\n",
              "\n",
              "<style>\n",
              "  .colab-df-quickchart {\n",
              "      --bg-color: #E8F0FE;\n",
              "      --fill-color: #1967D2;\n",
              "      --hover-bg-color: #E2EBFA;\n",
              "      --hover-fill-color: #174EA6;\n",
              "      --disabled-fill-color: #AAA;\n",
              "      --disabled-bg-color: #DDD;\n",
              "  }\n",
              "\n",
              "  [theme=dark] .colab-df-quickchart {\n",
              "      --bg-color: #3B4455;\n",
              "      --fill-color: #D2E3FC;\n",
              "      --hover-bg-color: #434B5C;\n",
              "      --hover-fill-color: #FFFFFF;\n",
              "      --disabled-bg-color: #3B4455;\n",
              "      --disabled-fill-color: #666;\n",
              "  }\n",
              "\n",
              "  .colab-df-quickchart {\n",
              "    background-color: var(--bg-color);\n",
              "    border: none;\n",
              "    border-radius: 50%;\n",
              "    cursor: pointer;\n",
              "    display: none;\n",
              "    fill: var(--fill-color);\n",
              "    height: 32px;\n",
              "    padding: 0;\n",
              "    width: 32px;\n",
              "  }\n",
              "\n",
              "  .colab-df-quickchart:hover {\n",
              "    background-color: var(--hover-bg-color);\n",
              "    box-shadow: 0 1px 2px rgba(60, 64, 67, 0.3), 0 1px 3px 1px rgba(60, 64, 67, 0.15);\n",
              "    fill: var(--button-hover-fill-color);\n",
              "  }\n",
              "\n",
              "  .colab-df-quickchart-complete:disabled,\n",
              "  .colab-df-quickchart-complete:disabled:hover {\n",
              "    background-color: var(--disabled-bg-color);\n",
              "    fill: var(--disabled-fill-color);\n",
              "    box-shadow: none;\n",
              "  }\n",
              "\n",
              "  .colab-df-spinner {\n",
              "    border: 2px solid var(--fill-color);\n",
              "    border-color: transparent;\n",
              "    border-bottom-color: var(--fill-color);\n",
              "    animation:\n",
              "      spin 1s steps(1) infinite;\n",
              "  }\n",
              "\n",
              "  @keyframes spin {\n",
              "    0% {\n",
              "      border-color: transparent;\n",
              "      border-bottom-color: var(--fill-color);\n",
              "      border-left-color: var(--fill-color);\n",
              "    }\n",
              "    20% {\n",
              "      border-color: transparent;\n",
              "      border-left-color: var(--fill-color);\n",
              "      border-top-color: var(--fill-color);\n",
              "    }\n",
              "    30% {\n",
              "      border-color: transparent;\n",
              "      border-left-color: var(--fill-color);\n",
              "      border-top-color: var(--fill-color);\n",
              "      border-right-color: var(--fill-color);\n",
              "    }\n",
              "    40% {\n",
              "      border-color: transparent;\n",
              "      border-right-color: var(--fill-color);\n",
              "      border-top-color: var(--fill-color);\n",
              "    }\n",
              "    60% {\n",
              "      border-color: transparent;\n",
              "      border-right-color: var(--fill-color);\n",
              "    }\n",
              "    80% {\n",
              "      border-color: transparent;\n",
              "      border-right-color: var(--fill-color);\n",
              "      border-bottom-color: var(--fill-color);\n",
              "    }\n",
              "    90% {\n",
              "      border-color: transparent;\n",
              "      border-bottom-color: var(--fill-color);\n",
              "    }\n",
              "  }\n",
              "</style>\n",
              "\n",
              "  <script>\n",
              "    async function quickchart(key) {\n",
              "      const quickchartButtonEl =\n",
              "        document.querySelector('#' + key + ' button');\n",
              "      quickchartButtonEl.disabled = true;  // To prevent multiple clicks.\n",
              "      quickchartButtonEl.classList.add('colab-df-spinner');\n",
              "      try {\n",
              "        const charts = await google.colab.kernel.invokeFunction(\n",
              "            'suggestCharts', [key], {});\n",
              "      } catch (error) {\n",
              "        console.error('Error during call to suggestCharts:', error);\n",
              "      }\n",
              "      quickchartButtonEl.classList.remove('colab-df-spinner');\n",
              "      quickchartButtonEl.classList.add('colab-df-quickchart-complete');\n",
              "    }\n",
              "    (() => {\n",
              "      let quickchartButtonEl =\n",
              "        document.querySelector('#df-cf71c232-d6b8-41cd-a351-f6a52b14edcc button');\n",
              "      quickchartButtonEl.style.display =\n",
              "        google.colab.kernel.accessAllowed ? 'block' : 'none';\n",
              "    })();\n",
              "  </script>\n",
              "</div>\n",
              "\n",
              "  <div id=\"id_791fedc5-d2c6-4825-8225-b1d6bf191918\">\n",
              "    <style>\n",
              "      .colab-df-generate {\n",
              "        background-color: #E8F0FE;\n",
              "        border: none;\n",
              "        border-radius: 50%;\n",
              "        cursor: pointer;\n",
              "        display: none;\n",
              "        fill: #1967D2;\n",
              "        height: 32px;\n",
              "        padding: 0 0 0 0;\n",
              "        width: 32px;\n",
              "      }\n",
              "\n",
              "      .colab-df-generate:hover {\n",
              "        background-color: #E2EBFA;\n",
              "        box-shadow: 0px 1px 2px rgba(60, 64, 67, 0.3), 0px 1px 3px 1px rgba(60, 64, 67, 0.15);\n",
              "        fill: #174EA6;\n",
              "      }\n",
              "\n",
              "      [theme=dark] .colab-df-generate {\n",
              "        background-color: #3B4455;\n",
              "        fill: #D2E3FC;\n",
              "      }\n",
              "\n",
              "      [theme=dark] .colab-df-generate:hover {\n",
              "        background-color: #434B5C;\n",
              "        box-shadow: 0px 1px 3px 1px rgba(0, 0, 0, 0.15);\n",
              "        filter: drop-shadow(0px 1px 2px rgba(0, 0, 0, 0.3));\n",
              "        fill: #FFFFFF;\n",
              "      }\n",
              "    </style>\n",
              "    <button class=\"colab-df-generate\" onclick=\"generateWithVariable('df')\"\n",
              "            title=\"Generate code using this dataframe.\"\n",
              "            style=\"display:none;\">\n",
              "\n",
              "  <svg xmlns=\"http://www.w3.org/2000/svg\" height=\"24px\"viewBox=\"0 0 24 24\"\n",
              "       width=\"24px\">\n",
              "    <path d=\"M7,19H8.4L18.45,9,17,7.55,7,17.6ZM5,21V16.75L18.45,3.32a2,2,0,0,1,2.83,0l1.4,1.43a1.91,1.91,0,0,1,.58,1.4,1.91,1.91,0,0,1-.58,1.4L9.25,21ZM18.45,9,17,7.55Zm-12,3A5.31,5.31,0,0,0,4.9,8.1,5.31,5.31,0,0,0,1,6.5,5.31,5.31,0,0,0,4.9,4.9,5.31,5.31,0,0,0,6.5,1,5.31,5.31,0,0,0,8.1,4.9,5.31,5.31,0,0,0,12,6.5,5.46,5.46,0,0,0,6.5,12Z\"/>\n",
              "  </svg>\n",
              "    </button>\n",
              "    <script>\n",
              "      (() => {\n",
              "      const buttonEl =\n",
              "        document.querySelector('#id_791fedc5-d2c6-4825-8225-b1d6bf191918 button.colab-df-generate');\n",
              "      buttonEl.style.display =\n",
              "        google.colab.kernel.accessAllowed ? 'block' : 'none';\n",
              "\n",
              "      buttonEl.onclick = () => {\n",
              "        google.colab.notebook.generateWithVariable('df');\n",
              "      }\n",
              "      })();\n",
              "    </script>\n",
              "  </div>\n",
              "\n",
              "    </div>\n",
              "  </div>\n"
            ],
            "application/vnd.google.colaboratory.intrinsic+json": {
              "type": "dataframe",
              "variable_name": "df",
              "summary": "{\n  \"name\": \"df\",\n  \"rows\": 244,\n  \"fields\": [\n    {\n      \"column\": \"total_bill\",\n      \"properties\": {\n        \"dtype\": \"number\",\n        \"std\": 8.902411954856856,\n        \"min\": 3.07,\n        \"max\": 50.81,\n        \"num_unique_values\": 229,\n        \"samples\": [\n          22.12,\n          20.23,\n          14.78\n        ],\n        \"semantic_type\": \"\",\n        \"description\": \"\"\n      }\n    },\n    {\n      \"column\": \"tip\",\n      \"properties\": {\n        \"dtype\": \"number\",\n        \"std\": 1.3836381890011822,\n        \"min\": 1.0,\n        \"max\": 10.0,\n        \"num_unique_values\": 123,\n        \"samples\": [\n          3.35,\n          1.5,\n          6.73\n        ],\n        \"semantic_type\": \"\",\n        \"description\": \"\"\n      }\n    },\n    {\n      \"column\": \"sex\",\n      \"properties\": {\n        \"dtype\": \"category\",\n        \"num_unique_values\": 2,\n        \"samples\": [\n          \"Male\",\n          \"Female\"\n        ],\n        \"semantic_type\": \"\",\n        \"description\": \"\"\n      }\n    },\n    {\n      \"column\": \"smoker\",\n      \"properties\": {\n        \"dtype\": \"category\",\n        \"num_unique_values\": 2,\n        \"samples\": [\n          \"Yes\",\n          \"No\"\n        ],\n        \"semantic_type\": \"\",\n        \"description\": \"\"\n      }\n    },\n    {\n      \"column\": \"day\",\n      \"properties\": {\n        \"dtype\": \"category\",\n        \"num_unique_values\": 4,\n        \"samples\": [\n          \"Sat\",\n          \"Fri\"\n        ],\n        \"semantic_type\": \"\",\n        \"description\": \"\"\n      }\n    },\n    {\n      \"column\": \"time\",\n      \"properties\": {\n        \"dtype\": \"category\",\n        \"num_unique_values\": 2,\n        \"samples\": [\n          \"Lunch\",\n          \"Dinner\"\n        ],\n        \"semantic_type\": \"\",\n        \"description\": \"\"\n      }\n    },\n    {\n      \"column\": \"size\",\n      \"properties\": {\n        \"dtype\": \"number\",\n        \"std\": 0,\n        \"min\": 1,\n        \"max\": 6,\n        \"num_unique_values\": 6,\n        \"samples\": [\n          2,\n          3\n        ],\n        \"semantic_type\": \"\",\n        \"description\": \"\"\n      }\n    }\n  ]\n}"
            }
          },
          "metadata": {},
          "execution_count": 31
        }
      ]
    },
    {
      "cell_type": "code",
      "source": [
        "X=df[['total_bill','tip']]\n",
        "X.corr()"
      ],
      "metadata": {
        "colab": {
          "base_uri": "https://localhost:8080/",
          "height": 112
        },
        "id": "Mc3IK69WBq3S",
        "outputId": "789cde9d-0f53-406a-c2c5-b3fc657a418e"
      },
      "execution_count": 32,
      "outputs": [
        {
          "output_type": "execute_result",
          "data": {
            "text/plain": [
              "            total_bill       tip\n",
              "total_bill    1.000000  0.675734\n",
              "tip           0.675734  1.000000"
            ],
            "text/html": [
              "\n",
              "  <div id=\"df-4d1bb95c-c8b3-4311-9c81-b4f49b356482\" class=\"colab-df-container\">\n",
              "    <div>\n",
              "<style scoped>\n",
              "    .dataframe tbody tr th:only-of-type {\n",
              "        vertical-align: middle;\n",
              "    }\n",
              "\n",
              "    .dataframe tbody tr th {\n",
              "        vertical-align: top;\n",
              "    }\n",
              "\n",
              "    .dataframe thead th {\n",
              "        text-align: right;\n",
              "    }\n",
              "</style>\n",
              "<table border=\"1\" class=\"dataframe\">\n",
              "  <thead>\n",
              "    <tr style=\"text-align: right;\">\n",
              "      <th></th>\n",
              "      <th>total_bill</th>\n",
              "      <th>tip</th>\n",
              "    </tr>\n",
              "  </thead>\n",
              "  <tbody>\n",
              "    <tr>\n",
              "      <th>total_bill</th>\n",
              "      <td>1.000000</td>\n",
              "      <td>0.675734</td>\n",
              "    </tr>\n",
              "    <tr>\n",
              "      <th>tip</th>\n",
              "      <td>0.675734</td>\n",
              "      <td>1.000000</td>\n",
              "    </tr>\n",
              "  </tbody>\n",
              "</table>\n",
              "</div>\n",
              "    <div class=\"colab-df-buttons\">\n",
              "\n",
              "  <div class=\"colab-df-container\">\n",
              "    <button class=\"colab-df-convert\" onclick=\"convertToInteractive('df-4d1bb95c-c8b3-4311-9c81-b4f49b356482')\"\n",
              "            title=\"Convert this dataframe to an interactive table.\"\n",
              "            style=\"display:none;\">\n",
              "\n",
              "  <svg xmlns=\"http://www.w3.org/2000/svg\" height=\"24px\" viewBox=\"0 -960 960 960\">\n",
              "    <path d=\"M120-120v-720h720v720H120Zm60-500h600v-160H180v160Zm220 220h160v-160H400v160Zm0 220h160v-160H400v160ZM180-400h160v-160H180v160Zm440 0h160v-160H620v160ZM180-180h160v-160H180v160Zm440 0h160v-160H620v160Z\"/>\n",
              "  </svg>\n",
              "    </button>\n",
              "\n",
              "  <style>\n",
              "    .colab-df-container {\n",
              "      display:flex;\n",
              "      gap: 12px;\n",
              "    }\n",
              "\n",
              "    .colab-df-convert {\n",
              "      background-color: #E8F0FE;\n",
              "      border: none;\n",
              "      border-radius: 50%;\n",
              "      cursor: pointer;\n",
              "      display: none;\n",
              "      fill: #1967D2;\n",
              "      height: 32px;\n",
              "      padding: 0 0 0 0;\n",
              "      width: 32px;\n",
              "    }\n",
              "\n",
              "    .colab-df-convert:hover {\n",
              "      background-color: #E2EBFA;\n",
              "      box-shadow: 0px 1px 2px rgba(60, 64, 67, 0.3), 0px 1px 3px 1px rgba(60, 64, 67, 0.15);\n",
              "      fill: #174EA6;\n",
              "    }\n",
              "\n",
              "    .colab-df-buttons div {\n",
              "      margin-bottom: 4px;\n",
              "    }\n",
              "\n",
              "    [theme=dark] .colab-df-convert {\n",
              "      background-color: #3B4455;\n",
              "      fill: #D2E3FC;\n",
              "    }\n",
              "\n",
              "    [theme=dark] .colab-df-convert:hover {\n",
              "      background-color: #434B5C;\n",
              "      box-shadow: 0px 1px 3px 1px rgba(0, 0, 0, 0.15);\n",
              "      filter: drop-shadow(0px 1px 2px rgba(0, 0, 0, 0.3));\n",
              "      fill: #FFFFFF;\n",
              "    }\n",
              "  </style>\n",
              "\n",
              "    <script>\n",
              "      const buttonEl =\n",
              "        document.querySelector('#df-4d1bb95c-c8b3-4311-9c81-b4f49b356482 button.colab-df-convert');\n",
              "      buttonEl.style.display =\n",
              "        google.colab.kernel.accessAllowed ? 'block' : 'none';\n",
              "\n",
              "      async function convertToInteractive(key) {\n",
              "        const element = document.querySelector('#df-4d1bb95c-c8b3-4311-9c81-b4f49b356482');\n",
              "        const dataTable =\n",
              "          await google.colab.kernel.invokeFunction('convertToInteractive',\n",
              "                                                    [key], {});\n",
              "        if (!dataTable) return;\n",
              "\n",
              "        const docLinkHtml = 'Like what you see? Visit the ' +\n",
              "          '<a target=\"_blank\" href=https://colab.research.google.com/notebooks/data_table.ipynb>data table notebook</a>'\n",
              "          + ' to learn more about interactive tables.';\n",
              "        element.innerHTML = '';\n",
              "        dataTable['output_type'] = 'display_data';\n",
              "        await google.colab.output.renderOutput(dataTable, element);\n",
              "        const docLink = document.createElement('div');\n",
              "        docLink.innerHTML = docLinkHtml;\n",
              "        element.appendChild(docLink);\n",
              "      }\n",
              "    </script>\n",
              "  </div>\n",
              "\n",
              "\n",
              "<div id=\"df-66faad74-fad8-41a4-9e59-13e75831de43\">\n",
              "  <button class=\"colab-df-quickchart\" onclick=\"quickchart('df-66faad74-fad8-41a4-9e59-13e75831de43')\"\n",
              "            title=\"Suggest charts\"\n",
              "            style=\"display:none;\">\n",
              "\n",
              "<svg xmlns=\"http://www.w3.org/2000/svg\" height=\"24px\"viewBox=\"0 0 24 24\"\n",
              "     width=\"24px\">\n",
              "    <g>\n",
              "        <path d=\"M19 3H5c-1.1 0-2 .9-2 2v14c0 1.1.9 2 2 2h14c1.1 0 2-.9 2-2V5c0-1.1-.9-2-2-2zM9 17H7v-7h2v7zm4 0h-2V7h2v10zm4 0h-2v-4h2v4z\"/>\n",
              "    </g>\n",
              "</svg>\n",
              "  </button>\n",
              "\n",
              "<style>\n",
              "  .colab-df-quickchart {\n",
              "      --bg-color: #E8F0FE;\n",
              "      --fill-color: #1967D2;\n",
              "      --hover-bg-color: #E2EBFA;\n",
              "      --hover-fill-color: #174EA6;\n",
              "      --disabled-fill-color: #AAA;\n",
              "      --disabled-bg-color: #DDD;\n",
              "  }\n",
              "\n",
              "  [theme=dark] .colab-df-quickchart {\n",
              "      --bg-color: #3B4455;\n",
              "      --fill-color: #D2E3FC;\n",
              "      --hover-bg-color: #434B5C;\n",
              "      --hover-fill-color: #FFFFFF;\n",
              "      --disabled-bg-color: #3B4455;\n",
              "      --disabled-fill-color: #666;\n",
              "  }\n",
              "\n",
              "  .colab-df-quickchart {\n",
              "    background-color: var(--bg-color);\n",
              "    border: none;\n",
              "    border-radius: 50%;\n",
              "    cursor: pointer;\n",
              "    display: none;\n",
              "    fill: var(--fill-color);\n",
              "    height: 32px;\n",
              "    padding: 0;\n",
              "    width: 32px;\n",
              "  }\n",
              "\n",
              "  .colab-df-quickchart:hover {\n",
              "    background-color: var(--hover-bg-color);\n",
              "    box-shadow: 0 1px 2px rgba(60, 64, 67, 0.3), 0 1px 3px 1px rgba(60, 64, 67, 0.15);\n",
              "    fill: var(--button-hover-fill-color);\n",
              "  }\n",
              "\n",
              "  .colab-df-quickchart-complete:disabled,\n",
              "  .colab-df-quickchart-complete:disabled:hover {\n",
              "    background-color: var(--disabled-bg-color);\n",
              "    fill: var(--disabled-fill-color);\n",
              "    box-shadow: none;\n",
              "  }\n",
              "\n",
              "  .colab-df-spinner {\n",
              "    border: 2px solid var(--fill-color);\n",
              "    border-color: transparent;\n",
              "    border-bottom-color: var(--fill-color);\n",
              "    animation:\n",
              "      spin 1s steps(1) infinite;\n",
              "  }\n",
              "\n",
              "  @keyframes spin {\n",
              "    0% {\n",
              "      border-color: transparent;\n",
              "      border-bottom-color: var(--fill-color);\n",
              "      border-left-color: var(--fill-color);\n",
              "    }\n",
              "    20% {\n",
              "      border-color: transparent;\n",
              "      border-left-color: var(--fill-color);\n",
              "      border-top-color: var(--fill-color);\n",
              "    }\n",
              "    30% {\n",
              "      border-color: transparent;\n",
              "      border-left-color: var(--fill-color);\n",
              "      border-top-color: var(--fill-color);\n",
              "      border-right-color: var(--fill-color);\n",
              "    }\n",
              "    40% {\n",
              "      border-color: transparent;\n",
              "      border-right-color: var(--fill-color);\n",
              "      border-top-color: var(--fill-color);\n",
              "    }\n",
              "    60% {\n",
              "      border-color: transparent;\n",
              "      border-right-color: var(--fill-color);\n",
              "    }\n",
              "    80% {\n",
              "      border-color: transparent;\n",
              "      border-right-color: var(--fill-color);\n",
              "      border-bottom-color: var(--fill-color);\n",
              "    }\n",
              "    90% {\n",
              "      border-color: transparent;\n",
              "      border-bottom-color: var(--fill-color);\n",
              "    }\n",
              "  }\n",
              "</style>\n",
              "\n",
              "  <script>\n",
              "    async function quickchart(key) {\n",
              "      const quickchartButtonEl =\n",
              "        document.querySelector('#' + key + ' button');\n",
              "      quickchartButtonEl.disabled = true;  // To prevent multiple clicks.\n",
              "      quickchartButtonEl.classList.add('colab-df-spinner');\n",
              "      try {\n",
              "        const charts = await google.colab.kernel.invokeFunction(\n",
              "            'suggestCharts', [key], {});\n",
              "      } catch (error) {\n",
              "        console.error('Error during call to suggestCharts:', error);\n",
              "      }\n",
              "      quickchartButtonEl.classList.remove('colab-df-spinner');\n",
              "      quickchartButtonEl.classList.add('colab-df-quickchart-complete');\n",
              "    }\n",
              "    (() => {\n",
              "      let quickchartButtonEl =\n",
              "        document.querySelector('#df-66faad74-fad8-41a4-9e59-13e75831de43 button');\n",
              "      quickchartButtonEl.style.display =\n",
              "        google.colab.kernel.accessAllowed ? 'block' : 'none';\n",
              "    })();\n",
              "  </script>\n",
              "</div>\n",
              "\n",
              "    </div>\n",
              "  </div>\n"
            ],
            "application/vnd.google.colaboratory.intrinsic+json": {
              "type": "dataframe",
              "summary": "{\n  \"name\": \"X\",\n  \"rows\": 2,\n  \"fields\": [\n    {\n      \"column\": \"total_bill\",\n      \"properties\": {\n        \"dtype\": \"number\",\n        \"std\": 0.2292906102841404,\n        \"min\": 0.6757341092113648,\n        \"max\": 1.0,\n        \"num_unique_values\": 2,\n        \"samples\": [\n          0.6757341092113648,\n          1.0\n        ],\n        \"semantic_type\": \"\",\n        \"description\": \"\"\n      }\n    },\n    {\n      \"column\": \"tip\",\n      \"properties\": {\n        \"dtype\": \"number\",\n        \"std\": 0.2292906102841404,\n        \"min\": 0.6757341092113648,\n        \"max\": 1.0,\n        \"num_unique_values\": 2,\n        \"samples\": [\n          1.0,\n          0.6757341092113648\n        ],\n        \"semantic_type\": \"\",\n        \"description\": \"\"\n      }\n    }\n  ]\n}"
            }
          },
          "metadata": {},
          "execution_count": 32
        }
      ]
    },
    {
      "cell_type": "code",
      "source": [
        "X.corr(numeric_only=True)"
      ],
      "metadata": {
        "colab": {
          "base_uri": "https://localhost:8080/",
          "height": 112
        },
        "id": "o2BGibFOCQJV",
        "outputId": "fa556917-1bd0-4101-eba7-3b098a03e23f"
      },
      "execution_count": 33,
      "outputs": [
        {
          "output_type": "execute_result",
          "data": {
            "text/plain": [
              "            total_bill       tip\n",
              "total_bill    1.000000  0.675734\n",
              "tip           0.675734  1.000000"
            ],
            "text/html": [
              "\n",
              "  <div id=\"df-22e5d4d7-dd48-45d1-b77f-825c80d3cd08\" class=\"colab-df-container\">\n",
              "    <div>\n",
              "<style scoped>\n",
              "    .dataframe tbody tr th:only-of-type {\n",
              "        vertical-align: middle;\n",
              "    }\n",
              "\n",
              "    .dataframe tbody tr th {\n",
              "        vertical-align: top;\n",
              "    }\n",
              "\n",
              "    .dataframe thead th {\n",
              "        text-align: right;\n",
              "    }\n",
              "</style>\n",
              "<table border=\"1\" class=\"dataframe\">\n",
              "  <thead>\n",
              "    <tr style=\"text-align: right;\">\n",
              "      <th></th>\n",
              "      <th>total_bill</th>\n",
              "      <th>tip</th>\n",
              "    </tr>\n",
              "  </thead>\n",
              "  <tbody>\n",
              "    <tr>\n",
              "      <th>total_bill</th>\n",
              "      <td>1.000000</td>\n",
              "      <td>0.675734</td>\n",
              "    </tr>\n",
              "    <tr>\n",
              "      <th>tip</th>\n",
              "      <td>0.675734</td>\n",
              "      <td>1.000000</td>\n",
              "    </tr>\n",
              "  </tbody>\n",
              "</table>\n",
              "</div>\n",
              "    <div class=\"colab-df-buttons\">\n",
              "\n",
              "  <div class=\"colab-df-container\">\n",
              "    <button class=\"colab-df-convert\" onclick=\"convertToInteractive('df-22e5d4d7-dd48-45d1-b77f-825c80d3cd08')\"\n",
              "            title=\"Convert this dataframe to an interactive table.\"\n",
              "            style=\"display:none;\">\n",
              "\n",
              "  <svg xmlns=\"http://www.w3.org/2000/svg\" height=\"24px\" viewBox=\"0 -960 960 960\">\n",
              "    <path d=\"M120-120v-720h720v720H120Zm60-500h600v-160H180v160Zm220 220h160v-160H400v160Zm0 220h160v-160H400v160ZM180-400h160v-160H180v160Zm440 0h160v-160H620v160ZM180-180h160v-160H180v160Zm440 0h160v-160H620v160Z\"/>\n",
              "  </svg>\n",
              "    </button>\n",
              "\n",
              "  <style>\n",
              "    .colab-df-container {\n",
              "      display:flex;\n",
              "      gap: 12px;\n",
              "    }\n",
              "\n",
              "    .colab-df-convert {\n",
              "      background-color: #E8F0FE;\n",
              "      border: none;\n",
              "      border-radius: 50%;\n",
              "      cursor: pointer;\n",
              "      display: none;\n",
              "      fill: #1967D2;\n",
              "      height: 32px;\n",
              "      padding: 0 0 0 0;\n",
              "      width: 32px;\n",
              "    }\n",
              "\n",
              "    .colab-df-convert:hover {\n",
              "      background-color: #E2EBFA;\n",
              "      box-shadow: 0px 1px 2px rgba(60, 64, 67, 0.3), 0px 1px 3px 1px rgba(60, 64, 67, 0.15);\n",
              "      fill: #174EA6;\n",
              "    }\n",
              "\n",
              "    .colab-df-buttons div {\n",
              "      margin-bottom: 4px;\n",
              "    }\n",
              "\n",
              "    [theme=dark] .colab-df-convert {\n",
              "      background-color: #3B4455;\n",
              "      fill: #D2E3FC;\n",
              "    }\n",
              "\n",
              "    [theme=dark] .colab-df-convert:hover {\n",
              "      background-color: #434B5C;\n",
              "      box-shadow: 0px 1px 3px 1px rgba(0, 0, 0, 0.15);\n",
              "      filter: drop-shadow(0px 1px 2px rgba(0, 0, 0, 0.3));\n",
              "      fill: #FFFFFF;\n",
              "    }\n",
              "  </style>\n",
              "\n",
              "    <script>\n",
              "      const buttonEl =\n",
              "        document.querySelector('#df-22e5d4d7-dd48-45d1-b77f-825c80d3cd08 button.colab-df-convert');\n",
              "      buttonEl.style.display =\n",
              "        google.colab.kernel.accessAllowed ? 'block' : 'none';\n",
              "\n",
              "      async function convertToInteractive(key) {\n",
              "        const element = document.querySelector('#df-22e5d4d7-dd48-45d1-b77f-825c80d3cd08');\n",
              "        const dataTable =\n",
              "          await google.colab.kernel.invokeFunction('convertToInteractive',\n",
              "                                                    [key], {});\n",
              "        if (!dataTable) return;\n",
              "\n",
              "        const docLinkHtml = 'Like what you see? Visit the ' +\n",
              "          '<a target=\"_blank\" href=https://colab.research.google.com/notebooks/data_table.ipynb>data table notebook</a>'\n",
              "          + ' to learn more about interactive tables.';\n",
              "        element.innerHTML = '';\n",
              "        dataTable['output_type'] = 'display_data';\n",
              "        await google.colab.output.renderOutput(dataTable, element);\n",
              "        const docLink = document.createElement('div');\n",
              "        docLink.innerHTML = docLinkHtml;\n",
              "        element.appendChild(docLink);\n",
              "      }\n",
              "    </script>\n",
              "  </div>\n",
              "\n",
              "\n",
              "<div id=\"df-91eaacd5-4cb0-4837-8e55-8ad2d9a517d8\">\n",
              "  <button class=\"colab-df-quickchart\" onclick=\"quickchart('df-91eaacd5-4cb0-4837-8e55-8ad2d9a517d8')\"\n",
              "            title=\"Suggest charts\"\n",
              "            style=\"display:none;\">\n",
              "\n",
              "<svg xmlns=\"http://www.w3.org/2000/svg\" height=\"24px\"viewBox=\"0 0 24 24\"\n",
              "     width=\"24px\">\n",
              "    <g>\n",
              "        <path d=\"M19 3H5c-1.1 0-2 .9-2 2v14c0 1.1.9 2 2 2h14c1.1 0 2-.9 2-2V5c0-1.1-.9-2-2-2zM9 17H7v-7h2v7zm4 0h-2V7h2v10zm4 0h-2v-4h2v4z\"/>\n",
              "    </g>\n",
              "</svg>\n",
              "  </button>\n",
              "\n",
              "<style>\n",
              "  .colab-df-quickchart {\n",
              "      --bg-color: #E8F0FE;\n",
              "      --fill-color: #1967D2;\n",
              "      --hover-bg-color: #E2EBFA;\n",
              "      --hover-fill-color: #174EA6;\n",
              "      --disabled-fill-color: #AAA;\n",
              "      --disabled-bg-color: #DDD;\n",
              "  }\n",
              "\n",
              "  [theme=dark] .colab-df-quickchart {\n",
              "      --bg-color: #3B4455;\n",
              "      --fill-color: #D2E3FC;\n",
              "      --hover-bg-color: #434B5C;\n",
              "      --hover-fill-color: #FFFFFF;\n",
              "      --disabled-bg-color: #3B4455;\n",
              "      --disabled-fill-color: #666;\n",
              "  }\n",
              "\n",
              "  .colab-df-quickchart {\n",
              "    background-color: var(--bg-color);\n",
              "    border: none;\n",
              "    border-radius: 50%;\n",
              "    cursor: pointer;\n",
              "    display: none;\n",
              "    fill: var(--fill-color);\n",
              "    height: 32px;\n",
              "    padding: 0;\n",
              "    width: 32px;\n",
              "  }\n",
              "\n",
              "  .colab-df-quickchart:hover {\n",
              "    background-color: var(--hover-bg-color);\n",
              "    box-shadow: 0 1px 2px rgba(60, 64, 67, 0.3), 0 1px 3px 1px rgba(60, 64, 67, 0.15);\n",
              "    fill: var(--button-hover-fill-color);\n",
              "  }\n",
              "\n",
              "  .colab-df-quickchart-complete:disabled,\n",
              "  .colab-df-quickchart-complete:disabled:hover {\n",
              "    background-color: var(--disabled-bg-color);\n",
              "    fill: var(--disabled-fill-color);\n",
              "    box-shadow: none;\n",
              "  }\n",
              "\n",
              "  .colab-df-spinner {\n",
              "    border: 2px solid var(--fill-color);\n",
              "    border-color: transparent;\n",
              "    border-bottom-color: var(--fill-color);\n",
              "    animation:\n",
              "      spin 1s steps(1) infinite;\n",
              "  }\n",
              "\n",
              "  @keyframes spin {\n",
              "    0% {\n",
              "      border-color: transparent;\n",
              "      border-bottom-color: var(--fill-color);\n",
              "      border-left-color: var(--fill-color);\n",
              "    }\n",
              "    20% {\n",
              "      border-color: transparent;\n",
              "      border-left-color: var(--fill-color);\n",
              "      border-top-color: var(--fill-color);\n",
              "    }\n",
              "    30% {\n",
              "      border-color: transparent;\n",
              "      border-left-color: var(--fill-color);\n",
              "      border-top-color: var(--fill-color);\n",
              "      border-right-color: var(--fill-color);\n",
              "    }\n",
              "    40% {\n",
              "      border-color: transparent;\n",
              "      border-right-color: var(--fill-color);\n",
              "      border-top-color: var(--fill-color);\n",
              "    }\n",
              "    60% {\n",
              "      border-color: transparent;\n",
              "      border-right-color: var(--fill-color);\n",
              "    }\n",
              "    80% {\n",
              "      border-color: transparent;\n",
              "      border-right-color: var(--fill-color);\n",
              "      border-bottom-color: var(--fill-color);\n",
              "    }\n",
              "    90% {\n",
              "      border-color: transparent;\n",
              "      border-bottom-color: var(--fill-color);\n",
              "    }\n",
              "  }\n",
              "</style>\n",
              "\n",
              "  <script>\n",
              "    async function quickchart(key) {\n",
              "      const quickchartButtonEl =\n",
              "        document.querySelector('#' + key + ' button');\n",
              "      quickchartButtonEl.disabled = true;  // To prevent multiple clicks.\n",
              "      quickchartButtonEl.classList.add('colab-df-spinner');\n",
              "      try {\n",
              "        const charts = await google.colab.kernel.invokeFunction(\n",
              "            'suggestCharts', [key], {});\n",
              "      } catch (error) {\n",
              "        console.error('Error during call to suggestCharts:', error);\n",
              "      }\n",
              "      quickchartButtonEl.classList.remove('colab-df-spinner');\n",
              "      quickchartButtonEl.classList.add('colab-df-quickchart-complete');\n",
              "    }\n",
              "    (() => {\n",
              "      let quickchartButtonEl =\n",
              "        document.querySelector('#df-91eaacd5-4cb0-4837-8e55-8ad2d9a517d8 button');\n",
              "      quickchartButtonEl.style.display =\n",
              "        google.colab.kernel.accessAllowed ? 'block' : 'none';\n",
              "    })();\n",
              "  </script>\n",
              "</div>\n",
              "\n",
              "    </div>\n",
              "  </div>\n"
            ],
            "application/vnd.google.colaboratory.intrinsic+json": {
              "type": "dataframe",
              "summary": "{\n  \"name\": \"X\",\n  \"rows\": 2,\n  \"fields\": [\n    {\n      \"column\": \"total_bill\",\n      \"properties\": {\n        \"dtype\": \"number\",\n        \"std\": 0.2292906102841404,\n        \"min\": 0.6757341092113648,\n        \"max\": 1.0,\n        \"num_unique_values\": 2,\n        \"samples\": [\n          0.6757341092113648,\n          1.0\n        ],\n        \"semantic_type\": \"\",\n        \"description\": \"\"\n      }\n    },\n    {\n      \"column\": \"tip\",\n      \"properties\": {\n        \"dtype\": \"number\",\n        \"std\": 0.2292906102841404,\n        \"min\": 0.6757341092113648,\n        \"max\": 1.0,\n        \"num_unique_values\": 2,\n        \"samples\": [\n          1.0,\n          0.6757341092113648\n        ],\n        \"semantic_type\": \"\",\n        \"description\": \"\"\n      }\n    }\n  ]\n}"
            }
          },
          "metadata": {},
          "execution_count": 33
        }
      ]
    },
    {
      "cell_type": "code",
      "source": [
        "#if there is one unit change in total_bill then there is 67% chance then tip will also change in positive side."
      ],
      "metadata": {
        "id": "g5iEeQKVDBuX"
      },
      "execution_count": 34,
      "outputs": []
    },
    {
      "cell_type": "code",
      "source": [
        "sns.heatmap(X.corr(),annot=True)"
      ],
      "metadata": {
        "colab": {
          "base_uri": "https://localhost:8080/",
          "height": 452
        },
        "id": "aoVXRdMoDNsm",
        "outputId": "31f01b68-7ce3-4b24-fc93-9a135b882989"
      },
      "execution_count": 35,
      "outputs": [
        {
          "output_type": "execute_result",
          "data": {
            "text/plain": [
              "<Axes: >"
            ]
          },
          "metadata": {},
          "execution_count": 35
        },
        {
          "output_type": "display_data",
          "data": {
            "text/plain": [
              "<Figure size 640x480 with 2 Axes>"
            ],
            "image/png": "[encoded data removed]"
          },
          "metadata": {}
        }
      ]
    },
    {
      "cell_type": "code",
      "source": [
        "X.cov()"
      ],
      "metadata": {
        "colab": {
          "base_uri": "https://localhost:8080/",
          "height": 112
        },
        "id": "4R-ZbQJwD0dT",
        "outputId": "4ee1bbce-38b7-4430-a39c-302ef5e9e267"
      },
      "execution_count": 36,
      "outputs": [
        {
          "output_type": "execute_result",
          "data": {
            "text/plain": [
              "            total_bill       tip\n",
              "total_bill   79.252939  8.323502\n",
              "tip           8.323502  1.914455"
            ],
            "text/html": [
              "\n",
              "  <div id=\"df-b36efd73-5c14-421d-aee3-8ec277d42b1f\" class=\"colab-df-container\">\n",
              "    <div>\n",
              "<style scoped>\n",
              "    .dataframe tbody tr th:only-of-type {\n",
              "        vertical-align: middle;\n",
              "    }\n",
              "\n",
              "    .dataframe tbody tr th {\n",
              "        vertical-align: top;\n",
              "    }\n",
              "\n",
              "    .dataframe thead th {\n",
              "        text-align: right;\n",
              "    }\n",
              "</style>\n",
              "<table border=\"1\" class=\"dataframe\">\n",
              "  <thead>\n",
              "    <tr style=\"text-align: right;\">\n",
              "      <th></th>\n",
              "      <th>total_bill</th>\n",
              "      <th>tip</th>\n",
              "    </tr>\n",
              "  </thead>\n",
              "  <tbody>\n",
              "    <tr>\n",
              "      <th>total_bill</th>\n",
              "      <td>79.252939</td>\n",
              "      <td>8.323502</td>\n",
              "    </tr>\n",
              "    <tr>\n",
              "      <th>tip</th>\n",
              "      <td>8.323502</td>\n",
              "      <td>1.914455</td>\n",
              "    </tr>\n",
              "  </tbody>\n",
              "</table>\n",
              "</div>\n",
              "    <div class=\"colab-df-buttons\">\n",
              "\n",
              "  <div class=\"colab-df-container\">\n",
              "    <button class=\"colab-df-convert\" onclick=\"convertToInteractive('df-b36efd73-5c14-421d-aee3-8ec277d42b1f')\"\n",
              "            title=\"Convert this dataframe to an interactive table.\"\n",
              "            style=\"display:none;\">\n",
              "\n",
              "  <svg xmlns=\"http://www.w3.org/2000/svg\" height=\"24px\" viewBox=\"0 -960 960 960\">\n",
              "    <path d=\"M120-120v-720h720v720H120Zm60-500h600v-160H180v160Zm220 220h160v-160H400v160Zm0 220h160v-160H400v160ZM180-400h160v-160H180v160Zm440 0h160v-160H620v160ZM180-180h160v-160H180v160Zm440 0h160v-160H620v160Z\"/>\n",
              "  </svg>\n",
              "    </button>\n",
              "\n",
              "  <style>\n",
              "    .colab-df-container {\n",
              "      display:flex;\n",
              "      gap: 12px;\n",
              "    }\n",
              "\n",
              "    .colab-df-convert {\n",
              "      background-color: #E8F0FE;\n",
              "      border: none;\n",
              "      border-radius: 50%;\n",
              "      cursor: pointer;\n",
              "      display: none;\n",
              "      fill: #1967D2;\n",
              "      height: 32px;\n",
              "      padding: 0 0 0 0;\n",
              "      width: 32px;\n",
              "    }\n",
              "\n",
              "    .colab-df-convert:hover {\n",
              "      background-color: #E2EBFA;\n",
              "      box-shadow: 0px 1px 2px rgba(60, 64, 67, 0.3), 0px 1px 3px 1px rgba(60, 64, 67, 0.15);\n",
              "      fill: #174EA6;\n",
              "    }\n",
              "\n",
              "    .colab-df-buttons div {\n",
              "      margin-bottom: 4px;\n",
              "    }\n",
              "\n",
              "    [theme=dark] .colab-df-convert {\n",
              "      background-color: #3B4455;\n",
              "      fill: #D2E3FC;\n",
              "    }\n",
              "\n",
              "    [theme=dark] .colab-df-convert:hover {\n",
              "      background-color: #434B5C;\n",
              "      box-shadow: 0px 1px 3px 1px rgba(0, 0, 0, 0.15);\n",
              "      filter: drop-shadow(0px 1px 2px rgba(0, 0, 0, 0.3));\n",
              "      fill: #FFFFFF;\n",
              "    }\n",
              "  </style>\n",
              "\n",
              "    <script>\n",
              "      const buttonEl =\n",
              "        document.querySelector('#df-b36efd73-5c14-421d-aee3-8ec277d42b1f button.colab-df-convert');\n",
              "      buttonEl.style.display =\n",
              "        google.colab.kernel.accessAllowed ? 'block' : 'none';\n",
              "\n",
              "      async function convertToInteractive(key) {\n",
              "        const element = document.querySelector('#df-b36efd73-5c14-421d-aee3-8ec277d42b1f');\n",
              "        const dataTable =\n",
              "          await google.colab.kernel.invokeFunction('convertToInteractive',\n",
              "                                                    [key], {});\n",
              "        if (!dataTable) return;\n",
              "\n",
              "        const docLinkHtml = 'Like what you see? Visit the ' +\n",
              "          '<a target=\"_blank\" href=https://colab.research.google.com/notebooks/data_table.ipynb>data table notebook</a>'\n",
              "          + ' to learn more about interactive tables.';\n",
              "        element.innerHTML = '';\n",
              "        dataTable['output_type'] = 'display_data';\n",
              "        await google.colab.output.renderOutput(dataTable, element);\n",
              "        const docLink = document.createElement('div');\n",
              "        docLink.innerHTML = docLinkHtml;\n",
              "        element.appendChild(docLink);\n",
              "      }\n",
              "    </script>\n",
              "  </div>\n",
              "\n",
              "\n",
              "<div id=\"df-129fac71-b307-4176-88b5-45be8c0006cd\">\n",
              "  <button class=\"colab-df-quickchart\" onclick=\"quickchart('df-129fac71-b307-4176-88b5-45be8c0006cd')\"\n",
              "            title=\"Suggest charts\"\n",
              "            style=\"display:none;\">\n",
              "\n",
              "<svg xmlns=\"http://www.w3.org/2000/svg\" height=\"24px\"viewBox=\"0 0 24 24\"\n",
              "     width=\"24px\">\n",
              "    <g>\n",
              "        <path d=\"M19 3H5c-1.1 0-2 .9-2 2v14c0 1.1.9 2 2 2h14c1.1 0 2-.9 2-2V5c0-1.1-.9-2-2-2zM9 17H7v-7h2v7zm4 0h-2V7h2v10zm4 0h-2v-4h2v4z\"/>\n",
              "    </g>\n",
              "</svg>\n",
              "  </button>\n",
              "\n",
              "<style>\n",
              "  .colab-df-quickchart {\n",
              "      --bg-color: #E8F0FE;\n",
              "      --fill-color: #1967D2;\n",
              "      --hover-bg-color: #E2EBFA;\n",
              "      --hover-fill-color: #174EA6;\n",
              "      --disabled-fill-color: #AAA;\n",
              "      --disabled-bg-color: #DDD;\n",
              "  }\n",
              "\n",
              "  [theme=dark] .colab-df-quickchart {\n",
              "      --bg-color: #3B4455;\n",
              "      --fill-color: #D2E3FC;\n",
              "      --hover-bg-color: #434B5C;\n",
              "      --hover-fill-color: #FFFFFF;\n",
              "      --disabled-bg-color: #3B4455;\n",
              "      --disabled-fill-color: #666;\n",
              "  }\n",
              "\n",
              "  .colab-df-quickchart {\n",
              "    background-color: var(--bg-color);\n",
              "    border: none;\n",
              "    border-radius: 50%;\n",
              "    cursor: pointer;\n",
              "    display: none;\n",
              "    fill: var(--fill-color);\n",
              "    height: 32px;\n",
              "    padding: 0;\n",
              "    width: 32px;\n",
              "  }\n",
              "\n",
              "  .colab-df-quickchart:hover {\n",
              "    background-color: var(--hover-bg-color);\n",
              "    box-shadow: 0 1px 2px rgba(60, 64, 67, 0.3), 0 1px 3px 1px rgba(60, 64, 67, 0.15);\n",
              "    fill: var(--button-hover-fill-color);\n",
              "  }\n",
              "\n",
              "  .colab-df-quickchart-complete:disabled,\n",
              "  .colab-df-quickchart-complete:disabled:hover {\n",
              "    background-color: var(--disabled-bg-color);\n",
              "    fill: var(--disabled-fill-color);\n",
              "    box-shadow: none;\n",
              "  }\n",
              "\n",
              "  .colab-df-spinner {\n",
              "    border: 2px solid var(--fill-color);\n",
              "    border-color: transparent;\n",
              "    border-bottom-color: var(--fill-color);\n",
              "    animation:\n",
              "      spin 1s steps(1) infinite;\n",
              "  }\n",
              "\n",
              "  @keyframes spin {\n",
              "    0% {\n",
              "      border-color: transparent;\n",
              "      border-bottom-color: var(--fill-color);\n",
              "      border-left-color: var(--fill-color);\n",
              "    }\n",
              "    20% {\n",
              "      border-color: transparent;\n",
              "      border-left-color: var(--fill-color);\n",
              "      border-top-color: var(--fill-color);\n",
              "    }\n",
              "    30% {\n",
              "      border-color: transparent;\n",
              "      border-left-color: var(--fill-color);\n",
              "      border-top-color: var(--fill-color);\n",
              "      border-right-color: var(--fill-color);\n",
              "    }\n",
              "    40% {\n",
              "      border-color: transparent;\n",
              "      border-right-color: var(--fill-color);\n",
              "      border-top-color: var(--fill-color);\n",
              "    }\n",
              "    60% {\n",
              "      border-color: transparent;\n",
              "      border-right-color: var(--fill-color);\n",
              "    }\n",
              "    80% {\n",
              "      border-color: transparent;\n",
              "      border-right-color: var(--fill-color);\n",
              "      border-bottom-color: var(--fill-color);\n",
              "    }\n",
              "    90% {\n",
              "      border-color: transparent;\n",
              "      border-bottom-color: var(--fill-color);\n",
              "    }\n",
              "  }\n",
              "</style>\n",
              "\n",
              "  <script>\n",
              "    async function quickchart(key) {\n",
              "      const quickchartButtonEl =\n",
              "        document.querySelector('#' + key + ' button');\n",
              "      quickchartButtonEl.disabled = true;  // To prevent multiple clicks.\n",
              "      quickchartButtonEl.classList.add('colab-df-spinner');\n",
              "      try {\n",
              "        const charts = await google.colab.kernel.invokeFunction(\n",
              "            'suggestCharts', [key], {});\n",
              "      } catch (error) {\n",
              "        console.error('Error during call to suggestCharts:', error);\n",
              "      }\n",
              "      quickchartButtonEl.classList.remove('colab-df-spinner');\n",
              "      quickchartButtonEl.classList.add('colab-df-quickchart-complete');\n",
              "    }\n",
              "    (() => {\n",
              "      let quickchartButtonEl =\n",
              "        document.querySelector('#df-129fac71-b307-4176-88b5-45be8c0006cd button');\n",
              "      quickchartButtonEl.style.display =\n",
              "        google.colab.kernel.accessAllowed ? 'block' : 'none';\n",
              "    })();\n",
              "  </script>\n",
              "</div>\n",
              "\n",
              "    </div>\n",
              "  </div>\n"
            ],
            "application/vnd.google.colaboratory.intrinsic+json": {
              "type": "dataframe",
              "summary": "{\n  \"name\": \"X\",\n  \"rows\": 2,\n  \"fields\": [\n    {\n      \"column\": \"total_bill\",\n      \"properties\": {\n        \"dtype\": \"number\",\n        \"std\": 50.15468587766306,\n        \"min\": 8.323501629224854,\n        \"max\": 79.25293861397829,\n        \"num_unique_values\": 2,\n        \"samples\": [\n          8.323501629224854,\n          79.25293861397829\n        ],\n        \"semantic_type\": \"\",\n        \"description\": \"\"\n      }\n    },\n    {\n      \"column\": \"tip\",\n      \"properties\": {\n        \"dtype\": \"number\",\n        \"std\": 4.531880588394158,\n        \"min\": 1.914454638062473,\n        \"max\": 8.323501629224854,\n        \"num_unique_values\": 2,\n        \"samples\": [\n          1.914454638062473,\n          8.323501629224854\n        ],\n        \"semantic_type\": \"\",\n        \"description\": \"\"\n      }\n    }\n  ]\n}"
            }
          },
          "metadata": {},
          "execution_count": 36
        }
      ]
    },
    {
      "cell_type": "code",
      "source": [
        "sns.pairplot(df)"
      ],
      "metadata": {
        "colab": {
          "base_uri": "https://localhost:8080/",
          "height": 775
        },
        "id": "0_nIB9snEBti",
        "outputId": "67e26081-0ebb-4753-9e8f-be25f7d89b4e"
      },
      "execution_count": 37,
      "outputs": [
        {
          "output_type": "execute_result",
          "data": {
            "text/plain": [
              "<seaborn.axisgrid.PairGrid at 0x7e86e6932830>"
            ]
          },
          "metadata": {},
          "execution_count": 37
        },
        {
          "output_type": "display_data",
          "data": {
            "text/plain": [
              "<Figure size 750x750 with 12 Axes>"
            ],
            "image/png": "[encoded data removed]"
          },
          "metadata": {}
        }
      ]
    },
    {
      "cell_type": "code",
      "source": [
        "sns.histplot(df['total_bill'],kde=True)"
      ],
      "metadata": {
        "colab": {
          "base_uri": "https://localhost:8080/",
          "height": 469
        },
        "id": "ps4ZS6w7FvUp",
        "outputId": "28f4097c-5b36-4281-831b-23c99e9ec794"
      },
      "execution_count": 43,
      "outputs": [
        {
          "output_type": "execute_result",
          "data": {
            "text/plain": [
              "<Axes: xlabel='total_bill', ylabel='Count'>"
            ]
          },
          "metadata": {},
          "execution_count": 43
        },
        {
          "output_type": "display_data",
          "data": {
            "text/plain": [
              "<Figure size 640x480 with 1 Axes>"
            ],
            "image/png": "[encoded data removed]"
          },
          "metadata": {}
        }
      ]
    },
    {
      "cell_type": "code",
      "source": [
        "d=np.random.normal(0.5,0.2,1000)\n",
        "d"
      ],
      "metadata": {
        "colab": {
          "base_uri": "https://localhost:8080/"
        },
        "id": "Xuh8T6hTGzoa",
        "outputId": "9b49eef8-1c98-40b9-8973-c26d404d0052"
      },
      "execution_count": 39,
      "outputs": [
        {
          "output_type": "execute_result",
          "data": {
            "text/plain": [
              "array([ 0.51693889,  0.57910214,  0.26762562,  0.49979979,  0.74452409,\n",
              "        0.79876709,  0.91003377,  0.88194499,  0.44869852,  0.2394964 ,\n",
              "        0.43808363,  0.18617096,  0.38524375,  0.61945875,  0.1966097 ,\n",
              "        0.39418583,  0.69633327,  0.46340213,  0.27834677,  0.48610713,\n",
              "        0.68793732,  0.23310447,  0.60339292,  0.27638155,  0.48118202,\n",
              "        0.30580663,  0.48074674,  0.41307307,  0.57798167,  0.31452709,\n",
              "        0.47416385,  0.65980551,  0.00166468,  0.55931729,  0.53315254,\n",
              "        0.56344778,  1.03202131,  0.4149185 ,  0.42032039,  0.42077836,\n",
              "        0.62454122,  0.52366388,  0.59945791,  0.33837949,  0.20477852,\n",
              "        0.20040057,  0.5184102 ,  0.65072329,  0.53827152, -0.04548689,\n",
              "        0.32187943,  0.71384087,  0.30287181,  0.22217408,  0.54378968,\n",
              "        0.63827731,  0.69267654,  0.47994412,  0.29218621,  0.57521801,\n",
              "        0.39638695,  0.48381667,  0.79974143,  0.13699232,  0.50792986,\n",
              "        0.3857995 ,  0.42836748,  0.10413048,  0.23361293,  0.36002586,\n",
              "        0.53076099,  0.37469771,  0.54964962,  0.16628952,  0.33987047,\n",
              "        0.33534837,  0.58140859,  0.60653913,  0.45386511,  0.25850195,\n",
              "        0.18580147,  0.45616765,  0.40185189,  0.34626126,  0.36038937,\n",
              "        0.45952853,  0.41900504,  0.79321136,  0.9089628 ,  0.74514864,\n",
              "        0.33418983,  0.5844646 ,  0.61207542,  0.65565352,  0.92277069,\n",
              "        0.65917423,  0.32177675,  0.53079922,  0.56468955,  0.19241574,\n",
              "        0.58627117,  0.64476178,  0.51352961,  0.92823788,  0.66885856,\n",
              "        0.44736119,  0.77210544,  0.44286135,  0.34566249,  0.23862389,\n",
              "        0.6659795 ,  0.55449042,  0.42528353,  0.41270166,  0.64181959,\n",
              "        0.57202739,  0.33101669,  0.56550786,  0.06247134,  0.44707598,\n",
              "        0.53651095,  0.81172138,  0.25260542,  0.29993676,  0.16891738,\n",
              "        0.57426032,  1.02264955,  0.66202875,  0.49370366,  0.5775003 ,\n",
              "        0.45155964,  0.48846305,  0.46616113,  0.59745151,  0.53284343,\n",
              "        0.442487  ,  0.49920883,  0.54581344,  0.44111307,  0.83037165,\n",
              "        0.51140198, -0.04853351,  0.23056483,  0.42507588,  0.4267683 ,\n",
              "        0.44593536,  0.72393532,  0.25430708,  0.48540441,  0.39340385,\n",
              "        0.6704323 ,  0.48356619,  0.39995909,  0.79894495,  0.60443022,\n",
              "        0.4353192 ,  0.10345473,  0.4346003 ,  0.51267495,  0.30662335,\n",
              "        0.86106605,  0.35814457,  0.52513117,  0.40372395,  0.7506347 ,\n",
              "        0.77834874,  0.32229057,  0.49264373,  0.71489897,  0.42413483,\n",
              "        0.32551709,  0.40138082,  0.46239247,  0.57864654,  0.5677302 ,\n",
              "        0.05007647,  0.15265087,  0.44208341,  0.36854099,  0.79520478,\n",
              "        0.34479938,  0.23539116,  0.78173224,  0.46534546,  0.39641288,\n",
              "        0.61130045,  0.76646338,  0.48925601,  0.51518502,  0.26002911,\n",
              "        0.60887449,  0.30743779,  0.6336402 ,  0.15876855,  0.27771147,\n",
              "        0.0638507 ,  0.63460473,  0.53750161,  0.65131733,  0.42216362,\n",
              "        0.47588599,  0.79650908,  0.35581178,  0.42499918,  0.51786256,\n",
              "        0.67480218,  0.65303223,  0.47106339,  0.31963659,  0.42642115,\n",
              "        0.5942391 ,  0.16516123,  0.23768509,  0.81252455,  0.2926472 ,\n",
              "        0.06711965,  0.54343029,  0.64688904,  0.68383546,  0.34773743,\n",
              "        0.20211301,  0.25755528,  0.46408115,  0.52573695,  0.50078239,\n",
              "        0.47771586,  0.88471314,  0.07377344,  0.37868899,  0.67662369,\n",
              "        0.65834356,  0.5729765 ,  0.45803668,  0.56652448,  0.3435223 ,\n",
              "        0.4171204 ,  0.76810842,  0.36780812,  0.72775109,  0.64176511,\n",
              "        0.41853751,  0.51710952,  0.1513935 ,  0.22782566,  0.75583315,\n",
              "        0.60976468,  0.32995806,  0.21105321,  0.49055323,  0.94870581,\n",
              "        0.08653598,  0.23929948,  0.43682615,  0.52968683,  0.36294328,\n",
              "        0.61188617,  0.77355604,  0.55785009,  0.52926536,  0.51258902,\n",
              "        0.54162233,  0.58135275,  0.41734082,  0.62397691,  0.27522365,\n",
              "        0.54866476,  0.41886578,  0.64129803,  0.44036005,  0.05579154,\n",
              "        0.53981104,  0.29824061,  0.70753843,  0.47845035,  0.41086195,\n",
              "        0.14965952,  0.56602072,  0.67238726,  0.67083695,  0.03461649,\n",
              "        0.32759405,  0.24680096,  0.43361911,  0.29611535,  0.81933799,\n",
              "        0.18839777,  0.47195107,  0.48883906,  0.29413746,  0.63563413,\n",
              "        0.66546299,  0.68565613,  0.40666616,  0.30720979,  0.54157434,\n",
              "       -0.01146765,  0.53185943,  0.78015142,  0.5838779 ,  0.63257824,\n",
              "        0.37668263,  0.019758  ,  0.57728456,  0.8660328 ,  0.30586249,\n",
              "        0.52251598,  0.39961881,  0.26694187,  0.38589579,  0.68222382,\n",
              "        0.78200545,  0.36786481,  0.1706845 ,  0.96385627,  0.64627698,\n",
              "        0.79830369,  0.15690591,  0.35595937,  0.53466074,  0.97322009,\n",
              "        0.55840667,  0.34328785,  0.4662739 ,  0.5096055 ,  0.02887074,\n",
              "        0.3927688 ,  0.59048629,  0.42534655,  0.49504164,  0.84626717,\n",
              "        0.47994453,  0.4436719 ,  0.76085906,  0.21242741,  0.77788699,\n",
              "        0.17095201,  0.34221266,  0.10269024,  0.09554819,  0.58591996,\n",
              "        0.63890547,  0.92151309,  0.5155367 ,  0.38523365,  0.32259184,\n",
              "        0.50856577,  0.51566776,  0.50036848,  0.5616298 ,  0.63312783,\n",
              "        0.26941153,  0.42412785,  0.50442049,  0.70868689,  0.57889933,\n",
              "        0.26140097,  0.71345183,  0.79361737,  0.57293282,  0.47510604,\n",
              "        0.98927638,  0.61267933,  0.4225246 ,  1.02416794,  0.66876459,\n",
              "        0.31203511,  0.53143063,  0.51534215,  0.454005  ,  0.12228461,\n",
              "        0.53679205,  0.61314668,  0.57853155,  0.72591637,  0.55137419,\n",
              "        0.29657501,  0.37711626,  0.46074188,  0.38183429,  0.73436816,\n",
              "        0.78956304,  0.5294109 , -0.01790482,  0.87102749,  0.31728588,\n",
              "        0.61901524,  0.68465161,  0.44900687,  0.56523031,  0.91483517,\n",
              "        0.27538151,  0.61838621,  0.4172919 ,  0.21757922,  0.30806455,\n",
              "        0.6317011 ,  0.62934337,  0.57686502,  0.22651902,  0.46168912,\n",
              "        0.54122319,  0.5526229 ,  0.37034929,  0.5488799 ,  0.729962  ,\n",
              "        0.65435099,  0.56877546,  0.7403966 ,  0.56844093,  0.19034536,\n",
              "        0.48511381,  0.49723099,  0.50111763,  0.57473146,  0.488269  ,\n",
              "        0.36781691,  0.59107772,  0.45698178,  0.68891528,  0.05598118,\n",
              "        0.611148  ,  0.81572059,  0.69415086,  0.48373829,  0.92951424,\n",
              "        0.49309099,  0.26780485,  0.3151609 ,  0.63484745,  0.49681039,\n",
              "        0.48595264,  0.61730376,  0.60729058,  0.48180675,  0.64598783,\n",
              "        0.43138053,  0.85215495,  0.68991575,  0.82079716,  0.5222486 ,\n",
              "        0.23085421,  0.48877098,  0.36193115,  0.81823588,  0.41613993,\n",
              "        0.47219814,  0.35475708,  0.78610472,  0.60052704,  0.51828891,\n",
              "        0.7160691 ,  0.50835208,  0.53044624,  0.72362377,  0.34126655,\n",
              "        0.55410468,  0.55125265,  0.66975383,  0.48676953,  0.47272439,\n",
              "        0.55188019,  0.38124389,  0.45807556,  0.54023433,  0.21909655,\n",
              "        0.47002555,  0.65729199,  0.32855181,  0.48533247,  0.67014961,\n",
              "        0.33275558,  0.75955128,  0.79381292,  0.75178033,  0.566379  ,\n",
              "        0.47637545,  0.59520059,  0.20015579,  0.92284614,  0.52924727,\n",
              "        0.61980502,  0.11226313,  0.55435648,  0.30569967,  0.52478898,\n",
              "        0.43479599,  0.55793387,  0.45806246,  0.05421257,  0.46949775,\n",
              "        0.53417461,  0.378719  ,  0.51186552,  0.19829475,  0.77431772,\n",
              "        0.54845491,  0.30943137,  0.30399996,  0.3246622 ,  0.65118476,\n",
              "        0.78335961,  0.86435761,  0.4140623 ,  0.48121246,  0.49853176,\n",
              "        0.78596458,  0.42722841,  0.40486509,  0.70750158,  0.09073568,\n",
              "        0.41639649,  0.22409839,  0.41349342,  0.34148516,  0.26010969,\n",
              "        0.17629208,  0.2461594 ,  0.68724102,  0.38484044,  0.4831288 ,\n",
              "        0.231261  ,  0.97677485,  0.36198273,  0.38087217,  0.62214033,\n",
              "        0.43550726,  0.66346171,  0.55997958,  0.81951632,  0.18688216,\n",
              "        0.32494743,  0.24439891,  0.31629127,  0.64680078,  0.72946048,\n",
              "        0.38074258,  0.60821821,  0.73076205,  0.34033303,  0.76470767,\n",
              "        0.45449877,  0.51769721,  0.99361601,  0.61515859,  0.45198663,\n",
              "        0.42215753,  0.32781203,  0.70964459,  0.33260497,  1.05756311,\n",
              "        0.79283853,  0.57874807,  0.8534901 ,  0.63556773,  0.45349076,\n",
              "        0.1822707 ,  0.62423263,  0.75741717,  0.9405912 ,  0.75167056,\n",
              "        0.62824006,  0.18731044,  0.21668676,  0.53361533,  0.60477404,\n",
              "        0.61240666,  0.54813761,  0.51699116,  0.32143143,  0.34555575,\n",
              "        0.58211086,  0.78417365,  0.73653369,  0.45090137,  0.46059904,\n",
              "        0.78991069,  0.37845303,  0.64181939,  0.33832468,  0.52986867,\n",
              "        0.28429481,  0.28580731,  0.37359704,  0.36274716,  0.58649053,\n",
              "        0.6084181 ,  0.41868065,  0.58566379,  0.63013919,  0.52377645,\n",
              "        0.71518993,  0.54760561,  0.24899904,  0.54587978,  0.76013009,\n",
              "        0.04861429,  0.34905277,  0.55176912,  0.68557553,  0.36075804,\n",
              "        0.73236432, -0.12595467,  0.42795633,  0.56727037,  0.65631236,\n",
              "        0.26355091,  0.62192506,  0.50916178,  0.58302794,  0.1703536 ,\n",
              "        0.45411556,  0.33093549,  0.43632657,  0.8871195 ,  0.5569596 ,\n",
              "        0.64114051,  0.57396628,  0.72275849,  0.40074342,  0.6024754 ,\n",
              "        0.85027101,  0.85022212,  0.43626162,  0.19141174,  0.18341175,\n",
              "        0.49416733,  0.45570681,  0.66825374,  0.47105486,  0.50209151,\n",
              "        0.19044885,  0.16421914,  0.56000887,  0.3556272 ,  0.73105458,\n",
              "        0.64962541,  0.54996755,  0.60126079,  0.46662898,  0.48762852,\n",
              "        0.64921404,  0.25377657,  0.48979907,  0.66202483,  0.72205673,\n",
              "        0.73258406,  0.46101719,  0.80481259,  0.30347337,  0.54325488,\n",
              "        0.27897983,  0.67113488,  0.56833836,  0.69221779,  0.81962704,\n",
              "        0.14561742,  0.73867927,  0.48914858,  0.81175709,  0.62513107,\n",
              "        0.53413816,  0.23057489, -0.03772871,  0.76674547,  0.74545895,\n",
              "        0.52905478,  0.40492953,  0.69267988,  0.70161053,  0.69081355,\n",
              "        0.49024208,  0.50204913,  0.68340193,  0.41130857,  0.38743212,\n",
              "        0.4994982 ,  0.05751597,  0.92848097,  0.48899329,  0.32236626,\n",
              "        0.4036998 ,  0.56655024,  0.80464571,  0.44256445,  0.45153124,\n",
              "        0.67290965,  0.33050774,  0.50897363,  0.86618596,  0.56425723,\n",
              "        0.25106562,  0.61147611,  0.75324428,  0.98675899,  0.23549799,\n",
              "        0.52441986,  0.24309314,  0.38477846,  0.55292349,  0.58749155,\n",
              "        0.46853854,  0.45298385,  0.40225955,  0.25852721,  0.26991434,\n",
              "        0.61511844,  0.61409977,  0.61952787,  0.39936719,  0.43355357,\n",
              "        0.7502769 ,  0.2332756 ,  0.5129655 ,  0.8064503 ,  0.23824577,\n",
              "        0.40183023,  0.55909137,  0.64085316,  0.15635056,  0.67328011,\n",
              "        0.51889354,  0.53069342,  0.41294113,  0.31531812,  0.39461065,\n",
              "        0.72613075,  0.22358827,  0.6484197 ,  0.59330141,  0.53605887,\n",
              "       -0.02663848,  0.44710281,  0.64903428,  0.36652018,  0.55472328,\n",
              "        0.43883533,  0.62254346,  0.32174721,  0.40725294,  0.77200175,\n",
              "        0.50675231,  0.26383287,  0.4527878 ,  0.37411282,  0.29304075,\n",
              "        0.60932304,  0.49532044,  0.08618373,  0.46449222,  0.17815544,\n",
              "        0.68093821,  0.42349646,  0.63905191,  0.52956213,  0.45175459,\n",
              "        0.2329871 ,  0.4108918 ,  1.01146178,  0.52359595,  0.48247683,\n",
              "        0.57601086,  0.41861102,  0.40914173,  0.63515465,  0.39515128,\n",
              "        0.73301062,  0.58775454,  0.53111297,  0.54615096,  0.39636484,\n",
              "        0.64242024,  0.6120874 ,  0.40651494,  0.49403989,  0.56953976,\n",
              "        0.38712913,  0.95427154,  0.65515556,  0.35421439,  0.42547509,\n",
              "        0.64078752,  0.27484175,  0.14669988,  0.46841739,  0.60531838,\n",
              "        0.71849362,  0.19841002,  0.79386969,  0.75331442,  0.75268841,\n",
              "        0.587771  ,  0.62530558,  0.57188596,  0.67035258,  0.27653637,\n",
              "        0.57843151,  0.71435782,  0.53374756,  0.3002205 ,  0.54177541,\n",
              "        0.95707801,  0.3638165 ,  1.19700134,  0.13572376,  0.28479212,\n",
              "        0.40506663,  0.73158598,  0.77836855,  0.67345448,  0.42027759,\n",
              "        0.39881236,  0.1354363 ,  0.92349154,  0.46801749,  0.36271284,\n",
              "        0.50294897,  0.15354652,  0.53514315,  0.39692283,  0.45575258,\n",
              "        0.37147232,  0.55107519,  1.14552291,  0.55600911,  0.64926216,\n",
              "        0.52840789,  0.50177193,  0.54785923,  0.34605791,  0.16614911,\n",
              "        0.72274664,  0.37271736,  0.42092732,  0.5475052 ,  0.79789199,\n",
              "        0.84581524,  0.68189092,  0.50362125,  0.61994803,  0.5900932 ,\n",
              "        0.32371728,  0.16094984,  0.65812574,  0.259642  ,  0.62118394,\n",
              "        0.40610482,  0.76341586,  0.73766246,  0.57013512,  0.48225907,\n",
              "        0.67106599,  0.35932618,  0.68018513,  0.38390833,  0.45252227,\n",
              "        0.49302638,  0.21303376,  0.66095225,  0.33755282,  0.54281495,\n",
              "        0.50297224,  0.94217699,  0.44047963,  0.1730147 ,  0.65367833,\n",
              "        0.46723006,  0.60841138,  0.60296379,  0.40540617,  0.33032433,\n",
              "        0.29329337,  0.63257229,  0.37506533,  0.3255866 ,  0.43009094,\n",
              "        0.43904504,  0.57851898,  0.54929156,  0.208033  ,  0.97611252,\n",
              "        0.4456289 ,  0.56664842,  0.74040789,  0.55711326,  0.47799835,\n",
              "        0.43436326,  0.51611381,  0.29345084,  0.6474886 ,  0.27703755,\n",
              "        0.43332863,  0.57188237,  0.33580441,  0.24885221,  0.42404775,\n",
              "        0.54672256,  0.3272524 ,  0.39447035,  0.20537398,  0.60436524,\n",
              "        0.83817511,  0.92002618,  0.65716211,  0.50999619,  0.75415591,\n",
              "        0.47097697,  0.54929257,  0.70368117,  0.27970209,  0.38235879,\n",
              "        0.24140109,  0.50386034,  0.57291048,  0.69256624,  0.48974139,\n",
              "        0.41207442,  0.45144616,  0.52252308,  0.51478913,  0.65560732,\n",
              "        0.27649033,  0.67798984,  0.54198528,  0.59434886,  0.79903329,\n",
              "        0.63163394,  0.57675377,  0.31896503,  0.29937349,  0.5964781 ,\n",
              "        0.72845551,  0.50481493,  0.44939582,  0.52132665,  0.17590206,\n",
              "        0.74748243,  0.67958479,  0.49969115,  0.55621006,  0.57607598,\n",
              "        0.68904393,  0.55639418,  0.88205231,  0.00689472,  0.20628674,\n",
              "        0.3387975 ,  0.34626961,  0.34859621,  0.34309656,  0.25753745,\n",
              "        0.51606409,  0.23460851,  0.72488001,  0.2297871 ,  0.15998865,\n",
              "        0.46564087,  0.0468651 ,  0.36201678,  0.40398146,  0.88243473,\n",
              "        0.44572526,  0.80273754,  0.61207878,  0.63826966,  0.52191132,\n",
              "        0.69012283,  0.37137446,  0.80633665,  0.84459461,  0.27689442,\n",
              "        0.64566968,  0.41948003,  0.90024725,  0.61968067,  0.8965323 ,\n",
              "        0.31879447,  0.53840217,  0.63660617,  0.3376006 ,  0.27175873,\n",
              "        0.51656145,  0.17524628,  0.70725648,  0.63558968,  0.55784879,\n",
              "        0.43366837,  0.40381821,  0.6813125 ,  0.40137368,  0.56518078,\n",
              "        0.64027034,  0.32007806,  0.59565043,  0.91431583,  0.57949837,\n",
              "        0.54503268,  0.06641319,  0.70535492,  0.27648205,  0.22915886])"
            ]
          },
          "metadata": {},
          "execution_count": 39
        }
      ]
    },
    {
      "cell_type": "code",
      "source": [
        "sns.distplot(d)"
      ],
      "metadata": {
        "colab": {
          "base_uri": "https://localhost:8080/",
          "height": 638
        },
        "id": "KAiAbr7AF7ct",
        "outputId": "ba43b507-d70f-4994-81ce-70aef89caced"
      },
      "execution_count": 40,
      "outputs": [
        {
          "output_type": "stream",
          "name": "stderr",
          "text": [
            "<ipython-input-40-231ba3033325>:1: UserWarning: \n",
            "\n",
            "`distplot` is a deprecated function and will be removed in seaborn v0.14.0.\n",
            "\n",
            "Please adapt your code to use either `displot` (a figure-level function with\n",
            "similar flexibility) or `histplot` (an axes-level function for histograms).\n",
            "\n",
            "For a guide to updating your code to use the new functions, please see\n",
            "https://gist.github.com/mwaskom/de44147ed2974457ad6372750bbe5751\n",
            "\n",
            "  sns.distplot(d)\n"
          ]
        },
        {
          "output_type": "execute_result",
          "data": {
            "text/plain": [
              "<Axes: ylabel='Density'>"
            ]
          },
          "metadata": {},
          "execution_count": 40
        },
        {
          "output_type": "display_data",
          "data": {
            "text/plain": [
              "<Figure size 640x480 with 1 Axes>"
            ],
            "image/png": "[encoded data removed]"
          },
          "metadata": {}
        }
      ]
    },
    {
      "cell_type": "code",
      "source": [
        "sns.histplot(data,kde='true')"
      ],
      "metadata": {
        "id": "huG1oGCRHgIf",
        "colab": {
          "base_uri": "https://localhost:8080/",
          "height": 447
        },
        "outputId": "2643c418-6b57-48e9-ad94-65411f93e9b8"
      },
      "execution_count": 42,
      "outputs": [
        {
          "output_type": "execute_result",
          "data": {
            "text/plain": [
              "<Axes: ylabel='Count'>"
            ]
          },
          "metadata": {},
          "execution_count": 42
        },
        {
          "output_type": "display_data",
          "data": {
            "text/plain": [
              "<Figure size 640x480 with 1 Axes>"
            ],
            "image/png": "[encoded data removed]"
          },
          "metadata": {}
        }
      ]
    },
    {
      "cell_type": "code",
      "source": [
        "population=np.random.randint(10,20,50)"
      ],
      "metadata": {
        "id": "899BYKFPFpj7"
      },
      "execution_count": 44,
      "outputs": []
    },
    {
      "cell_type": "code",
      "source": [
        "population"
      ],
      "metadata": {
        "colab": {
          "base_uri": "https://localhost:8080/"
        },
        "id": "ge3xHj1YFph9",
        "outputId": "4c90c7a5-6b0b-4051-8c27-65d0428b7a07"
      },
      "execution_count": 45,
      "outputs": [
        {
          "output_type": "execute_result",
          "data": {
            "text/plain": [
              "array([12, 10, 18, 15, 18, 14, 19, 12, 12, 18, 17, 10, 14, 15, 13, 11, 18,\n",
              "       10, 13, 14, 18, 12, 19, 14, 12, 12, 19, 19, 13, 15, 16, 13, 13, 14,\n",
              "       17, 18, 11, 14, 19, 17, 16, 17, 17, 11, 18, 17, 10, 18, 12, 17])"
            ]
          },
          "metadata": {},
          "execution_count": 45
        }
      ]
    },
    {
      "cell_type": "code",
      "source": [
        "np.mean(population)"
      ],
      "metadata": {
        "colab": {
          "base_uri": "https://localhost:8080/"
        },
        "id": "-l83U9V7FpU7",
        "outputId": "fe5d89fa-bbe4-4e92-adf4-57da35bfa010"
      },
      "execution_count": 46,
      "outputs": [
        {
          "output_type": "execute_result",
          "data": {
            "text/plain": [
              "14.82"
            ]
          },
          "metadata": {},
          "execution_count": 46
        }
      ]
    },
    {
      "cell_type": "code",
      "source": [
        "sample1=np.random.choice(population,20)\n",
        "sample2=np.random.choice(population,20)\n",
        "sample3=np.random.choice(population,20)\n",
        "sample4=np.random.choice(population,20)"
      ],
      "metadata": {
        "id": "VQLLOfCQG-cA"
      },
      "execution_count": 48,
      "outputs": []
    },
    {
      "cell_type": "code",
      "source": [
        "sample1"
      ],
      "metadata": {
        "colab": {
          "base_uri": "https://localhost:8080/"
        },
        "id": "OQDx2YxWHU-0",
        "outputId": "c62d1a98-89e5-443e-fd24-053f4b215faf"
      },
      "execution_count": 49,
      "outputs": [
        {
          "output_type": "execute_result",
          "data": {
            "text/plain": [
              "array([17, 18, 15, 18, 18, 11, 10, 13, 12, 18, 12, 13, 14, 10, 10, 12, 14,\n",
              "       14, 14, 10])"
            ]
          },
          "metadata": {},
          "execution_count": 49
        }
      ]
    },
    {
      "cell_type": "code",
      "source": [
        "sample2"
      ],
      "metadata": {
        "colab": {
          "base_uri": "https://localhost:8080/"
        },
        "id": "LvwoBZDvHXg1",
        "outputId": "ac21bc20-dd00-4e8f-90c9-162055d5142a"
      },
      "execution_count": 50,
      "outputs": [
        {
          "output_type": "execute_result",
          "data": {
            "text/plain": [
              "array([11, 15, 18, 13, 17, 12, 15, 17, 19, 15, 14, 14, 18, 18, 11, 12, 19,\n",
              "       14, 14, 11])"
            ]
          },
          "metadata": {},
          "execution_count": 50
        }
      ]
    },
    {
      "cell_type": "code",
      "source": [
        "sample3"
      ],
      "metadata": {
        "colab": {
          "base_uri": "https://localhost:8080/"
        },
        "id": "ChkxSF_OHanx",
        "outputId": "cfab4984-c089-4669-b328-42e258955e92"
      },
      "execution_count": 51,
      "outputs": [
        {
          "output_type": "execute_result",
          "data": {
            "text/plain": [
              "array([10, 19, 14, 18, 19, 11, 13, 10, 17, 14, 14, 18, 13, 18, 10, 13, 18,\n",
              "       18, 13, 11])"
            ]
          },
          "metadata": {},
          "execution_count": 51
        }
      ]
    },
    {
      "cell_type": "code",
      "source": [
        "sample4"
      ],
      "metadata": {
        "colab": {
          "base_uri": "https://localhost:8080/"
        },
        "id": "FcWRmFJ0HdMF",
        "outputId": "90fe1f88-9de5-40f3-e380-ca8f049e14b8"
      },
      "execution_count": 52,
      "outputs": [
        {
          "output_type": "execute_result",
          "data": {
            "text/plain": [
              "array([15, 10, 10, 19, 13, 18, 14, 19, 13, 14, 13, 18, 13, 10, 12, 18, 18,\n",
              "       11, 12, 13])"
            ]
          },
          "metadata": {},
          "execution_count": 52
        }
      ]
    },
    {
      "cell_type": "code",
      "source": [
        "mean_ofall_samples=[]\n",
        "sample_mean=[sample1,sample2,sample3,sample4]\n",
        "for sample in sample_mean:\n",
        "  mean_ofall_samples.append(np.mean(sample))"
      ],
      "metadata": {
        "id": "LDujr6e4HfKX"
      },
      "execution_count": 54,
      "outputs": []
    },
    {
      "cell_type": "code",
      "source": [
        "mean_ofall_samples"
      ],
      "metadata": {
        "colab": {
          "base_uri": "https://localhost:8080/"
        },
        "id": "nyIO9VrGIhfL",
        "outputId": "a69da4b6-6e46-4aa5-f440-38a5a165619e"
      },
      "execution_count": 55,
      "outputs": [
        {
          "output_type": "execute_result",
          "data": {
            "text/plain": [
              "[13.65, 14.85, 14.55, 14.15]"
            ]
          },
          "metadata": {},
          "execution_count": 55
        }
      ]
    },
    {
      "cell_type": "code",
      "source": [
        "sns.distplot(mean_ofall_samples) # Above code is example of central limit theorem"
      ],
      "metadata": {
        "colab": {
          "base_uri": "https://localhost:8080/",
          "height": 638
        },
        "id": "JqSs-xKDMH1v",
        "outputId": "30210a72-0884-404b-82b1-fbf21bd4ac27"
      },
      "execution_count": 68,
      "outputs": [
        {
          "output_type": "stream",
          "name": "stderr",
          "text": [
            "<ipython-input-68-50c976acb6de>:1: UserWarning: \n",
            "\n",
            "`distplot` is a deprecated function and will be removed in seaborn v0.14.0.\n",
            "\n",
            "Please adapt your code to use either `displot` (a figure-level function with\n",
            "similar flexibility) or `histplot` (an axes-level function for histograms).\n",
            "\n",
            "For a guide to updating your code to use the new functions, please see\n",
            "https://gist.github.com/mwaskom/de44147ed2974457ad6372750bbe5751\n",
            "\n",
            "  sns.distplot(mean_ofall_samples) # Above code is example of central limit theorem\n"
          ]
        },
        {
          "output_type": "execute_result",
          "data": {
            "text/plain": [
              "<Axes: ylabel='Density'>"
            ]
          },
          "metadata": {},
          "execution_count": 68
        },
        {
          "output_type": "display_data",
          "data": {
            "text/plain": [
              "<Figure size 640x480 with 1 Axes>"
            ],
            "image/png": "[encoded data removed]"
          },
          "metadata": {}
        }
      ]
    },
    {
      "cell_type": "code",
      "source": [
        "#Central limit theorem: the sample mean will be approximated to normal distribution given sample size>=30 and no of samples should be sufficiently large"
      ],
      "metadata": {
        "id": "IN9Bit_fIt6m"
      },
      "execution_count": 57,
      "outputs": []
    },
    {
      "cell_type": "code",
      "source": [
        "population=np.random.binomial(10,0.5,1000)\n",
        "population"
      ],
      "metadata": {
        "colab": {
          "base_uri": "https://localhost:8080/"
        },
        "id": "sACmp-LvJMXV",
        "outputId": "2aa0c497-5967-4918-b60e-c60001008122"
      },
      "execution_count": 58,
      "outputs": [
        {
          "output_type": "execute_result",
          "data": {
            "text/plain": [
              "array([4, 4, 6, 9, 5, 7, 7, 5, 5, 3, 5, 2, 7, 5, 3, 4, 5, 6, 6, 6, 4, 5,\n",
              "       3, 3, 6, 6, 8, 6, 5, 3, 7, 6, 4, 6, 8, 6, 4, 5, 5, 7, 5, 6, 7, 4,\n",
              "       3, 5, 5, 5, 6, 4, 6, 5, 7, 3, 5, 7, 5, 4, 4, 3, 5, 4, 4, 3, 2, 4,\n",
              "       2, 7, 5, 6, 4, 5, 7, 5, 4, 2, 3, 5, 6, 3, 5, 2, 6, 3, 3, 8, 3, 3,\n",
              "       5, 5, 3, 1, 8, 6, 7, 4, 5, 4, 5, 7, 8, 4, 6, 7, 6, 7, 4, 6, 5, 4,\n",
              "       6, 4, 3, 5, 3, 5, 7, 7, 5, 1, 4, 3, 8, 4, 5, 5, 4, 4, 6, 6, 3, 5,\n",
              "       5, 5, 4, 6, 8, 8, 7, 3, 7, 5, 7, 5, 8, 6, 4, 4, 6, 5, 6, 5, 5, 6,\n",
              "       6, 6, 4, 4, 5, 4, 5, 5, 6, 5, 4, 6, 7, 4, 7, 4, 8, 6, 6, 6, 5, 5,\n",
              "       7, 5, 6, 7, 5, 3, 5, 5, 5, 3, 6, 5, 7, 3, 3, 6, 3, 5, 4, 2, 5, 6,\n",
              "       5, 4, 5, 4, 4, 6, 5, 4, 6, 3, 5, 7, 7, 5, 7, 7, 3, 4, 6, 5, 6, 5,\n",
              "       4, 3, 6, 2, 3, 7, 5, 5, 5, 5, 5, 6, 4, 6, 2, 4, 5, 5, 3, 6, 5, 6,\n",
              "       6, 5, 7, 6, 4, 5, 5, 4, 6, 3, 6, 5, 6, 8, 4, 8, 5, 5, 5, 6, 7, 6,\n",
              "       5, 3, 6, 5, 6, 5, 5, 4, 3, 5, 6, 1, 5, 6, 8, 8, 3, 4, 4, 5, 5, 6,\n",
              "       4, 9, 2, 6, 7, 6, 4, 6, 5, 5, 4, 7, 3, 4, 7, 5, 6, 6, 1, 4, 3, 7,\n",
              "       5, 5, 5, 4, 7, 5, 4, 4, 6, 4, 3, 5, 6, 6, 2, 5, 5, 6, 4, 5, 5, 6,\n",
              "       5, 9, 5, 4, 6, 5, 4, 3, 6, 7, 3, 4, 5, 5, 6, 5, 5, 8, 4, 3, 4, 6,\n",
              "       9, 4, 6, 4, 6, 4, 1, 7, 6, 4, 7, 7, 4, 4, 4, 5, 6, 4, 6, 7, 5, 3,\n",
              "       4, 6, 4, 2, 8, 3, 5, 7, 4, 5, 5, 5, 6, 6, 4, 5, 9, 3, 5, 5, 5, 4,\n",
              "       5, 6, 8, 3, 7, 6, 4, 6, 6, 6, 6, 6, 2, 3, 7, 6, 4, 5, 6, 6, 6, 4,\n",
              "       6, 5, 3, 7, 2, 6, 7, 7, 6, 8, 5, 5, 4, 8, 6, 4, 7, 9, 4, 3, 6, 5,\n",
              "       6, 2, 5, 3, 6, 8, 6, 7, 5, 5, 5, 3, 5, 6, 3, 6, 7, 7, 6, 7, 8, 6,\n",
              "       3, 6, 4, 6, 5, 4, 3, 5, 3, 6, 4, 8, 6, 5, 9, 5, 6, 5, 7, 8, 5, 3,\n",
              "       5, 5, 6, 6, 7, 3, 3, 5, 6, 6, 5, 5, 3, 5, 6, 4, 4, 6, 2, 5, 6, 3,\n",
              "       6, 9, 4, 7, 5, 5, 6, 5, 3, 6, 5, 3, 3, 9, 8, 4, 3, 6, 5, 6, 6, 4,\n",
              "       5, 3, 7, 5, 4, 5, 4, 5, 3, 4, 8, 5, 6, 8, 8, 5, 5, 3, 7, 5, 5, 7,\n",
              "       5, 5, 4, 2, 5, 9, 5, 5, 4, 3, 5, 4, 4, 3, 5, 4, 5, 3, 2, 4, 5, 5,\n",
              "       7, 5, 4, 3, 7, 5, 3, 4, 4, 2, 5, 7, 6, 6, 2, 4, 5, 7, 6, 3, 7, 5,\n",
              "       4, 5, 7, 5, 6, 5, 6, 7, 6, 7, 4, 5, 6, 5, 7, 6, 4, 3, 4, 6, 4, 5,\n",
              "       3, 5, 6, 7, 2, 5, 4, 3, 3, 8, 4, 5, 2, 4, 7, 5, 6, 4, 5, 6, 4, 5,\n",
              "       6, 3, 3, 7, 3, 8, 6, 2, 3, 3, 3, 6, 5, 1, 6, 5, 5, 5, 2, 3, 4, 3,\n",
              "       2, 3, 5, 3, 3, 6, 6, 6, 5, 5, 7, 4, 5, 5, 7, 8, 5, 5, 6, 2, 5, 4,\n",
              "       2, 4, 4, 3, 7, 4, 3, 3, 6, 5, 2, 5, 6, 4, 6, 3, 3, 5, 3, 6, 5, 2,\n",
              "       3, 4, 2, 7, 3, 4, 3, 6, 5, 5, 3, 2, 6, 4, 5, 3, 5, 3, 6, 5, 4, 4,\n",
              "       5, 4, 5, 5, 5, 1, 5, 6, 9, 4, 6, 2, 7, 7, 6, 6, 6, 3, 5, 7, 5, 4,\n",
              "       4, 4, 2, 6, 4, 6, 3, 5, 4, 5, 4, 6, 6, 6, 5, 3, 8, 5, 6, 6, 3, 4,\n",
              "       7, 4, 4, 5, 6, 4, 3, 3, 7, 1, 3, 9, 4, 4, 4, 7, 2, 4, 4, 5, 5, 6,\n",
              "       6, 5, 6, 6, 3, 4, 4, 5, 7, 3, 4, 7, 2, 5, 7, 6, 6, 3, 7, 3, 6, 1,\n",
              "       6, 4, 5, 4, 4, 8, 3, 6, 7, 6, 6, 4, 4, 5, 3, 4, 6, 5, 6, 5, 5, 6,\n",
              "       4, 4, 4, 5, 8, 5, 6, 3, 7, 6, 6, 7, 5, 6, 6, 5, 2, 6, 7, 4, 3, 8,\n",
              "       5, 5, 5, 4, 4, 5, 6, 5, 4, 9, 5, 1, 3, 5, 6, 7, 7, 7, 7, 2, 5, 6,\n",
              "       4, 5, 6, 6, 6, 2, 4, 4, 5, 4, 6, 7, 6, 6, 4, 5, 6, 3, 5, 5, 6, 7,\n",
              "       5, 8, 5, 4, 4, 5, 8, 8, 4, 6, 6, 4, 2, 4, 2, 6, 4, 6, 7, 6, 7, 3,\n",
              "       4, 4, 8, 6, 4, 6, 6, 5, 5, 3, 2, 4, 7, 6, 6, 6, 6, 6, 9, 4, 6, 8,\n",
              "       6, 5, 5, 6, 6, 2, 6, 5, 7, 5, 5, 4, 1, 3, 3, 8, 3, 4, 7, 2, 3, 4,\n",
              "       5, 6, 5, 7, 7, 6, 5, 4, 7, 5, 4, 4, 6, 4, 4, 5, 6, 9, 2, 3, 6, 4,\n",
              "       7, 2, 5, 6, 5, 5, 5, 8, 6, 1])"
            ]
          },
          "metadata": {},
          "execution_count": 58
        }
      ]
    },
    {
      "cell_type": "code",
      "source": [
        "sns.distplot(population)"
      ],
      "metadata": {
        "colab": {
          "base_uri": "https://localhost:8080/",
          "height": 638
        },
        "id": "iLw8MLexJ_CC",
        "outputId": "6eb898fd-8a69-4653-c808-fcf421845f6f"
      },
      "execution_count": 61,
      "outputs": [
        {
          "output_type": "stream",
          "name": "stderr",
          "text": [
            "<ipython-input-61-8d1caca3cc70>:1: UserWarning: \n",
            "\n",
            "`distplot` is a deprecated function and will be removed in seaborn v0.14.0.\n",
            "\n",
            "Please adapt your code to use either `displot` (a figure-level function with\n",
            "similar flexibility) or `histplot` (an axes-level function for histograms).\n",
            "\n",
            "For a guide to updating your code to use the new functions, please see\n",
            "https://gist.github.com/mwaskom/de44147ed2974457ad6372750bbe5751\n",
            "\n",
            "  sns.distplot(population)\n"
          ]
        },
        {
          "output_type": "execute_result",
          "data": {
            "text/plain": [
              "<Axes: ylabel='Density'>"
            ]
          },
          "metadata": {},
          "execution_count": 61
        },
        {
          "output_type": "display_data",
          "data": {
            "text/plain": [
              "<Figure size 640x480 with 1 Axes>"
            ],
            "image/png": "[encoded data removed]"
          },
          "metadata": {}
        }
      ]
    },
    {
      "cell_type": "code",
      "source": [
        "#Implementation of central limit theorem\n",
        "sample_size=3000\n",
        "mean_ofall_samples=[]\n",
        "\n",
        "for i in range(1,10000):\n",
        "  sample=np.random.choice(population,size=sample_size)\n",
        "  mean_ofall_samples.append(np.mean(sample))"
      ],
      "metadata": {
        "id": "Zo0Ss532KMox"
      },
      "execution_count": 63,
      "outputs": []
    },
    {
      "cell_type": "code",
      "source": [
        "mean_ofall_samples"
      ],
      "metadata": {
        "colab": {
          "base_uri": "https://localhost:8080/"
        },
        "id": "RzxGHKiuLvtU",
        "outputId": "fedb4762-ea69-44e1-e385-967eec89149f"
      },
      "execution_count": 64,
      "outputs": [
        {
          "output_type": "execute_result",
          "data": {
            "text/plain": [
              "[4.9446666666666665,\n",
              " 5.035,\n",
              " 5.023333333333333,\n",
              " 5.007666666666666,\n",
              " 5.033666666666667,\n",
              " 4.998333333333333,\n",
              " 4.974666666666667,\n",
              " 5.007666666666666,\n",
              " 5.003,\n",
              " 5.0296666666666665,\n",
              " 5.017333333333333,\n",
              " 5.012333333333333,\n",
              " 5.028666666666667,\n",
              " 4.969,\n",
              " 5.045,\n",
              " 4.975333333333333,\n",
              " 5.012,\n",
              " 5.06,\n",
              " 4.991666666666666,\n",
              " 5.0296666666666665,\n",
              " 4.996,\n",
              " 5.023666666666666,\n",
              " 5.003333333333333,\n",
              " 5.046666666666667,\n",
              " 5.036,\n",
              " 4.998,\n",
              " 5.028333333333333,\n",
              " 4.989,\n",
              " 5.003,\n",
              " 4.977,\n",
              " 5.051333333333333,\n",
              " 5.031,\n",
              " 4.989333333333334,\n",
              " 4.997333333333334,\n",
              " 4.995333333333333,\n",
              " 5.005333333333334,\n",
              " 4.996666666666667,\n",
              " 5.025,\n",
              " 5.007,\n",
              " 5.000666666666667,\n",
              " 4.995,\n",
              " 4.967666666666666,\n",
              " 4.999666666666666,\n",
              " 5.008,\n",
              " 4.987666666666667,\n",
              " 5.025666666666667,\n",
              " 4.995333333333333,\n",
              " 4.961333333333333,\n",
              " 5.007333333333333,\n",
              " 4.968333333333334,\n",
              " 5.028,\n",
              " 4.998666666666667,\n",
              " 5.057666666666667,\n",
              " 4.924666666666667,\n",
              " 4.994666666666666,\n",
              " 4.974,\n",
              " 4.98,\n",
              " 5.001666666666667,\n",
              " 5.033666666666667,\n",
              " 5.044333333333333,\n",
              " 4.956,\n",
              " 4.983,\n",
              " 4.998333333333333,\n",
              " 5.043333333333333,\n",
              " 4.963666666666667,\n",
              " 4.987,\n",
              " 4.974333333333333,\n",
              " 4.960666666666667,\n",
              " 5.025333333333333,\n",
              " 5.021,\n",
              " 5.014333333333333,\n",
              " 4.956666666666667,\n",
              " 4.975,\n",
              " 4.980666666666667,\n",
              " 5.045333333333334,\n",
              " 4.998666666666667,\n",
              " 4.976,\n",
              " 4.982666666666667,\n",
              " 4.978666666666666,\n",
              " 4.942,\n",
              " 5.0183333333333335,\n",
              " 4.948333333333333,\n",
              " 4.972,\n",
              " 5.021,\n",
              " 4.994666666666666,\n",
              " 4.994,\n",
              " 4.991,\n",
              " 4.949666666666666,\n",
              " 5.008,\n",
              " 5.012666666666667,\n",
              " 4.991333333333333,\n",
              " 4.977333333333333,\n",
              " 4.997333333333334,\n",
              " 5.009,\n",
              " 4.990333333333333,\n",
              " 4.977333333333333,\n",
              " 4.985666666666667,\n",
              " 4.981,\n",
              " 5.009,\n",
              " 4.969,\n",
              " 5.023666666666666,\n",
              " 4.960666666666667,\n",
              " 4.983666666666666,\n",
              " 5.05,\n",
              " 5.030333333333333,\n",
              " 5.005333333333334,\n",
              " 4.979333333333333,\n",
              " 5.017,\n",
              " 5.019333333333333,\n",
              " 4.986666666666666,\n",
              " 4.982,\n",
              " 4.972,\n",
              " 5.0023333333333335,\n",
              " 5.01,\n",
              " 5.009,\n",
              " 4.997333333333334,\n",
              " 5.035,\n",
              " 4.997333333333334,\n",
              " 5.038,\n",
              " 4.949333333333334,\n",
              " 5.026,\n",
              " 5.016666666666667,\n",
              " 4.991333333333333,\n",
              " 4.986,\n",
              " 5.014,\n",
              " 5.044,\n",
              " 4.996333333333333,\n",
              " 5.015333333333333,\n",
              " 4.999333333333333,\n",
              " 4.966,\n",
              " 4.984333333333334,\n",
              " 4.983,\n",
              " 4.949666666666666,\n",
              " 4.986666666666666,\n",
              " 5.0456666666666665,\n",
              " 5.008666666666667,\n",
              " 4.959333333333333,\n",
              " 5.007333333333333,\n",
              " 4.995666666666667,\n",
              " 4.9656666666666665,\n",
              " 4.955,\n",
              " 5.002,\n",
              " 5.032666666666667,\n",
              " 5.033333333333333,\n",
              " 4.982,\n",
              " 5.008666666666667,\n",
              " 5.015666666666666,\n",
              " 5.014333333333333,\n",
              " 4.988,\n",
              " 5.023333333333333,\n",
              " 4.993,\n",
              " 5.016,\n",
              " 5.053333333333334,\n",
              " 4.996,\n",
              " 4.957,\n",
              " 5.030333333333333,\n",
              " 5.012333333333333,\n",
              " 4.999333333333333,\n",
              " 4.974,\n",
              " 5.007,\n",
              " 5.035666666666667,\n",
              " 5.002666666666666,\n",
              " 4.959,\n",
              " 5.019,\n",
              " 4.983,\n",
              " 4.999,\n",
              " 4.988333333333333,\n",
              " 4.986666666666666,\n",
              " 5.015333333333333,\n",
              " 4.981,\n",
              " 5.008,\n",
              " 5.000333333333334,\n",
              " 4.987666666666667,\n",
              " 5.02,\n",
              " 5.030666666666667,\n",
              " 4.992,\n",
              " 4.957666666666666,\n",
              " 5.0056666666666665,\n",
              " 4.961333333333333,\n",
              " 5.017666666666667,\n",
              " 5.008,\n",
              " 4.991666666666666,\n",
              " 5.04,\n",
              " 5.012666666666667,\n",
              " 4.98,\n",
              " 4.978666666666666,\n",
              " 5.038333333333333,\n",
              " 5.023666666666666,\n",
              " 4.9816666666666665,\n",
              " 4.993666666666667,\n",
              " 5.013333333333334,\n",
              " 5.014666666666667,\n",
              " 4.9943333333333335,\n",
              " 5.073,\n",
              " 4.990666666666667,\n",
              " 4.972333333333333,\n",
              " 4.988,\n",
              " 4.992666666666667,\n",
              " 5.047,\n",
              " 4.993333333333333,\n",
              " 5.0343333333333335,\n",
              " 5.0473333333333334,\n",
              " 4.971,\n",
              " 4.963,\n",
              " 5.004,\n",
              " 4.992,\n",
              " 5.000666666666667,\n",
              " 4.953,\n",
              " 4.991,\n",
              " 4.984333333333334,\n",
              " 4.985,\n",
              " 5.044,\n",
              " 4.985,\n",
              " 4.989333333333334,\n",
              " 4.962,\n",
              " 5.003666666666667,\n",
              " 4.976666666666667,\n",
              " 4.99,\n",
              " 4.984333333333334,\n",
              " 4.958666666666667,\n",
              " 5.000666666666667,\n",
              " 4.987666666666667,\n",
              " 4.956666666666667,\n",
              " 5.001666666666667,\n",
              " 4.982,\n",
              " 5.005,\n",
              " 4.988666666666667,\n",
              " 5.0023333333333335,\n",
              " 5.016333333333334,\n",
              " 4.987666666666667,\n",
              " 4.991666666666666,\n",
              " 5.022666666666667,\n",
              " 4.963,\n",
              " 5.022666666666667,\n",
              " 5.026666666666666,\n",
              " 5.035666666666667,\n",
              " 5.026,\n",
              " 4.991333333333333,\n",
              " 5.003666666666667,\n",
              " 4.995333333333333,\n",
              " 4.948666666666667,\n",
              " 4.9816666666666665,\n",
              " 4.980666666666667,\n",
              " 5.03,\n",
              " 5.019,\n",
              " 4.979,\n",
              " 5.052,\n",
              " 4.98,\n",
              " 4.929666666666667,\n",
              " 5.010666666666666,\n",
              " 4.96,\n",
              " 4.987333333333333,\n",
              " 4.996333333333333,\n",
              " 4.9623333333333335,\n",
              " 5.045,\n",
              " 4.966,\n",
              " 4.977,\n",
              " 5.054666666666667,\n",
              " 4.968,\n",
              " 4.993,\n",
              " 4.951,\n",
              " 4.979,\n",
              " 5.060333333333333,\n",
              " 5.040333333333334,\n",
              " 5.000666666666667,\n",
              " 4.9816666666666665,\n",
              " 5.001666666666667,\n",
              " 4.965333333333334,\n",
              " 5.010666666666666,\n",
              " 5.039333333333333,\n",
              " 4.9463333333333335,\n",
              " 5.0,\n",
              " 5.038333333333333,\n",
              " 5.030333333333333,\n",
              " 5.000666666666667,\n",
              " 4.995666666666667,\n",
              " 5.014,\n",
              " 4.999666666666666,\n",
              " 5.012666666666667,\n",
              " 4.933,\n",
              " 5.035,\n",
              " 5.017333333333333,\n",
              " 4.964,\n",
              " 4.9976666666666665,\n",
              " 4.987333333333333,\n",
              " 4.959,\n",
              " 4.971666666666667,\n",
              " 5.014333333333333,\n",
              " 5.0056666666666665,\n",
              " 4.981,\n",
              " 5.001,\n",
              " 5.096333333333333,\n",
              " 4.990666666666667,\n",
              " 4.978666666666666,\n",
              " 4.969333333333333,\n",
              " 5.026,\n",
              " 4.953,\n",
              " 4.939333333333333,\n",
              " 4.950666666666667,\n",
              " 5.030333333333333,\n",
              " 5.011333333333333,\n",
              " 4.955666666666667,\n",
              " 4.976333333333334,\n",
              " 4.96,\n",
              " 5.011,\n",
              " 4.978666666666666,\n",
              " 5.064,\n",
              " 4.960333333333334,\n",
              " 5.025,\n",
              " 4.991333333333333,\n",
              " 4.947,\n",
              " 4.980333333333333,\n",
              " 5.017666666666667,\n",
              " 5.015333333333333,\n",
              " 5.003333333333333,\n",
              " 5.0056666666666665,\n",
              " 4.998,\n",
              " 5.03,\n",
              " 4.974666666666667,\n",
              " 5.024,\n",
              " 5.007666666666666,\n",
              " 4.973,\n",
              " 4.98,\n",
              " 4.914666666666666,\n",
              " 5.015666666666666,\n",
              " 5.016333333333334,\n",
              " 4.980666666666667,\n",
              " 5.015333333333333,\n",
              " 4.971333333333333,\n",
              " 4.985,\n",
              " 4.945666666666667,\n",
              " 4.969666666666667,\n",
              " 4.979666666666667,\n",
              " 4.985333333333333,\n",
              " 5.025666666666667,\n",
              " 5.075,\n",
              " 5.015,\n",
              " 5.035666666666667,\n",
              " 5.036666666666667,\n",
              " 5.021333333333334,\n",
              " 5.009333333333333,\n",
              " 5.004666666666667,\n",
              " 4.979666666666667,\n",
              " 4.977666666666667,\n",
              " 4.998666666666667,\n",
              " 5.049666666666667,\n",
              " 4.983,\n",
              " 5.006,\n",
              " 5.011,\n",
              " 4.971666666666667,\n",
              " 4.975333333333333,\n",
              " 5.0,\n",
              " 4.966666666666667,\n",
              " 5.004,\n",
              " 5.008666666666667,\n",
              " 5.046666666666667,\n",
              " 5.043,\n",
              " 5.008333333333334,\n",
              " 4.990666666666667,\n",
              " 4.999666666666666,\n",
              " 5.028333333333333,\n",
              " 5.037,\n",
              " 4.947,\n",
              " 4.972,\n",
              " 4.956666666666667,\n",
              " 5.009333333333333,\n",
              " 5.008666666666667,\n",
              " 4.992666666666667,\n",
              " 5.040666666666667,\n",
              " 5.035,\n",
              " 4.977666666666667,\n",
              " 4.972333333333333,\n",
              " 4.9783333333333335,\n",
              " 4.977,\n",
              " 5.021,\n",
              " 5.0,\n",
              " 5.017666666666667,\n",
              " 5.034,\n",
              " 5.002666666666666,\n",
              " 4.996666666666667,\n",
              " 4.981,\n",
              " 4.978,\n",
              " 4.981,\n",
              " 5.005,\n",
              " 4.976,\n",
              " 5.053,\n",
              " 4.9463333333333335,\n",
              " 4.953333333333333,\n",
              " 4.969666666666667,\n",
              " 5.0343333333333335,\n",
              " 5.001333333333333,\n",
              " 5.011666666666667,\n",
              " 5.044333333333333,\n",
              " 5.012333333333333,\n",
              " 5.012333333333333,\n",
              " 5.019666666666667,\n",
              " 5.048666666666667,\n",
              " 4.991,\n",
              " 4.992666666666667,\n",
              " 5.004,\n",
              " 4.9816666666666665,\n",
              " 5.015,\n",
              " 5.013,\n",
              " 5.015,\n",
              " 4.992666666666667,\n",
              " 4.988666666666667,\n",
              " 5.011333333333333,\n",
              " 4.924333333333333,\n",
              " 5.011666666666667,\n",
              " 5.035333333333333,\n",
              " 5.054,\n",
              " 4.9863333333333335,\n",
              " 4.962666666666666,\n",
              " 5.022666666666667,\n",
              " 4.939,\n",
              " 4.991333333333333,\n",
              " 5.006666666666667,\n",
              " 4.997333333333334,\n",
              " 5.030333333333333,\n",
              " 5.0263333333333335,\n",
              " 4.964,\n",
              " 5.029,\n",
              " 5.011,\n",
              " 5.008666666666667,\n",
              " 5.036666666666667,\n",
              " 5.01,\n",
              " 5.0023333333333335,\n",
              " 4.988333333333333,\n",
              " 5.004666666666667,\n",
              " 5.019666666666667,\n",
              " 5.004,\n",
              " 4.969,\n",
              " 4.983,\n",
              " 4.992666666666667,\n",
              " 4.968,\n",
              " 5.042333333333334,\n",
              " 5.016,\n",
              " 5.01,\n",
              " 5.011666666666667,\n",
              " 5.07,\n",
              " 5.012666666666667,\n",
              " 4.993333333333333,\n",
              " 4.956333333333333,\n",
              " 4.978,\n",
              " 5.005333333333334,\n",
              " 4.979666666666667,\n",
              " 4.987,\n",
              " 4.993,\n",
              " 5.001333333333333,\n",
              " 5.008666666666667,\n",
              " 4.994,\n",
              " 4.984,\n",
              " 5.015666666666666,\n",
              " 4.945666666666667,\n",
              " 4.952333333333334,\n",
              " 5.006,\n",
              " 4.978,\n",
              " 4.988333333333333,\n",
              " 4.971333333333333,\n",
              " 4.983,\n",
              " 4.96,\n",
              " 4.993666666666667,\n",
              " 4.980333333333333,\n",
              " 5.038333333333333,\n",
              " 5.048,\n",
              " 5.001,\n",
              " 4.9976666666666665,\n",
              " 5.024,\n",
              " 5.001,\n",
              " 5.036333333333333,\n",
              " 4.980333333333333,\n",
              " 5.01,\n",
              " 5.032333333333334,\n",
              " 4.976666666666667,\n",
              " 5.008333333333334,\n",
              " 4.998333333333333,\n",
              " 5.025,\n",
              " 5.012,\n",
              " 4.986666666666666,\n",
              " 4.983666666666666,\n",
              " 4.999666666666666,\n",
              " 4.984666666666667,\n",
              " 4.996,\n",
              " 5.015,\n",
              " 5.020666666666667,\n",
              " 4.976666666666667,\n",
              " 5.011333333333333,\n",
              " 4.995,\n",
              " 4.955333333333333,\n",
              " 5.076,\n",
              " 5.022666666666667,\n",
              " 5.048,\n",
              " 4.943,\n",
              " 4.9383333333333335,\n",
              " 4.949333333333334,\n",
              " 5.020666666666667,\n",
              " 4.984333333333334,\n",
              " 4.983,\n",
              " 5.016666666666667,\n",
              " 5.024666666666667,\n",
              " 5.005333333333334,\n",
              " 5.0056666666666665,\n",
              " 5.008,\n",
              " 4.971,\n",
              " 5.027333333333333,\n",
              " 5.018,\n",
              " 5.0343333333333335,\n",
              " 4.998,\n",
              " 5.003333333333333,\n",
              " 5.06,\n",
              " 4.992333333333334,\n",
              " 4.973333333333334,\n",
              " 4.9976666666666665,\n",
              " 4.996666666666667,\n",
              " 4.969333333333333,\n",
              " 4.993,\n",
              " 4.9446666666666665,\n",
              " 4.992333333333334,\n",
              " 4.982666666666667,\n",
              " 4.967,\n",
              " 5.002,\n",
              " 4.983666666666666,\n",
              " 4.983666666666666,\n",
              " 4.973333333333334,\n",
              " 4.961666666666667,\n",
              " 5.004,\n",
              " 4.951333333333333,\n",
              " 5.039,\n",
              " 4.969333333333333,\n",
              " 4.957333333333334,\n",
              " 4.988666666666667,\n",
              " 4.941333333333334,\n",
              " 4.990333333333333,\n",
              " 5.041,\n",
              " 5.031333333333333,\n",
              " 5.015,\n",
              " 5.064666666666667,\n",
              " 5.007333333333333,\n",
              " 4.979,\n",
              " 4.976,\n",
              " 5.003666666666667,\n",
              " 4.984333333333334,\n",
              " 4.959666666666666,\n",
              " 4.998,\n",
              " 4.997333333333334,\n",
              " 4.956333333333333,\n",
              " 4.991666666666666,\n",
              " 4.968,\n",
              " 4.998,\n",
              " 5.000333333333334,\n",
              " 5.052666666666667,\n",
              " 4.971,\n",
              " 4.99,\n",
              " 5.025666666666667,\n",
              " 5.015333333333333,\n",
              " 4.984666666666667,\n",
              " 5.029333333333334,\n",
              " 4.965,\n",
              " 4.947666666666667,\n",
              " 5.013,\n",
              " 5.044,\n",
              " 5.0136666666666665,\n",
              " 4.971333333333333,\n",
              " 5.009333333333333,\n",
              " 4.969666666666667,\n",
              " 5.045,\n",
              " 4.9783333333333335,\n",
              " 4.978,\n",
              " 4.936,\n",
              " 5.001,\n",
              " 4.993666666666667,\n",
              " 5.055666666666666,\n",
              " 5.002666666666666,\n",
              " 4.921333333333333,\n",
              " 5.0023333333333335,\n",
              " 4.976666666666667,\n",
              " 4.991333333333333,\n",
              " 5.001333333333333,\n",
              " 4.953,\n",
              " 5.016666666666667,\n",
              " 5.057666666666667,\n",
              " 4.966,\n",
              " 4.957,\n",
              " 5.007333333333333,\n",
              " 5.025,\n",
              " 5.035333333333333,\n",
              " 5.013333333333334,\n",
              " 4.9703333333333335,\n",
              " 5.034666666666666,\n",
              " 5.054666666666667,\n",
              " 5.027333333333333,\n",
              " 5.023333333333333,\n",
              " 4.992333333333334,\n",
              " 4.958666666666667,\n",
              " 4.966,\n",
              " 4.971,\n",
              " 4.926,\n",
              " 4.966333333333333,\n",
              " 4.977666666666667,\n",
              " 4.966333333333333,\n",
              " 4.954,\n",
              " 5.009333333333333,\n",
              " 5.021,\n",
              " 5.003666666666667,\n",
              " 5.0136666666666665,\n",
              " 5.007,\n",
              " 4.956,\n",
              " 4.962,\n",
              " 5.042333333333334,\n",
              " 5.0296666666666665,\n",
              " 5.035666666666667,\n",
              " 4.9896666666666665,\n",
              " 5.012666666666667,\n",
              " 5.019,\n",
              " 4.987333333333333,\n",
              " 5.006,\n",
              " 5.017,\n",
              " 4.998,\n",
              " 4.973333333333334,\n",
              " 5.028,\n",
              " 4.906666666666666,\n",
              " 4.966,\n",
              " 5.031333333333333,\n",
              " 4.979666666666667,\n",
              " 5.017,\n",
              " 4.958333333333333,\n",
              " 4.9976666666666665,\n",
              " 4.980666666666667,\n",
              " 4.983333333333333,\n",
              " 4.966333333333333,\n",
              " 5.013333333333334,\n",
              " 4.982666666666667,\n",
              " 5.067666666666667,\n",
              " 4.972666666666667,\n",
              " 5.006333333333333,\n",
              " 4.956666666666667,\n",
              " 4.978666666666666,\n",
              " 5.010666666666666,\n",
              " 5.009666666666667,\n",
              " 5.018666666666666,\n",
              " 5.02,\n",
              " 4.9446666666666665,\n",
              " 5.036666666666667,\n",
              " 4.963666666666667,\n",
              " 4.995666666666667,\n",
              " 5.028666666666667,\n",
              " 4.967,\n",
              " 4.966,\n",
              " 4.995666666666667,\n",
              " 5.044,\n",
              " 5.087666666666666,\n",
              " 5.001333333333333,\n",
              " 5.019666666666667,\n",
              " 5.015333333333333,\n",
              " 5.024,\n",
              " 5.014666666666667,\n",
              " 4.990666666666667,\n",
              " 4.997333333333334,\n",
              " 5.004333333333333,\n",
              " 4.958666666666667,\n",
              " 5.054666666666667,\n",
              " 5.012666666666667,\n",
              " 5.000333333333334,\n",
              " 5.0343333333333335,\n",
              " 4.996333333333333,\n",
              " 5.033,\n",
              " 5.019,\n",
              " 4.970666666666666,\n",
              " 4.952333333333334,\n",
              " 5.006666666666667,\n",
              " 5.0263333333333335,\n",
              " 5.022666666666667,\n",
              " 4.9943333333333335,\n",
              " 5.001666666666667,\n",
              " 4.988666666666667,\n",
              " 5.003,\n",
              " 4.9703333333333335,\n",
              " 4.988333333333333,\n",
              " 4.979333333333333,\n",
              " 5.008333333333334,\n",
              " 4.991666666666666,\n",
              " 4.958333333333333,\n",
              " 4.967666666666666,\n",
              " 5.015666666666666,\n",
              " 5.014333333333333,\n",
              " 4.958333333333333,\n",
              " 4.960666666666667,\n",
              " 5.004333333333333,\n",
              " 5.003666666666667,\n",
              " 5.023,\n",
              " 5.041,\n",
              " 5.06,\n",
              " 4.984333333333334,\n",
              " 4.985333333333333,\n",
              " 4.957333333333334,\n",
              " 5.045333333333334,\n",
              " 4.991333333333333,\n",
              " 4.9943333333333335,\n",
              " 5.011333333333333,\n",
              " 4.956666666666667,\n",
              " 5.0103333333333335,\n",
              " 5.040333333333334,\n",
              " 5.055,\n",
              " 5.008666666666667,\n",
              " 4.9783333333333335,\n",
              " 4.981333333333334,\n",
              " 5.0183333333333335,\n",
              " 4.963,\n",
              " 4.943,\n",
              " 5.053333333333334,\n",
              " 5.058,\n",
              " 4.977333333333333,\n",
              " 4.995666666666667,\n",
              " 4.960666666666667,\n",
              " 5.006666666666667,\n",
              " 5.002666666666666,\n",
              " 4.996333333333333,\n",
              " 5.042333333333334,\n",
              " 4.96,\n",
              " 4.9736666666666665,\n",
              " 4.998333333333333,\n",
              " 4.923666666666667,\n",
              " 5.051,\n",
              " 4.987,\n",
              " 5.012333333333333,\n",
              " 4.941333333333334,\n",
              " 4.951,\n",
              " 4.982333333333333,\n",
              " 5.004666666666667,\n",
              " 5.0263333333333335,\n",
              " 4.997333333333334,\n",
              " 4.9976666666666665,\n",
              " 5.0,\n",
              " 4.973,\n",
              " 5.024333333333334,\n",
              " 4.995,\n",
              " 5.036666666666667,\n",
              " 4.997333333333334,\n",
              " 5.007,\n",
              " 5.047,\n",
              " 5.009,\n",
              " 5.016333333333334,\n",
              " 5.015,\n",
              " 5.014333333333333,\n",
              " 4.966666666666667,\n",
              " 4.979333333333333,\n",
              " 5.036333333333333,\n",
              " 4.998,\n",
              " 4.9383333333333335,\n",
              " 4.983,\n",
              " 5.024333333333334,\n",
              " 4.9656666666666665,\n",
              " 5.018666666666666,\n",
              " 4.971666666666667,\n",
              " 4.955,\n",
              " 4.953333333333333,\n",
              " 4.995,\n",
              " 4.955333333333333,\n",
              " 4.986,\n",
              " 4.972333333333333,\n",
              " 4.916666666666667,\n",
              " 5.062333333333333,\n",
              " 5.009333333333333,\n",
              " 4.953333333333333,\n",
              " 4.975666666666666,\n",
              " 5.034666666666666,\n",
              " 5.023333333333333,\n",
              " 4.971,\n",
              " 4.987333333333333,\n",
              " 4.981,\n",
              " 5.0,\n",
              " 4.993,\n",
              " 4.988333333333333,\n",
              " 5.030333333333333,\n",
              " 4.967,\n",
              " 5.0263333333333335,\n",
              " 4.999666666666666,\n",
              " 5.083666666666667,\n",
              " 4.995333333333333,\n",
              " 5.021,\n",
              " 5.012,\n",
              " 5.0263333333333335,\n",
              " 5.004333333333333,\n",
              " 5.0136666666666665,\n",
              " 5.0376666666666665,\n",
              " 5.0216666666666665,\n",
              " 4.999333333333333,\n",
              " 4.957666666666666,\n",
              " 4.966,\n",
              " 5.031,\n",
              " 5.033,\n",
              " 5.007666666666666,\n",
              " 4.973,\n",
              " 4.983333333333333,\n",
              " 5.046333333333333,\n",
              " 4.9623333333333335,\n",
              " 4.994666666666666,\n",
              " 5.063666666666666,\n",
              " 5.032333333333334,\n",
              " 5.033333333333333,\n",
              " 5.009333333333333,\n",
              " 5.027,\n",
              " 5.037,\n",
              " 4.993666666666667,\n",
              " 4.983,\n",
              " 4.976666666666667,\n",
              " 4.930666666666666,\n",
              " 5.023333333333333,\n",
              " 4.959333333333333,\n",
              " 4.958333333333333,\n",
              " 4.955666666666667,\n",
              " 4.987,\n",
              " 5.0103333333333335,\n",
              " 5.005333333333334,\n",
              " 4.999666666666666,\n",
              " 5.109333333333334,\n",
              " 5.042333333333334,\n",
              " 5.013333333333334,\n",
              " 4.999,\n",
              " 4.990333333333333,\n",
              " 4.974333333333333,\n",
              " 4.951666666666667,\n",
              " 4.982666666666667,\n",
              " 5.015,\n",
              " 4.963666666666667,\n",
              " 4.99,\n",
              " 5.003,\n",
              " 4.962666666666666,\n",
              " 4.947333333333333,\n",
              " 4.981333333333334,\n",
              " 5.006,\n",
              " 5.022,\n",
              " 4.996666666666667,\n",
              " 5.01,\n",
              " 5.002,\n",
              " 4.991,\n",
              " 4.992666666666667,\n",
              " 4.9976666666666665,\n",
              " 4.983666666666666,\n",
              " 4.974,\n",
              " 5.013,\n",
              " 4.976,\n",
              " 5.022333333333333,\n",
              " 5.016666666666667,\n",
              " 5.020333333333333,\n",
              " 5.023333333333333,\n",
              " 4.9943333333333335,\n",
              " 5.006,\n",
              " 4.994666666666666,\n",
              " 4.993666666666667,\n",
              " 4.985,\n",
              " 4.972,\n",
              " 5.0376666666666665,\n",
              " 4.978666666666666,\n",
              " 5.048333333333333,\n",
              " 5.055666666666666,\n",
              " 4.9783333333333335,\n",
              " 5.037,\n",
              " 4.977333333333333,\n",
              " 4.985,\n",
              " 5.041,\n",
              " 4.984,\n",
              " 5.0056666666666665,\n",
              " 4.966666666666667,\n",
              " 5.016333333333334,\n",
              " 4.968,\n",
              " 5.045,\n",
              " 4.947333333333333,\n",
              " 5.016,\n",
              " 5.0216666666666665,\n",
              " 4.947333333333333,\n",
              " 5.007666666666666,\n",
              " 4.999333333333333,\n",
              " 4.9623333333333335,\n",
              " 5.037333333333334,\n",
              " 4.985666666666667,\n",
              " 5.059333333333333,\n",
              " 5.024333333333334,\n",
              " 4.964,\n",
              " 4.972333333333333,\n",
              " 4.927666666666667,\n",
              " 5.004333333333333,\n",
              " 5.033,\n",
              " 5.036,\n",
              " 5.011,\n",
              " 4.991666666666666,\n",
              " 5.046666666666667,\n",
              " 5.047666666666666,\n",
              " 4.999333333333333,\n",
              " 5.006,\n",
              " 5.017,\n",
              " 4.980333333333333,\n",
              " 5.015,\n",
              " 5.036333333333333,\n",
              " 5.0136666666666665,\n",
              " 4.997333333333334,\n",
              " 5.001,\n",
              " 4.970666666666666,\n",
              " 4.971,\n",
              " 5.012666666666667,\n",
              " 4.987333333333333,\n",
              " 5.024,\n",
              " 5.032666666666667,\n",
              " 5.004,\n",
              " 5.023333333333333,\n",
              " 4.986666666666666,\n",
              " 4.977333333333333,\n",
              " 4.976,\n",
              " 5.007,\n",
              " 4.995,\n",
              " 5.029333333333334,\n",
              " 5.017,\n",
              " 5.007333333333333,\n",
              " 5.056666666666667,\n",
              " 4.995,\n",
              " 5.026,\n",
              " 5.054666666666667,\n",
              " 4.976,\n",
              " 4.942666666666667,\n",
              " 4.934666666666667,\n",
              " 5.035666666666667,\n",
              " 4.969333333333333,\n",
              " 5.020666666666667,\n",
              " 4.991666666666666,\n",
              " 4.9543333333333335,\n",
              " 4.983666666666666,\n",
              " 4.994666666666666,\n",
              " 4.977666666666667,\n",
              " 4.967666666666666,\n",
              " 5.064333333333333,\n",
              " 5.038,\n",
              " 5.001666666666667,\n",
              " 5.060666666666667,\n",
              " 5.073666666666667,\n",
              " 4.9736666666666665,\n",
              " 5.033666666666667,\n",
              " 4.980666666666667,\n",
              " 4.975,\n",
              " 5.021,\n",
              " 5.018666666666666,\n",
              " 4.968666666666667,\n",
              " 5.003,\n",
              " 5.035666666666667,\n",
              " 4.985,\n",
              " 5.023,\n",
              " 4.995333333333333,\n",
              " 5.055666666666666,\n",
              " 5.022333333333333,\n",
              " 4.9896666666666665,\n",
              " 5.038333333333333,\n",
              " 4.9703333333333335,\n",
              " 4.9303333333333335,\n",
              " 4.983333333333333,\n",
              " 5.020333333333333,\n",
              " 5.018,\n",
              " 4.946,\n",
              " 5.057333333333333,\n",
              " 5.01,\n",
              " 4.967666666666666,\n",
              " 4.972666666666667,\n",
              " 4.996333333333333,\n",
              " 5.017333333333333,\n",
              " 5.046,\n",
              " 4.9943333333333335,\n",
              " 4.975666666666666,\n",
              " 4.939666666666667,\n",
              " 4.971,\n",
              " 5.0183333333333335,\n",
              " 4.996,\n",
              " 4.9863333333333335,\n",
              " 4.992666666666667,\n",
              " 5.041333333333333,\n",
              " 4.974333333333333,\n",
              " 4.989,\n",
              " 5.011333333333333,\n",
              " 5.013333333333334,\n",
              " 4.997,\n",
              " 4.984333333333334,\n",
              " 5.015666666666666,\n",
              " 5.027666666666667,\n",
              " 4.983666666666666,\n",
              " 4.996333333333333,\n",
              " 5.018,\n",
              " 4.986666666666666,\n",
              " 4.9656666666666665,\n",
              " 4.988333333333333,\n",
              " 4.998666666666667,\n",
              " 4.979333333333333,\n",
              " 4.999666666666666,\n",
              " 5.022666666666667,\n",
              " 5.009666666666667,\n",
              " 5.011333333333333,\n",
              " 4.945333333333333,\n",
              " 5.011333333333333,\n",
              " 5.081666666666667,\n",
              " 4.940333333333333,\n",
              " 4.9943333333333335,\n",
              " 4.955333333333333,\n",
              " 5.0,\n",
              " 5.05,\n",
              " ...]"
            ]
          },
          "metadata": {},
          "execution_count": 64
        }
      ]
    },
    {
      "cell_type": "code",
      "source": [
        "sns.distplot(mean_ofall_samples)"
      ],
      "metadata": {
        "colab": {
          "base_uri": "https://localhost:8080/",
          "height": 638
        },
        "id": "Zd01qbpAL0Rk",
        "outputId": "b932dd0c-7f7e-49d5-c1e6-5d2106f9f7a9"
      },
      "execution_count": 65,
      "outputs": [
        {
          "output_type": "stream",
          "name": "stderr",
          "text": [
            "<ipython-input-65-b53bba18f7f8>:1: UserWarning: \n",
            "\n",
            "`distplot` is a deprecated function and will be removed in seaborn v0.14.0.\n",
            "\n",
            "Please adapt your code to use either `displot` (a figure-level function with\n",
            "similar flexibility) or `histplot` (an axes-level function for histograms).\n",
            "\n",
            "For a guide to updating your code to use the new functions, please see\n",
            "https://gist.github.com/mwaskom/de44147ed2974457ad6372750bbe5751\n",
            "\n",
            "  sns.distplot(mean_ofall_samples)\n"
          ]
        },
        {
          "output_type": "execute_result",
          "data": {
            "text/plain": [
              "<Axes: ylabel='Density'>"
            ]
          },
          "metadata": {},
          "execution_count": 65
        },
        {
          "output_type": "display_data",
          "data": {
            "text/plain": [
              "<Figure size 640x480 with 1 Axes>"
            ],
            "image/png": "[encoded data removed]"
          },
          "metadata": {}
        }
      ]
    },
    {
      "cell_type": "code",
      "source": [
        "#Hence central limit theorem proved as sampling mean follows normal distribution"
      ],
      "metadata": {
        "id": "ilQRVZY9L6sb"
      },
      "execution_count": 66,
      "outputs": []
    },
    {
      "cell_type": "code",
      "source": [
        "# mean=median =mode in central limit theorem"
      ],
      "metadata": {
        "id": "uf1yOH0cMCLd"
      },
      "execution_count": 75,
      "outputs": []
    },
    {
      "cell_type": "code",
      "source": [
        "np.mean(mean_ofall_samples)"
      ],
      "metadata": {
        "colab": {
          "base_uri": "https://localhost:8080/"
        },
        "id": "I5RSdc_5O-Sm",
        "outputId": "77a0c3a4-5511-45c8-bb2b-5de540c0e2f7"
      },
      "execution_count": 70,
      "outputs": [
        {
          "output_type": "execute_result",
          "data": {
            "text/plain": [
              "4.999046504650465"
            ]
          },
          "metadata": {},
          "execution_count": 70
        }
      ]
    },
    {
      "cell_type": "code",
      "source": [
        "np.median(mean_ofall_samples)"
      ],
      "metadata": {
        "colab": {
          "base_uri": "https://localhost:8080/"
        },
        "id": "attlUtVyPEbn",
        "outputId": "e0d359d7-186f-4a72-ddcd-8f0d903d02d9"
      },
      "execution_count": 71,
      "outputs": [
        {
          "output_type": "execute_result",
          "data": {
            "text/plain": [
              "4.999"
            ]
          },
          "metadata": {},
          "execution_count": 71
        }
      ]
    },
    {
      "cell_type": "code",
      "source": [
        "statistics.mode(mean_ofall_samples)"
      ],
      "metadata": {
        "colab": {
          "base_uri": "https://localhost:8080/"
        },
        "id": "JfKPfpn9PI86",
        "outputId": "321b422a-5b66-4aa7-fae1-3dd3b59b5b5a"
      },
      "execution_count": 74,
      "outputs": [
        {
          "output_type": "execute_result",
          "data": {
            "text/plain": [
              "5.000333333333334"
            ]
          },
          "metadata": {},
          "execution_count": 74
        }
      ]
    },
    {
      "cell_type": "code",
      "source": [
        "#Hypothesis Testing :Z-test,T-test,f-test,annova"
      ],
      "metadata": {
        "id": "741BPdzbPUvc"
      },
      "execution_count": 76,
      "outputs": []
    },
    {
      "cell_type": "code",
      "source": [
        "import scipy.stats as stats"
      ],
      "metadata": {
        "id": "jm-tkFeVQgdf"
      },
      "execution_count": 77,
      "outputs": []
    },
    {
      "cell_type": "code",
      "source": [
        "z_critical=stats.norm.ppf(q=0.95)\n",
        "z_critical"
      ],
      "metadata": {
        "colab": {
          "base_uri": "https://localhost:8080/"
        },
        "id": "CI1XSIXiQmYk",
        "outputId": "143d6e7a-ea15-4532-cd54-84634d0af186"
      },
      "execution_count": 82,
      "outputs": [
        {
          "output_type": "execute_result",
          "data": {
            "text/plain": [
              "1.6448536269514722"
            ]
          },
          "metadata": {},
          "execution_count": 82
        }
      ]
    },
    {
      "cell_type": "code",
      "source": [
        "#Z-critical for given alpha 0.95 value is 1.644"
      ],
      "metadata": {
        "id": "TBr2r9XhQrBk"
      },
      "execution_count": 79,
      "outputs": []
    },
    {
      "cell_type": "code",
      "source": [
        "#t-critical for given alpha calculation\n",
        "stats.t.ppf(df=24,q=0.95)"
      ],
      "metadata": {
        "colab": {
          "base_uri": "https://localhost:8080/"
        },
        "id": "hHPfmmFeRfbi",
        "outputId": "8ac56f54-61ed-46c1-de3b-401406a4b631"
      },
      "execution_count": 80,
      "outputs": [
        {
          "output_type": "execute_result",
          "data": {
            "text/plain": [
              "1.7108820799094275"
            ]
          },
          "metadata": {},
          "execution_count": 80
        }
      ]
    },
    {
      "cell_type": "code",
      "source": [
        "#marginoferror\n",
        "margin_of_error=z_critical*np.std(mean_ofall_samples)/np.sqrt(20)\n",
        "margin_of_error"
      ],
      "metadata": {
        "colab": {
          "base_uri": "https://localhost:8080/"
        },
        "id": "QT73s5uwR-ew",
        "outputId": "db498a48-1a15-48ef-fc34-ddcaff01fe82"
      },
      "execution_count": 84,
      "outputs": [
        {
          "output_type": "execute_result",
          "data": {
            "text/plain": [
              "0.01060693238349689"
            ]
          },
          "metadata": {},
          "execution_count": 84
        }
      ]
    },
    {
      "cell_type": "code",
      "source": [
        "#Calculating confidence interval\n",
        "np.mean(mean_ofall_samples)-margin_of_error,np.mean(mean_ofall_samples)+margin_of_error"
      ],
      "metadata": {
        "colab": {
          "base_uri": "https://localhost:8080/"
        },
        "id": "PeDhBuGAWRZO",
        "outputId": "a04c7105-d7b3-45f8-fc81-17474a8fb779"
      },
      "execution_count": 86,
      "outputs": [
        {
          "output_type": "execute_result",
          "data": {
            "text/plain": [
              "(4.9884395722669685, 5.009653437033962)"
            ]
          },
          "metadata": {},
          "execution_count": 86
        }
      ]
    },
    {
      "cell_type": "code",
      "source": [
        "#Z-test----> 1. Zcritical 2.Pvalue"
      ],
      "metadata": {
        "id": "9ksV_ZffXQGM"
      },
      "execution_count": 88,
      "outputs": []
    },
    {
      "cell_type": "code",
      "source": [
        "#Z-critical method\n",
        "import statistics\n",
        "zcritical=stats.norm.ppf(q=0.95)\n",
        "zcritical"
      ],
      "metadata": {
        "colab": {
          "base_uri": "https://localhost:8080/"
        },
        "id": "o9YWfXSEXY27",
        "outputId": "420442c9-a757-4407-dacf-d3c2839716be"
      },
      "execution_count": 89,
      "outputs": [
        {
          "output_type": "execute_result",
          "data": {
            "text/plain": [
              "1.6448536269514722"
            ]
          },
          "metadata": {},
          "execution_count": 89
        }
      ]
    },
    {
      "cell_type": "code",
      "source": [
        "#P=value method in Ztest\n",
        "#if p-value<=0.05 : reject the null hypothesis\n",
        "#if p-value>0.05 : failed to reject the alterante hypothesis"
      ],
      "metadata": {
        "id": "8s2y2rV10Oo9"
      },
      "execution_count": 100,
      "outputs": []
    },
    {
      "cell_type": "code",
      "source": [
        "population=np.random.randn(1000)\n",
        "population"
      ],
      "metadata": {
        "colab": {
          "base_uri": "https://localhost:8080/"
        },
        "id": "9j3tSnTo0eFl",
        "outputId": "4f5d76d4-e6f1-4ba7-acb5-477883b5a7f4"
      },
      "execution_count": 93,
      "outputs": [
        {
          "output_type": "execute_result",
          "data": {
            "text/plain": [
              "array([ 7.60860468e-01,  1.39749804e+00, -1.08010531e+00, -3.28277060e-01,\n",
              "        1.13586781e+00,  4.97820254e-01, -2.41930440e+00,  5.40165884e-01,\n",
              "       -2.19592055e-01,  8.87298301e-01, -2.20132302e-01,  5.00336924e-02,\n",
              "        2.00649879e-01,  9.28837237e-01, -1.44619953e+00,  1.18366058e+00,\n",
              "        1.04686158e+00,  1.84992142e+00,  9.26141531e-01,  3.32697662e-01,\n",
              "        1.28583402e+00, -6.24848417e-01, -7.52624027e-01,  1.18528256e+00,\n",
              "        1.28049897e+00, -5.55377753e-01, -2.60928910e-01,  4.06907921e-01,\n",
              "       -6.57153781e-01, -2.43534754e+00,  5.10229072e-01,  1.86538712e+00,\n",
              "       -1.26038378e+00, -2.54811136e-01,  9.44923983e-01,  3.70295542e-01,\n",
              "       -1.06344227e+00,  7.97990903e-01, -5.89502400e-01,  9.13791801e-02,\n",
              "       -3.98244239e-01, -1.15526542e-01,  1.01158839e+00,  4.04600301e-01,\n",
              "        2.55489740e-01,  7.11815015e-01,  2.44513739e-01, -1.21303794e+00,\n",
              "        4.70905543e-03, -5.62913556e-01, -4.29113103e-01, -1.81090490e+00,\n",
              "        1.75973416e-01, -7.90868106e-01,  3.40872617e-01, -1.40506438e+00,\n",
              "        1.11502805e+00, -1.11051949e+00,  2.79579268e-01,  6.87981883e-01,\n",
              "        8.62592978e-01, -6.50769203e-01,  3.07767025e-01,  1.49175933e+00,\n",
              "       -9.46543697e-01,  1.68529001e-01, -1.71360774e+00,  4.28633061e-01,\n",
              "        6.68696241e-01, -4.33848873e-02,  1.77314490e-01, -3.28672047e-01,\n",
              "        8.58302968e-01,  1.42331036e+00, -6.97814747e-01,  3.82665528e-01,\n",
              "       -1.28826365e+00, -7.49090773e-01, -1.20339987e+00, -1.12985753e+00,\n",
              "       -2.15714789e+00,  8.16171783e-01,  2.86230373e-01,  8.07059727e-01,\n",
              "        1.02956144e+00,  1.75924908e-01,  8.39583929e-02, -1.70344787e+00,\n",
              "       -1.09215753e+00, -1.12844322e-02, -6.95265784e-01, -3.97976809e-01,\n",
              "        6.95366820e-01,  3.06010013e-01,  2.15045433e+00,  6.07626574e-01,\n",
              "        3.07352521e-01,  1.33187517e+00, -1.34098389e+00,  1.28622398e-01,\n",
              "       -9.67909777e-01, -4.35899312e-01, -1.92852351e+00, -2.19661140e+00,\n",
              "        9.17620067e-02, -1.07188667e+00, -4.81265978e-01,  1.97126794e+00,\n",
              "        6.87087027e-01, -2.51041159e-01,  1.31611976e+00, -4.46717617e-01,\n",
              "       -5.57976508e-01, -1.24843571e+00, -2.47233394e+00,  6.09739379e-01,\n",
              "        1.71650422e+00,  8.71345273e-01, -1.31296982e+00,  1.05461132e+00,\n",
              "        1.42557899e+00, -7.59241702e-01, -6.45928913e-01, -1.71717515e+00,\n",
              "       -1.46473668e+00, -8.18550483e-01, -5.40628924e-01, -7.25079403e-01,\n",
              "        2.06658776e-03, -1.74228500e+00,  1.38646049e+00, -2.75721303e-01,\n",
              "       -1.48142655e+00,  1.62571786e+00,  1.09663449e+00,  8.57487535e-02,\n",
              "       -2.03159214e+00,  4.70012840e-01, -5.68504987e-02,  1.95087087e+00,\n",
              "        2.28341112e-01,  2.34587694e+00,  1.52248033e+00,  1.03568362e+00,\n",
              "       -5.53029986e-01,  1.73609836e+00, -1.43654955e+00, -4.38870793e-02,\n",
              "        6.10502879e-02,  9.87593081e-01, -6.44692067e-01,  1.16892858e-01,\n",
              "       -6.47760163e-02,  7.31309168e-01, -2.72692342e-02,  6.60695695e-01,\n",
              "       -3.17980158e-01, -1.96637073e-01, -2.44649521e-02,  1.99160335e+00,\n",
              "       -1.39115826e+00,  1.34758896e+00, -8.15296016e-01,  4.36530977e-01,\n",
              "       -8.95204136e-01, -1.48217651e+00, -7.20514943e-01,  6.75052285e-01,\n",
              "        4.18080602e-01,  5.46994635e-01, -1.44778637e+00,  1.61740264e+00,\n",
              "        9.32451476e-01,  6.60724713e-01, -9.02840334e-01,  6.80774443e-01,\n",
              "       -3.50583396e-01,  6.78734455e-01, -1.08916913e+00, -4.80115687e-01,\n",
              "        1.37759981e+00, -6.27999943e-02, -1.34666575e+00, -8.64625462e-01,\n",
              "        5.15082292e-02,  3.84121935e-01,  2.51035810e-01,  1.13071455e+00,\n",
              "        1.34309436e+00, -9.70758265e-01, -9.47264635e-01,  1.92103395e+00,\n",
              "        4.45085213e-01, -6.38297412e-01, -1.79111360e-01, -1.73588456e+00,\n",
              "        6.68095918e-01,  1.15125178e+00, -1.22889670e+00, -7.67192370e-01,\n",
              "        1.51525701e+00,  9.57383634e-01,  5.17695133e-01,  1.05719610e+00,\n",
              "        6.62960124e-01,  1.02247333e+00,  9.38570019e-01, -1.17448821e+00,\n",
              "        1.63378446e-02, -1.02859538e+00,  6.91717496e-01, -8.23477395e-01,\n",
              "       -5.69617739e-01,  1.34055684e+00, -1.83224256e+00, -1.36743498e+00,\n",
              "       -1.04383807e+00,  5.82230225e-01, -8.47784614e-01, -8.48503408e-01,\n",
              "       -1.66111748e+00, -7.50880682e-01, -2.94717422e-01, -1.12085456e-01,\n",
              "       -1.22768605e+00,  6.37266269e-01, -6.72385011e-02, -1.05270355e-01,\n",
              "       -8.35021795e-01,  7.94195017e-01,  3.56594318e-01,  1.37684407e+00,\n",
              "        2.52778587e-01, -8.55233147e-01,  3.35734964e-01,  2.36248900e-01,\n",
              "       -1.19974556e+00,  1.54714998e+00,  9.23296448e-01, -1.44215573e+00,\n",
              "       -7.65421770e-01, -4.38084184e-01,  2.61031892e-01,  3.96951856e-01,\n",
              "       -1.39404169e+00, -4.01569024e-01,  1.09711072e+00, -1.31985281e-01,\n",
              "        1.55207527e-01, -6.31910249e-01, -3.82412248e-01,  7.45876664e-01,\n",
              "       -8.84268979e-01, -1.64667900e+00, -6.78099237e-01, -5.20727724e-01,\n",
              "        1.20693812e+00, -1.59628699e-02,  6.64091556e-01,  4.95735675e-01,\n",
              "       -1.62669689e+00,  1.86663369e-01, -1.43628787e-01, -1.61107805e+00,\n",
              "       -1.38523846e-02,  2.88618116e+00, -2.18461794e+00,  3.00567922e+00,\n",
              "        1.35151761e+00,  6.70396884e-03,  1.21831567e+00,  8.34962649e-01,\n",
              "        8.03594977e-01,  1.08361455e+00, -1.01971924e+00,  3.85220517e-01,\n",
              "        1.48303656e+00, -6.33412166e-01, -8.49957298e-02, -6.12912680e-01,\n",
              "        4.62499000e-01,  1.60319826e+00, -7.65586057e-02,  1.78063894e-01,\n",
              "        9.23081632e-01,  5.79415232e-01, -4.13295665e-01, -3.16200216e-02,\n",
              "        9.63138970e-01, -1.05260190e-01,  1.52217706e+00, -9.41840502e-01,\n",
              "        1.26102292e+00,  3.45046545e-01,  1.28569328e+00, -4.64235481e-02,\n",
              "        6.30750498e-01, -2.05274141e+00, -2.44343170e+00, -5.95683235e-02,\n",
              "       -3.58201379e-01, -1.54960700e+00, -4.66343041e-04, -1.97377238e+00,\n",
              "       -1.54684056e-01,  6.50685798e-02,  3.96540284e-01,  1.34550108e+00,\n",
              "        5.64831152e-01, -5.88375714e-01, -2.39572827e-01,  5.16854292e-01,\n",
              "       -4.70475264e-01,  2.47401334e+00,  2.15606439e-01,  7.02015669e-01,\n",
              "        2.73377590e+00, -2.41596810e+00, -4.71833302e-01, -3.99767008e-01,\n",
              "       -1.14373337e-01,  4.13015133e-01, -9.93781012e-01,  2.33911442e-02,\n",
              "        2.99163592e-01,  8.97068137e-01,  1.28864783e+00, -2.99946934e-01,\n",
              "       -1.02689194e+00, -2.82898338e-01, -5.36669486e-01,  4.89000172e-01,\n",
              "        6.90423221e-01, -3.62882979e-01, -9.95052029e-01,  7.26512686e-01,\n",
              "        9.30451855e-01,  1.04285312e-01,  6.56121091e-01, -2.61949717e-01,\n",
              "        6.55416931e-01, -5.08532797e-02,  7.91067582e-01, -1.16186257e-01,\n",
              "        1.96816042e+00, -1.81738299e-01, -7.35882036e-01, -3.28544586e-01,\n",
              "       -9.79948056e-01, -1.02534028e+00, -2.68333248e-01, -2.37066233e-01,\n",
              "        4.29043413e-01,  1.20693646e+00,  1.15990477e-01,  1.38234441e+00,\n",
              "       -4.60394823e-02,  1.29028131e+00,  3.47021661e-01,  8.91441959e-01,\n",
              "       -1.13217349e-01, -1.78404583e-01,  2.08538356e-01, -6.65815329e-01,\n",
              "       -4.11790059e-01,  5.06548532e-01, -5.86593027e-01,  1.81942037e+00,\n",
              "       -1.75896595e+00,  6.87040940e-01, -7.21153221e-01, -1.74456226e-01,\n",
              "       -1.36414858e-01, -3.64837284e-01, -1.61803770e+00, -1.64020219e+00,\n",
              "        6.30459088e-01, -9.86347620e-01, -2.65819336e-01, -2.50769445e-03,\n",
              "        2.01015367e+00,  5.46377597e-01,  1.21623639e+00, -4.29837528e-01,\n",
              "       -8.93557587e-02,  2.17801759e-01, -1.68252877e+00, -5.35712580e-01,\n",
              "       -1.08212550e+00,  4.28678838e-01, -3.98506274e-01, -2.06332615e+00,\n",
              "       -6.72174037e-01,  1.26924794e+00,  3.20534631e-01, -2.81910218e-01,\n",
              "       -1.53446638e+00,  1.89004440e+00,  1.92537927e-01,  4.73737156e-01,\n",
              "       -5.46622191e-01, -6.16146740e-01, -8.12562341e-02,  5.88761266e-01,\n",
              "        1.60539826e+00,  6.65481658e-01,  4.33663878e-01,  1.95457288e+00,\n",
              "        5.52969403e-01,  3.03293048e-01, -1.15067806e-01,  3.82871137e-01,\n",
              "       -2.00120273e+00, -1.70504053e+00, -7.14438363e-01,  1.12356916e-01,\n",
              "       -2.28618361e+00,  6.07750100e-01,  5.74452354e-01,  1.90006833e-01,\n",
              "        9.62352297e-02,  3.49643777e-01, -1.34031910e+00, -1.20122531e+00,\n",
              "        2.49114580e-01, -1.23555478e-01, -2.64484370e-01,  8.82360277e-01,\n",
              "       -6.71441150e-01, -1.42950240e+00,  4.74591576e-02,  2.64617959e+00,\n",
              "       -7.22835626e-02,  4.42183166e-01,  5.28533354e-01, -1.44214386e-01,\n",
              "       -1.71915039e-01,  3.84982815e-01,  5.02270514e-01, -8.51802296e-01,\n",
              "       -8.60456537e-01, -1.38081247e+00,  9.60280095e-01, -4.67878257e-01,\n",
              "        1.55448144e+00, -1.26333904e+00, -1.77771423e-01,  5.44198713e-01,\n",
              "        4.28824183e-01,  6.19977603e-01, -6.42845901e-01, -1.02910244e+00,\n",
              "       -1.07319490e+00, -4.07077449e-01, -5.85239428e-01,  2.18660748e-01,\n",
              "       -8.31224342e-01, -2.35807166e+00, -2.71694521e-01,  1.34366285e+00,\n",
              "       -9.20474064e-02, -1.27813265e+00, -2.46507200e-01, -1.82769359e+00,\n",
              "        2.13686881e+00, -1.48370014e-01, -1.03001493e+00, -1.09317250e+00,\n",
              "       -4.12847462e-01,  2.17740808e-01, -2.36975803e-01, -1.30625656e+00,\n",
              "       -1.28903755e+00,  9.91760661e-01,  1.40281703e+00, -8.09099263e-01,\n",
              "        4.36104614e-01, -3.93664521e-01, -8.18872009e-01,  2.86128092e-02,\n",
              "       -6.44808876e-02, -3.43577032e-01,  2.26904510e+00, -1.62051876e-01,\n",
              "       -8.20930545e-02,  2.81414493e-01, -1.73842369e-01, -3.25090688e-01,\n",
              "       -4.91373153e-01,  3.30684255e-01, -4.00512675e-01,  1.03802151e+00,\n",
              "        1.24978341e+00, -2.00274620e-01,  1.41183618e+00, -5.13421490e-01,\n",
              "        7.11032246e-01, -5.23198107e-01,  4.21361547e-01,  4.82833793e-01,\n",
              "        5.62406746e-01, -1.02404541e+00, -1.53382204e+00,  6.29182435e-01,\n",
              "        1.08836385e+00,  6.91232983e-01,  7.02804671e-01,  7.53096885e-01,\n",
              "        1.61176716e-01, -8.54280973e-01,  2.44100087e-01,  1.36525897e+00,\n",
              "        6.10307450e-01,  6.93078480e-01, -6.25347988e-01,  1.30699523e-01,\n",
              "        7.66834393e-01,  8.90453262e-01,  3.56317486e-01, -4.27848963e+00,\n",
              "        1.30271206e+00,  5.82489341e-02, -3.71019371e-01,  1.39169629e+00,\n",
              "        9.31552608e-01,  9.17961567e-02,  1.21400693e+00,  9.94582232e-03,\n",
              "        1.30605552e-01, -1.14004776e+00,  2.22346148e+00, -2.74573016e-01,\n",
              "       -2.08892943e+00,  4.04563000e-01,  5.29997568e-01, -8.98602959e-01,\n",
              "        5.90603053e-01, -3.34648213e-01, -8.17981296e-01, -1.03624810e+00,\n",
              "        1.05760571e+00,  5.85097484e-01, -6.53179891e-01, -2.64019152e-01,\n",
              "        1.52631797e+00,  4.98936101e-01,  8.99579277e-01, -1.40030758e+00,\n",
              "       -1.62416562e+00, -1.19429751e+00, -9.18375658e-02, -1.17188414e+00,\n",
              "        9.04675869e-01,  5.45933195e-01, -3.66359372e-01,  6.13775730e-01,\n",
              "       -1.51974290e+00,  1.93952461e+00,  9.98980373e-01, -1.20895499e-01,\n",
              "        9.43281925e-01, -5.27023699e-02,  1.31465897e+00, -9.61833030e-01,\n",
              "        1.22851571e+00, -5.07613905e-01, -2.29746860e-01,  1.31807589e+00,\n",
              "        2.30407335e-01,  8.01375048e-01,  1.83566173e-01, -1.10448512e-01,\n",
              "       -5.22504648e-01,  1.27571416e+00,  1.56630134e+00,  4.18237043e-01,\n",
              "        1.06228326e+00, -1.40106567e+00, -1.23833163e+00,  8.80178188e-01,\n",
              "        6.55329644e-01,  2.04361509e+00,  1.83518799e+00,  4.03740363e-01,\n",
              "       -3.94909168e-01,  1.17325817e+00,  1.51408007e+00,  2.91098337e-01,\n",
              "        7.20638473e-01, -2.25965486e-01,  1.96987611e-01,  2.53002562e-01,\n",
              "        1.84825394e-01, -1.06517676e-01, -1.15938819e+00,  8.50372532e-02,\n",
              "        1.26333551e+00,  1.49991398e+00, -9.21946779e-01,  2.42349560e-01,\n",
              "       -5.42916049e-01,  5.28789690e-01,  7.57591642e-01, -3.01097537e-01,\n",
              "        6.52898600e-01,  3.84371378e-01, -7.55807873e-01,  1.43329183e+00,\n",
              "        3.24210942e-04,  2.46988978e+00,  2.07169310e+00, -1.53798693e-01,\n",
              "        4.39756406e-02, -3.49977923e-01, -7.75910698e-01, -6.00294073e-01,\n",
              "        1.04391354e+00, -7.36969790e-02,  9.65019619e-01, -9.17308961e-01,\n",
              "       -8.28864864e-01, -4.73031841e-01, -8.30144345e-02, -1.50779809e+00,\n",
              "       -4.76771018e-01,  9.37700825e-01,  1.66921573e-01, -4.34486275e-02,\n",
              "        1.58685791e+00, -4.84765650e-01, -6.01818580e-01, -2.29753361e-01,\n",
              "       -1.00466021e-01, -2.32095023e-01,  3.13948215e-01,  4.82506660e-01,\n",
              "        1.63547278e-01, -1.18708480e-01, -2.05637697e+00,  1.53595439e+00,\n",
              "        4.68709364e-01, -1.00414937e+00, -5.07889998e-01, -1.61838682e+00,\n",
              "        7.48377705e-01, -1.37151442e+00, -6.07157750e-01,  1.79627151e+00,\n",
              "        1.48891116e+00, -9.46188463e-01, -1.36425783e+00, -4.87819764e-01,\n",
              "       -3.58975776e-01,  4.83339367e-01, -3.90840706e-01,  1.49566635e+00,\n",
              "        1.87673737e+00, -5.10188947e-01, -1.43867341e+00,  2.47846541e-01,\n",
              "       -1.15133592e+00,  4.89690131e-01, -8.65845483e-01,  1.70503295e-01,\n",
              "       -4.42605701e-01,  1.68754909e+00,  2.27455866e-01,  9.05054707e-01,\n",
              "        3.59598647e-01, -1.65506421e+00, -1.30982955e+00, -2.14569735e-01,\n",
              "       -9.80745701e-01, -5.78003484e-02, -8.16506944e-01, -1.03546234e+00,\n",
              "        1.68546768e-01, -1.30378917e-01, -8.31518191e-01, -1.65781235e-01,\n",
              "        1.23979575e-01, -5.64748799e-01, -2.13429284e+00,  3.42407038e-01,\n",
              "        5.57534265e-01,  3.17044344e+00, -6.94728337e-01,  1.90591160e+00,\n",
              "        1.64351622e+00, -3.89077172e-01, -9.80940563e-01,  9.66177706e-01,\n",
              "       -8.51873070e-01, -1.90736338e+00,  7.03024094e-01, -8.12289346e-01,\n",
              "        5.26155759e-02, -5.42983286e-01,  1.45000954e+00, -1.21097980e+00,\n",
              "        1.61413254e-01, -1.53439585e+00, -2.44178313e+00,  1.09405093e+00,\n",
              "       -5.45764655e-01, -6.13666444e-01, -2.71493238e-04, -1.27843574e+00,\n",
              "       -8.70948002e-01, -5.49048011e-01, -9.43752129e-01,  1.10980606e+00,\n",
              "       -1.46902388e-01, -7.39420747e-01, -1.27877711e-01, -1.68161104e+00,\n",
              "        2.62006431e-01,  5.65070523e-01,  3.42001661e-01, -7.79080080e-01,\n",
              "       -7.13642711e-01,  1.30184696e+00,  1.07270496e+00,  5.27349318e-01,\n",
              "       -1.25101073e-01, -1.83831992e+00,  3.62745060e-01, -9.53669140e-02,\n",
              "        6.08663477e-01, -1.08603771e+00,  1.19797055e+00, -1.55310721e+00,\n",
              "       -9.55682861e-01,  1.87826926e-01, -5.58401926e-01,  1.43142775e+00,\n",
              "        5.53241732e-01,  6.79013576e-01, -4.92288788e-01, -3.28677892e-01,\n",
              "       -1.10770617e+00, -5.09140064e-01, -1.04420514e+00, -6.07955738e-01,\n",
              "        6.32354813e-01,  1.05527431e+00, -9.66825292e-01, -2.79843478e-02,\n",
              "       -1.31080621e+00,  8.16909241e-01, -1.37547398e+00, -7.30322982e-01,\n",
              "       -2.37400046e-01,  4.91826554e-01,  3.86860229e-01,  7.00374413e-01,\n",
              "        3.75465462e-02,  1.22087786e+00, -5.27989174e-01,  3.97833620e-01,\n",
              "       -1.99104890e-01,  1.26223380e+00,  4.30073440e-01, -3.70850574e-01,\n",
              "       -6.68472112e-01,  6.79295404e-01, -1.56357810e+00,  9.95342036e-01,\n",
              "        1.36038895e+00,  8.21737928e-01, -3.92437810e-01, -7.67478825e-02,\n",
              "        2.22855533e-03,  1.75449611e+00,  1.60862036e+00,  1.21369549e+00,\n",
              "       -2.52701640e-01,  7.77316604e-01, -4.68519411e-02, -6.45463672e-01,\n",
              "       -1.56630572e+00, -4.77660313e-01,  2.10053299e-01, -2.75342782e-01,\n",
              "        1.55925841e-01,  9.52207822e-01, -2.89000391e-01,  9.36953947e-02,\n",
              "        8.78541864e-02,  1.59752943e+00, -5.88318352e-01, -1.19164094e+00,\n",
              "       -2.05739780e+00, -2.68330959e-01,  4.85413936e-01, -1.79059275e+00,\n",
              "       -1.82392481e-01,  1.58698169e+00,  3.84848898e-01, -1.59047272e+00,\n",
              "        1.66104627e+00,  3.86121034e-01,  1.33248154e-01, -3.18762500e-01,\n",
              "       -1.72646900e+00,  1.36216536e+00,  1.77228320e-01,  1.22573780e+00,\n",
              "       -1.06075792e+00,  1.12120437e+00, -1.19428185e+00, -1.00953551e+00,\n",
              "        6.45613699e-02, -1.80825305e+00,  1.19686570e+00,  9.02143947e-01,\n",
              "        7.21514749e-01, -5.80702941e-02,  5.38228745e-01,  1.71285044e-01,\n",
              "        3.72118550e-01,  7.39686400e-01,  6.11662169e-01, -1.95227737e+00,\n",
              "        3.39130716e-01,  5.31364514e-02,  1.46232854e+00, -8.02539742e-01,\n",
              "       -9.03415882e-01,  1.11112014e-01, -1.18065532e-02,  3.85997369e-01,\n",
              "       -3.94217673e-01, -1.27278765e+00, -6.01658929e-03, -1.72317955e+00,\n",
              "       -6.37947020e-01, -9.94612921e-01, -8.07372520e-01, -2.71997480e-01,\n",
              "       -1.11537734e+00, -3.02151444e-01, -1.24910158e+00, -1.41675182e+00,\n",
              "        1.04335517e+00, -1.03479194e+00, -5.01639465e-01,  6.88063572e-01,\n",
              "       -1.03605147e+00,  1.03051598e+00,  9.14920469e-01, -1.02410626e+00,\n",
              "        1.68222091e+00,  8.40338259e-01, -1.93185839e+00,  1.62797966e+00,\n",
              "        2.15520294e-01,  1.67310615e+00,  4.85580844e-02, -1.26306402e+00,\n",
              "        7.90351040e-01,  7.76817652e-01,  1.10293319e-01, -1.67602669e+00,\n",
              "        4.17808807e-01,  8.73836713e-01, -1.71567316e+00, -5.79813448e-01,\n",
              "        1.34485324e+00, -2.56408278e-01, -2.60198338e-02, -1.69326606e-01,\n",
              "        6.50158627e-01, -7.12450300e-01, -2.60702788e+00,  7.40027796e-01,\n",
              "       -9.24635053e-01,  1.36862161e+00,  2.49789386e+00, -2.04541405e-01,\n",
              "       -8.73108532e-01, -2.45848382e-01,  2.30186436e-03,  1.24780803e+00,\n",
              "        6.62102256e-01, -5.73760653e-01, -2.54722724e+00,  6.24630988e-01,\n",
              "        6.10827491e-02, -1.13736172e+00, -6.50850965e-01, -3.74102724e-01,\n",
              "        1.19610051e-01,  4.22948547e-01, -4.62109307e-01,  1.59896126e+00,\n",
              "       -5.42754562e-01, -5.15478076e-01,  2.30305018e+00, -1.29168506e-01,\n",
              "       -2.36379246e-01,  4.67862212e-01,  1.84249888e+00,  2.73901624e+00,\n",
              "       -1.65185761e+00, -1.91217555e+00, -2.65011069e-01, -2.33465399e+00,\n",
              "       -1.08977077e+00,  1.59065783e+00, -9.62348815e-01, -1.69710807e+00,\n",
              "        5.39581892e-02,  1.11391959e+00, -4.37811052e-01, -2.50980444e+00,\n",
              "       -2.20152161e+00, -5.21851786e-01, -1.13851827e+00, -8.61506725e-02,\n",
              "        2.97619959e-01, -1.00851544e+00,  6.55259321e-01,  1.42998058e+00,\n",
              "       -1.72198159e+00, -2.04901721e+00,  7.73458100e-02, -2.12725242e-01,\n",
              "       -1.06142507e+00, -7.92626899e-01, -2.95084785e-01,  1.04992357e+00,\n",
              "       -1.16536690e+00,  1.99149687e-01,  1.05103258e+00,  9.37258895e-01,\n",
              "        3.03936655e+00, -2.76482498e-01,  1.03570606e+00,  1.19967187e+00,\n",
              "        1.04820137e+00, -2.98152445e-01,  4.97439909e-01,  7.94019696e-01,\n",
              "        5.49325608e-01, -7.23268847e-01, -8.46634941e-02,  2.36137215e+00,\n",
              "       -2.14768113e-01, -2.44701044e-01,  7.38431405e-01,  1.64730703e-02,\n",
              "        1.15292473e+00, -8.13708774e-01,  4.65960237e-01,  3.60525738e-01,\n",
              "        1.01988942e+00, -9.70081473e-01,  1.70030559e+00, -1.16397378e+00,\n",
              "        6.79129003e-01,  6.03886991e-01,  5.46076696e-01,  7.02677838e-01,\n",
              "       -1.02696817e+00, -8.54197875e-01, -5.82788710e-01, -5.09221071e-01,\n",
              "        8.63590438e-01,  4.98237429e-01, -3.43654280e-01, -3.52878900e-01,\n",
              "        2.87071427e-01,  3.48316796e-01, -3.76063864e-01,  1.52906353e+00,\n",
              "        3.21726055e-01, -7.65794154e-01,  4.18275674e-01,  1.77015011e+00,\n",
              "       -1.60899059e-01,  2.89999879e-01,  9.72788688e-01,  9.33291319e-01,\n",
              "        1.41933530e+00, -8.72249951e-01,  1.72675213e+00, -8.87703143e-01,\n",
              "       -6.74569284e-01, -2.67607166e-01, -2.28569890e-01,  6.24995008e-01,\n",
              "        3.42696368e-01, -2.88699643e-02,  1.87010904e+00,  1.15477096e-01,\n",
              "       -9.81699303e-01, -2.07720068e-01,  5.49459658e-01,  1.53274614e-01])"
            ]
          },
          "metadata": {},
          "execution_count": 93
        }
      ]
    },
    {
      "cell_type": "code",
      "source": [
        "np.mean(population), np.std(population)"
      ],
      "metadata": {
        "colab": {
          "base_uri": "https://localhost:8080/"
        },
        "id": "ZJXJGCYV0qMM",
        "outputId": "4fa5b5f1-ad17-4b68-89a3-39c3d5da166b"
      },
      "execution_count": 94,
      "outputs": [
        {
          "output_type": "execute_result",
          "data": {
            "text/plain": [
              "(0.009433608220540197, 1.01783281041141)"
            ]
          },
          "metadata": {},
          "execution_count": 94
        }
      ]
    },
    {
      "cell_type": "code",
      "source": [
        "from statsmodels.stats.weightstats import ztest"
      ],
      "metadata": {
        "id": "DqssfHaI0wCY"
      },
      "execution_count": 95,
      "outputs": []
    },
    {
      "cell_type": "code",
      "source": [
        "null_hypothesis=0.05\n",
        "zscore,pvalue=ztest(population,value=null_hypothesis,alternative='larger')"
      ],
      "metadata": {
        "id": "fQ1tFKfz1TrV"
      },
      "execution_count": 97,
      "outputs": []
    },
    {
      "cell_type": "code",
      "source": [
        "zscore"
      ],
      "metadata": {
        "colab": {
          "base_uri": "https://localhost:8080/"
        },
        "id": "kzqCyWqo1p4L",
        "outputId": "7031c0c6-cace-486f-ac38-c8db38b46101"
      },
      "execution_count": 98,
      "outputs": [
        {
          "output_type": "execute_result",
          "data": {
            "text/plain": [
              "-1.2597160950771678"
            ]
          },
          "metadata": {},
          "execution_count": 98
        }
      ]
    },
    {
      "cell_type": "code",
      "source": [
        "pvalue"
      ],
      "metadata": {
        "colab": {
          "base_uri": "https://localhost:8080/"
        },
        "id": "mqKQrI2W1sIx",
        "outputId": "87618066-cf07-4fbf-b592-d0e5ad1278eb"
      },
      "execution_count": 99,
      "outputs": [
        {
          "output_type": "execute_result",
          "data": {
            "text/plain": [
              "0.8961141014580034"
            ]
          },
          "metadata": {},
          "execution_count": 99
        }
      ]
    },
    {
      "cell_type": "code",
      "source": [
        "if pvalue<=0.05:\n",
        "  print(\"Reject the null hypothesis\")\n",
        "else:\n",
        "  print(\"failed to reject the null hypothesis\")"
      ],
      "metadata": {
        "colab": {
          "base_uri": "https://localhost:8080/"
        },
        "id": "K_V7WVeL2MUM",
        "outputId": "32047543-9b8a-4034-c9ca-b6af8bae0285"
      },
      "execution_count": 102,
      "outputs": [
        {
          "output_type": "stream",
          "name": "stdout",
          "text": [
            "failed to reject the null hypothesis\n"
          ]
        }
      ]
    },
    {
      "cell_type": "markdown",
      "source": [
        "#Z-test question\n"
      ],
      "metadata": {
        "id": "xec8E51G9Uaj"
      }
    },
    {
      "cell_type": "code",
      "source": [
        "# Z-test question implementation\n",
        "#A school calculated iq scores of 50 students and the average turned out to be 100. mean iq of population is 90,standard devoation=16.\n",
        "#level of significance=5%\n",
        "#Null hypothesis=mean_iq=90\n",
        "#alternate hypothesis=mean_iq>90"
      ],
      "metadata": {
        "id": "F0mW-z_Q2eny"
      },
      "execution_count": 112,
      "outputs": []
    },
    {
      "cell_type": "markdown",
      "source": [
        "#Using zcritical approach\n"
      ],
      "metadata": {
        "id": "QfrBPfLO8NYE"
      }
    },
    {
      "cell_type": "code",
      "source": [
        "import scipy.stats as stats\n",
        "sample_mean=100\n",
        "population_mean=90\n",
        "population_std=16\n",
        "sample_size=50\n",
        "alpha=0.05"
      ],
      "metadata": {
        "id": "lHirNLfx8L9Z"
      },
      "execution_count": 113,
      "outputs": []
    },
    {
      "cell_type": "code",
      "source": [
        "zscore=(sample_mean-population_mean)/(population_std/np.sqrt(sample_size))\n",
        "zscore"
      ],
      "metadata": {
        "colab": {
          "base_uri": "https://localhost:8080/"
        },
        "id": "uoRB-LNx8qUp",
        "outputId": "8af7d0ff-8c34-49b0-9871-cdd066b41b7f"
      },
      "execution_count": 115,
      "outputs": [
        {
          "output_type": "execute_result",
          "data": {
            "text/plain": [
              "4.419417382415922"
            ]
          },
          "metadata": {},
          "execution_count": 115
        }
      ]
    },
    {
      "cell_type": "code",
      "source": [
        "z_critical=stats.norm.ppf(1-alpha)\n",
        "z_critical"
      ],
      "metadata": {
        "colab": {
          "base_uri": "https://localhost:8080/"
        },
        "id": "1SbWuMfD88-0",
        "outputId": "f9e89af7-53a6-4ca9-f15b-9d0f16eb2cb7"
      },
      "execution_count": 116,
      "outputs": [
        {
          "output_type": "execute_result",
          "data": {
            "text/plain": [
              "1.6448536269514722"
            ]
          },
          "metadata": {},
          "execution_count": 116
        }
      ]
    },
    {
      "cell_type": "code",
      "source": [
        "if zscore>zcritical:\n",
        "  print(\"Reject the hypothesis\")\n",
        "else:\n",
        "  print(\"Failed to reject the hypothesis\")"
      ],
      "metadata": {
        "colab": {
          "base_uri": "https://localhost:8080/"
        },
        "id": "1LQbjXCZ9G3w",
        "outputId": "50d815a9-894d-41a8-d049-24902a4ee708"
      },
      "execution_count": 117,
      "outputs": [
        {
          "output_type": "stream",
          "name": "stdout",
          "text": [
            "Reject the hypothesis\n"
          ]
        }
      ]
    },
    {
      "cell_type": "markdown",
      "source": [
        "#p-value approach using scipy"
      ],
      "metadata": {
        "id": "b7dcdV1K94Yr"
      }
    },
    {
      "cell_type": "code",
      "source": [
        "p_value=1-stats.norm.cdf(zscore)\n",
        "p_value"
      ],
      "metadata": {
        "colab": {
          "base_uri": "https://localhost:8080/"
        },
        "id": "7kaHPea-98Gi",
        "outputId": "beb29a04-60e0-4ee9-afb1-c75445dba985"
      },
      "execution_count": 119,
      "outputs": [
        {
          "output_type": "execute_result",
          "data": {
            "text/plain": [
              "4.948367312573865e-06"
            ]
          },
          "metadata": {},
          "execution_count": 119
        }
      ]
    },
    {
      "cell_type": "code",
      "source": [
        "\n",
        "if p_value<=alpha:\n",
        "  print(\"Reject the hypothesis\")\n",
        "else:\n",
        "  print(\"failed to reject the null hypothesis\")"
      ],
      "metadata": {
        "colab": {
          "base_uri": "https://localhost:8080/"
        },
        "id": "2flavnnK-Jhb",
        "outputId": "c38ad90c-7d12-4e9c-a356-99b10ddc4ae1"
      },
      "execution_count": 122,
      "outputs": [
        {
          "output_type": "stream",
          "name": "stdout",
          "text": [
            "Reject the hypothesis\n"
          ]
        }
      ]
    },
    {
      "cell_type": "markdown",
      "source": [
        "# How to know if teh data is normally distributed or not?"
      ],
      "metadata": {
        "id": "fUkXiUZrQ40l"
      }
    },
    {
      "cell_type": "code",
      "source": [
        "#Make distplot,Q-Q plot\n",
        "#statistical test to check data is normally distributed or not  shapirotest?"
      ],
      "metadata": {
        "id": "YtlvlSPCQ-Ki"
      },
      "execution_count": 146,
      "outputs": []
    },
    {
      "cell_type": "code",
      "source": [
        "data=np.random.randn(10000)"
      ],
      "metadata": {
        "id": "qfB4Y8W4S_gk"
      },
      "execution_count": 147,
      "outputs": []
    },
    {
      "cell_type": "code",
      "source": [
        "from scipy import stats\n",
        "stats.shapiro(data)"
      ],
      "metadata": {
        "colab": {
          "base_uri": "https://localhost:8080/"
        },
        "id": "h5VTt7dMTO0D",
        "outputId": "199ea8e9-b7b0-4d30-cd4f-ba83a537fd4b"
      },
      "execution_count": 151,
      "outputs": [
        {
          "output_type": "stream",
          "name": "stderr",
          "text": [
            "/usr/local/lib/python3.10/dist-packages/scipy/stats/_morestats.py:1882: UserWarning: p-value may not be accurate for N > 5000.\n",
            "  warnings.warn(\"p-value may not be accurate for N > 5000.\")\n"
          ]
        },
        {
          "output_type": "execute_result",
          "data": {
            "text/plain": [
              "ShapiroResult(statistic=0.9998988509178162, pvalue=0.9668565988540649)"
            ]
          },
          "metadata": {},
          "execution_count": 151
        }
      ]
    },
    {
      "cell_type": "code",
      "source": [
        "#Pvalue >0.05 failed to reject it"
      ],
      "metadata": {
        "id": "5AeKRELuTmNL"
      },
      "execution_count": 152,
      "outputs": []
    },
    {
      "cell_type": "code",
      "source": [
        "sns.distplot(df['tip'])"
      ],
      "metadata": {
        "colab": {
          "base_uri": "https://localhost:8080/",
          "height": 657
        },
        "id": "Kxz3quinTu9e",
        "outputId": "0020b218-12eb-4d3e-8fda-8487a08c40b1"
      },
      "execution_count": 156,
      "outputs": [
        {
          "output_type": "stream",
          "name": "stderr",
          "text": [
            "<ipython-input-156-3f4491b3d128>:1: UserWarning: \n",
            "\n",
            "`distplot` is a deprecated function and will be removed in seaborn v0.14.0.\n",
            "\n",
            "Please adapt your code to use either `displot` (a figure-level function with\n",
            "similar flexibility) or `histplot` (an axes-level function for histograms).\n",
            "\n",
            "For a guide to updating your code to use the new functions, please see\n",
            "https://gist.github.com/mwaskom/de44147ed2974457ad6372750bbe5751\n",
            "\n",
            "  sns.distplot(df['tip'])\n"
          ]
        },
        {
          "output_type": "execute_result",
          "data": {
            "text/plain": [
              "<Axes: xlabel='tip', ylabel='Density'>"
            ]
          },
          "metadata": {},
          "execution_count": 156
        },
        {
          "output_type": "display_data",
          "data": {
            "text/plain": [
              "<Figure size 640x480 with 1 Axes>"
            ],
            "image/png": "[encoded data removed]"
          },
          "metadata": {}
        }
      ]
    },
    {
      "cell_type": "code",
      "source": [
        "# In order to confirm tips is not normally distributed we can perform shapiro test to conform more on it rather than confirming only by visualization"
      ],
      "metadata": {
        "id": "qmZbq7laUQgX"
      },
      "execution_count": 157,
      "outputs": []
    },
    {
      "cell_type": "code",
      "source": [
        "stats.shapiro(df['tip'])"
      ],
      "metadata": {
        "colab": {
          "base_uri": "https://localhost:8080/"
        },
        "id": "70GXeRdiUffV",
        "outputId": "1ac112ae-8945-4900-da66-2ee7437f4b6c"
      },
      "execution_count": 158,
      "outputs": [
        {
          "output_type": "execute_result",
          "data": {
            "text/plain": [
              "ShapiroResult(statistic=0.8978114128112793, pvalue=8.200817629144819e-12)"
            ]
          },
          "metadata": {},
          "execution_count": 158
        }
      ]
    },
    {
      "cell_type": "code",
      "source": [
        "#pvalue<0.05 : reject the null hypothesis and  it is confirmed that  sample is not normally distributed"
      ],
      "metadata": {
        "id": "D5Z8pkMFUmDC"
      },
      "execution_count": 160,
      "outputs": []
    },
    {
      "cell_type": "markdown",
      "source": [
        "#t-test"
      ],
      "metadata": {
        "id": "n95xXeKD-3tw"
      }
    },
    {
      "cell_type": "code",
      "source": [
        "#sample size<30 and sigma of population is not given\n",
        "#One-sample t-test:(wrt one sample t-test)\n",
        "#Two-sample t-test:(wrt two sample t-test)\n",
        "#Paired t-test"
      ],
      "metadata": {
        "id": "feXpJDyz-5mp"
      },
      "execution_count": 125,
      "outputs": []
    },
    {
      "cell_type": "markdown",
      "source": [
        "# One sample t-test"
      ],
      "metadata": {
        "id": "wvq8ExKuCp2Z"
      }
    },
    {
      "cell_type": "code",
      "source": [
        "population=np.random.randint(10,50,50)\n",
        "population"
      ],
      "metadata": {
        "colab": {
          "base_uri": "https://localhost:8080/"
        },
        "id": "ZZEOzmnb-_nU",
        "outputId": "91acde06-24b5-4dcd-f78b-f3535c0a3d88"
      },
      "execution_count": 126,
      "outputs": [
        {
          "output_type": "execute_result",
          "data": {
            "text/plain": [
              "array([18, 34, 48, 25, 22, 48, 13, 16, 19, 24, 39, 18, 39, 36, 38, 32, 15,\n",
              "       47, 45, 24, 41, 13, 29, 22, 14, 22, 48, 27, 20, 25, 35, 15, 30, 45,\n",
              "       46, 47, 16, 45, 39, 45, 33, 29, 29, 19, 13, 45, 10, 34, 30, 32])"
            ]
          },
          "metadata": {},
          "execution_count": 126
        }
      ]
    },
    {
      "cell_type": "code",
      "source": [
        "sample=np.random.choice(population,20)\n",
        "sample"
      ],
      "metadata": {
        "colab": {
          "base_uri": "https://localhost:8080/"
        },
        "id": "J0MLqGkOEBaa",
        "outputId": "40425720-9912-4e9a-ab78-ededb6a36412"
      },
      "execution_count": 127,
      "outputs": [
        {
          "output_type": "execute_result",
          "data": {
            "text/plain": [
              "array([39, 29, 19, 22, 47, 24, 36, 18, 18, 45, 35, 29, 13, 19, 45, 18, 47,\n",
              "       22, 34, 34])"
            ]
          },
          "metadata": {},
          "execution_count": 127
        }
      ]
    },
    {
      "cell_type": "code",
      "source": [
        "null_hypothesis=25\n",
        "import scipy\n",
        "scipy.stats.ttest_1samp(sample,null_hypothesis)"
      ],
      "metadata": {
        "colab": {
          "base_uri": "https://localhost:8080/"
        },
        "id": "PCZzQApZEIaI",
        "outputId": "9e7b5ec3-f338-42d2-911f-156a7fd24af1"
      },
      "execution_count": 128,
      "outputs": [
        {
          "output_type": "execute_result",
          "data": {
            "text/plain": [
              "TtestResult(statistic=1.8784600678462346, pvalue=0.07575136457037111, df=19)"
            ]
          },
          "metadata": {},
          "execution_count": 128
        }
      ]
    },
    {
      "cell_type": "code",
      "source": [
        "#if pvalue<=0.05 \"reject the null hypothesis \" else \"failed to reject thr null hypothesis\""
      ],
      "metadata": {
        "id": "plQo3_hqEfSS"
      },
      "execution_count": 129,
      "outputs": []
    },
    {
      "cell_type": "markdown",
      "source": [
        "# Two Sample ttest"
      ],
      "metadata": {
        "id": "DZaLkEIIE0Uc"
      }
    },
    {
      "cell_type": "code",
      "source": [
        "virat_score=np.random.choice(population,20)\n",
        "virat_score"
      ],
      "metadata": {
        "colab": {
          "base_uri": "https://localhost:8080/"
        },
        "id": "IKyrQ1DaE3Wv",
        "outputId": "74a11fc3-d10c-4caf-c1c8-61bc10e9681f"
      },
      "execution_count": 131,
      "outputs": [
        {
          "output_type": "execute_result",
          "data": {
            "text/plain": [
              "array([39, 47, 13, 47, 45, 45, 48, 16, 30, 15, 18, 35, 15, 48, 29, 29, 25,\n",
              "       45, 45, 13])"
            ]
          },
          "metadata": {},
          "execution_count": 131
        }
      ]
    },
    {
      "cell_type": "code",
      "source": [
        "rohit_sharma_score=np.random.choice(population,20)\n",
        "rohit_sharma_score"
      ],
      "metadata": {
        "colab": {
          "base_uri": "https://localhost:8080/"
        },
        "id": "upMBowowErTA",
        "outputId": "cc1c19ca-9fd1-425d-844f-9f2a04e70d75"
      },
      "execution_count": 132,
      "outputs": [
        {
          "output_type": "execute_result",
          "data": {
            "text/plain": [
              "array([22, 48, 39, 35, 39, 33, 22, 32, 39, 22, 32, 38, 24, 29, 24, 46, 24,\n",
              "       16, 29, 45])"
            ]
          },
          "metadata": {},
          "execution_count": 132
        }
      ]
    },
    {
      "cell_type": "code",
      "source": [
        "np.mean(rohit_sharma_score), np.mean(virat_score)"
      ],
      "metadata": {
        "colab": {
          "base_uri": "https://localhost:8080/"
        },
        "id": "cc2b3yOdMgdE",
        "outputId": "6872ca53-b49c-4e29-cd7b-c987636e6fef"
      },
      "execution_count": 134,
      "outputs": [
        {
          "output_type": "execute_result",
          "data": {
            "text/plain": [
              "(31.9, 32.35)"
            ]
          },
          "metadata": {},
          "execution_count": 134
        }
      ]
    },
    {
      "cell_type": "code",
      "source": [
        "scipy.stats.ttest_ind(rohit_sharma_score,virat_score)"
      ],
      "metadata": {
        "colab": {
          "base_uri": "https://localhost:8080/"
        },
        "id": "NHU82h4xNMLq",
        "outputId": "e9c4d792-fc67-4f1c-c823-470ff65a625c"
      },
      "execution_count": 136,
      "outputs": [
        {
          "output_type": "execute_result",
          "data": {
            "text/plain": [
              "TtestResult(statistic=-0.12287815701277742, pvalue=0.9028511855233206, df=38.0)"
            ]
          },
          "metadata": {},
          "execution_count": 136
        }
      ]
    },
    {
      "cell_type": "code",
      "source": [
        "#pvalue=0.9028511855233206>0.05 failed to reject the hypothesis"
      ],
      "metadata": {
        "id": "BUCSIbP9NaXo"
      },
      "execution_count": 137,
      "outputs": []
    },
    {
      "cell_type": "markdown",
      "source": [
        "#paired ttest:two samples from same  population at different level"
      ],
      "metadata": {
        "id": "jYmIs4CWN0GL"
      }
    },
    {
      "cell_type": "code",
      "source": [
        "rohit_score_first_inning=[10,12,14,16,18,20,22,24,26,28,30]\n",
        "rohit_score_second_inning=[12,16,14,20,18,24,21,28,27,10,32]"
      ],
      "metadata": {
        "id": "i597c3BxOEaj"
      },
      "execution_count": 142,
      "outputs": []
    },
    {
      "cell_type": "code",
      "source": [
        "np.mean(rohit_score_first_inning) , np.mean(rohit_score_second_inning)"
      ],
      "metadata": {
        "colab": {
          "base_uri": "https://localhost:8080/"
        },
        "id": "AitfsPU4N3fQ",
        "outputId": "72dcfacd-5a4f-41b9-d527-c783723af03b"
      },
      "execution_count": 143,
      "outputs": [
        {
          "output_type": "execute_result",
          "data": {
            "text/plain": [
              "(20.0, 20.181818181818183)"
            ]
          },
          "metadata": {},
          "execution_count": 143
        }
      ]
    },
    {
      "cell_type": "code",
      "source": [
        "scipy.stats.ttest_rel(rohit_score_first_inning,rohit_score_second_inning)"
      ],
      "metadata": {
        "colab": {
          "base_uri": "https://localhost:8080/"
        },
        "id": "mz0xZEy1PZjV",
        "outputId": "2a5bab95-6394-4324-8315-0e6f6f82ce74"
      },
      "execution_count": 144,
      "outputs": [
        {
          "output_type": "execute_result",
          "data": {
            "text/plain": [
              "TtestResult(statistic=-0.09562921842487447, pvalue=0.9257042876328008, df=10)"
            ]
          },
          "metadata": {},
          "execution_count": 144
        }
      ]
    },
    {
      "cell_type": "code",
      "source": [
        "#pvalue=0.9028511855233206>0.05 failed to reject the hypothesis"
      ],
      "metadata": {
        "id": "UuqlYL9dPjN0"
      },
      "execution_count": null,
      "outputs": []
    }
  ]
}